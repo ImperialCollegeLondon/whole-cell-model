{
 "cells": [
  {
   "cell_type": "markdown",
   "metadata": {},
   "source": [
    "Set up file for AA ABC"
   ]
  },
  {
   "cell_type": "code",
   "execution_count": null,
   "metadata": {},
   "outputs": [],
   "source": [
    "thetar= 426.8693338968694 #ribosome transcription threshold, molecules per cell\n",
    "gmax= 1260.0 #max translational elongation rate, amino acid per minute molecule\n",
    "thetax= 4.379733394834643 #non ribosomal transcription threshold, molecules per cell\n",
    "M= 1.0e8 #total mass of the cell (fixed)\n",
    "Ms=1.0e4 #mid log mass of the cell\n",
    "vm= 5800.0 #max (metabolic?) enzymatic rate, per minute\n",
    "vmax_nit = 0.0#650 #max rate of nitrogenase protein., nmol NH4 per minute per mg from Barney, Yurth et al. 2009\n",
    "vt= 726.0 #max rate of movement of substrate by transporter protein\n",
    "vmax_AA = 0.0#1000 #max turnover of subtrates and NH4 into amino acids by AA protein\n",
    "Kq= 152219.0403737490 #housekeeping proteins autoinhibition threshold\n",
    "#Kp= 0 #180.1378030928276 #net rate of translating gratuitous proteins\n",
    "Kt= 1.0e3 #the half maximal nutrient import threshold, molecules per cell minute\n",
    "Km= 1.0e3 #half maximal enzymatic threshold (for michealas menton kinetics)\n",
    "Km_nit = 0.0#Km #0.18 #half maximal enzymatic threshold for nitrogenase. from Barney, Yurth et al. 2009\n",
    "we= 4.139172187824451#max enzyme mRNA transcription rate\n",
    "wr= 929.9678874564831 #rate of transcription of ribosomal protein mRNAs\n",
    "wq= 948.9349882947897 #rate of transcription of housekeeping protein mRNAs\n",
    "v_nit= 0.0#900 #rate of transcription of nitrogenase coding mRNAs\n",
    "w_AA= 900.0 #rate of transcription of AA making protein\n",
    "############################################################\n",
    "############need to look this ^ up!#########################\n",
    "############################################################\n",
    "nq= 4 #housekeeping protein autoinhibition Hill coefficient\n",
    "nr= 7549.0 #ribosome length (num amino acids)\n",
    "ns= 100.0 #0.5 #substrate use effiency\n",
    "nx= 300.0 #length of non ribosomal proteins (num amino acids per protein)\n",
    "dm= 0.1 #mRNA degredation rate\n",
    "ds= 0.01 #rate of chemostat dilution\n",
    "death_rate = ds #death rate of bacteria\n",
    "kb= 1.0 #rate of mRNA-ribosome binding\n",
    "ku= 1.0 #rate of mRNA-ribosome unbinding #was set to one originally\n",
    "rmr_0= 0.0\n",
    "em_0= 0.0\n",
    "rmq_0= 0.0\n",
    "rmt_0= 0.0\n",
    "et_0= 0.0\n",
    "rmm_0= 0.0\n",
    "mt_0= 0.0\n",
    "mm_0= 0.0\n",
    "q_0= 0.0\n",
    "si_0= 0.0\n",
    "mq_0= 0.0\n",
    "mr_0= 0.0\n",
    "r_0= 10.0\n",
    "a_0= 1000.0\n",
    "NH4_0 = 1000.0 #num of ammonia particles fixed by nitrogenase\n",
    "nit_0 = 0.0 #num nitrogenase proteins\n",
    "nit_mrna_0 = 0.0 #num of nitrogenase coding mRNA molecules\n",
    "nit_mrna_ribo_0 = 0.0#num of nitrogenase mRNA-ribosome complexes\n",
    "s_out = 10e10 #external substrate\n",
    "exported_0= 0.0#total amount of NH4 exported\n",
    "N_0 = 1.0 #num of bacteria cells to start with\n",
    "AA_0 = 50000.0#9.6e8 #num of amino acids to start with\n",
    "AA_prot_0 = 1.0\n",
    "AA_mrna_0=0.0\n",
    "AA_mrna_ribo_0=0.0\n",
    "\n",
    "init= [s_out,rmr_0,em_0,rmq_0,rmt_0,et_0,rmm_0,\n",
    "    mt_0,mm_0,q_0,si_0,mq_0,mr_0,r_0,\n",
    "    NH4_0,nit_mrna_0,nit_mrna_ribo_0,nit_0,exported_0,N_0,a_0, AA_0, AA_prot_0,AA_mrna_0,AA_mrna_ribo_0]\n"
   ]
  },
  {
   "cell_type": "code",
   "execution_count": null,
   "metadata": {},
   "outputs": [],
   "source": []
  },
  {
   "cell_type": "code",
   "execution_count": null,
   "metadata": {},
   "outputs": [],
   "source": []
  }
 ],
 "metadata": {
  "kernelspec": {
   "display_name": "Julia 1.2.0",
   "language": "julia",
   "name": "julia-1.2"
  },
  "language_info": {
   "file_extension": ".jl",
   "mimetype": "application/julia",
   "name": "julia",
   "version": "1.2.0"
  }
 },
 "nbformat": 4,
 "nbformat_minor": 4
}
