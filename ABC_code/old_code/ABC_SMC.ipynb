{
 "cells": [
  {
   "cell_type": "markdown",
   "metadata": {},
   "source": [
    "using the ApproxBayes package to choose the optimal parameters for my amino acid model.\n",
    "\n",
    "6 model parameters to be inferred\n",
    "\n",
    "3 extra parameters to choose: epsilon, the perturbation kernel specs, and the number of particles to accept"
   ]
  },
  {
   "cell_type": "code",
   "execution_count": 9,
   "metadata": {
    "scrolled": true
   },
   "outputs": [
    {
     "name": "stdout",
     "output_type": "stream",
     "text": [
      "\u001b[32m\u001b[1m Resolving\u001b[22m\u001b[39m package versions...\n",
      "\u001b[32m\u001b[1m Installed\u001b[22m\u001b[39m StanDump ───────── v0.2.0\n",
      "\u001b[32m\u001b[1m Installed\u001b[22m\u001b[39m StanVariational ── v1.1.6\n",
      "\u001b[32m\u001b[1m Installed\u001b[22m\u001b[39m StanBase ───────── v1.1.6\n",
      "\u001b[32m\u001b[1m Installed\u001b[22m\u001b[39m StanSamples ────── v0.1.0\n",
      "\u001b[32m\u001b[1m Installed\u001b[22m\u001b[39m Observables ────── v0.2.3\n",
      "\u001b[32m\u001b[1m Installed\u001b[22m\u001b[39m BinDeps ────────── v1.0.0\n",
      "\u001b[32m\u001b[1m Installed\u001b[22m\u001b[39m StanDiagnose ───── v1.1.5\n",
      "\u001b[32m\u001b[1m Installed\u001b[22m\u001b[39m Stan ───────────── v5.1.0\n",
      "\u001b[32m\u001b[1m Installed\u001b[22m\u001b[39m FilePathsBase ──── v0.7.0\n",
      "\u001b[32m\u001b[1m Installed\u001b[22m\u001b[39m URIParser ──────── v0.4.0\n",
      "\u001b[32m\u001b[1m Installed\u001b[22m\u001b[39m Widgets ────────── v0.6.2\n",
      "\u001b[32m\u001b[1m Installed\u001b[22m\u001b[39m NearestNeighbors ─ v0.4.4\n",
      "\u001b[32m\u001b[1m Installed\u001b[22m\u001b[39m ElasticArrays ──── v1.0.0\n",
      "\u001b[32m\u001b[1m Installed\u001b[22m\u001b[39m StanOptimize ───── v1.1.5\n",
      "\u001b[32m\u001b[1m Installed\u001b[22m\u001b[39m Documenter ─────── v0.24.3\n",
      "\u001b[32m\u001b[1m Installed\u001b[22m\u001b[39m StatsPlots ─────── v0.12.0\n",
      "\u001b[32m\u001b[1m Installed\u001b[22m\u001b[39m StanSample ─────── v1.1.5\n",
      "\u001b[32m\u001b[1m Installed\u001b[22m\u001b[39m CSV ────────────── v0.5.22\n",
      "\u001b[32m\u001b[1m Installed\u001b[22m\u001b[39m Clustering ─────── v0.13.3\n",
      "\u001b[32m\u001b[1m  Updating\u001b[22m\u001b[39m `~/.julia/environments/v1.3/Project.toml`\n",
      " \u001b[90m [682df890]\u001b[39m\u001b[92m + Stan v5.1.0\u001b[39m\n",
      "\u001b[32m\u001b[1m  Updating\u001b[22m\u001b[39m `~/.julia/environments/v1.3/Manifest.toml`\n",
      " \u001b[90m [9e28174c]\u001b[39m\u001b[92m + BinDeps v1.0.0\u001b[39m\n",
      " \u001b[90m [336ed68f]\u001b[39m\u001b[92m + CSV v0.5.22\u001b[39m\n",
      " \u001b[90m [aaaa29a8]\u001b[39m\u001b[92m + Clustering v0.13.3\u001b[39m\n",
      " \u001b[90m [e30172f5]\u001b[39m\u001b[92m + Documenter v0.24.3\u001b[39m\n",
      " \u001b[90m [fdbdab4c]\u001b[39m\u001b[92m + ElasticArrays v1.0.0\u001b[39m\n",
      " \u001b[90m [48062228]\u001b[39m\u001b[92m + FilePathsBase v0.7.0\u001b[39m\n",
      " \u001b[90m [b8a86587]\u001b[39m\u001b[92m + NearestNeighbors v0.4.4\u001b[39m\n",
      " \u001b[90m [510215fc]\u001b[39m\u001b[92m + Observables v0.2.3\u001b[39m\n",
      " \u001b[90m [682df890]\u001b[39m\u001b[92m + Stan v5.1.0\u001b[39m\n",
      " \u001b[90m [d0ee94f6]\u001b[39m\u001b[92m + StanBase v1.1.6\u001b[39m\n",
      " \u001b[90m [fb13fc95]\u001b[39m\u001b[92m + StanDiagnose v1.1.5\u001b[39m\n",
      " \u001b[90m [9713c8f3]\u001b[39m\u001b[92m + StanDump v0.2.0\u001b[39m\n",
      " \u001b[90m [fbd8da12]\u001b[39m\u001b[92m + StanOptimize v1.1.5\u001b[39m\n",
      " \u001b[90m [c1514b29]\u001b[39m\u001b[92m + StanSample v1.1.5\u001b[39m\n",
      " \u001b[90m [52d0d7a9]\u001b[39m\u001b[92m + StanSamples v0.1.0\u001b[39m\n",
      " \u001b[90m [6ede68ce]\u001b[39m\u001b[92m + StanVariational v1.1.6\u001b[39m\n",
      " \u001b[90m [f3b207a7]\u001b[39m\u001b[92m + StatsPlots v0.12.0\u001b[39m\n",
      " \u001b[90m [30578b45]\u001b[39m\u001b[92m + URIParser v0.4.0\u001b[39m\n",
      " \u001b[90m [cc8bc4a8]\u001b[39m\u001b[92m + Widgets v0.6.2\u001b[39m\n"
     ]
    }
   ],
   "source": [
    "using Pkg\n",
    "Pkg.add(\"Stan\")"
   ]
  },
  {
   "cell_type": "code",
   "execution_count": null,
   "metadata": {},
   "outputs": [],
   "source": []
  },
  {
   "cell_type": "code",
   "execution_count": null,
   "metadata": {},
   "outputs": [],
   "source": []
  },
  {
   "cell_type": "code",
   "execution_count": null,
   "metadata": {},
   "outputs": [],
   "source": []
  },
  {
   "cell_type": "code",
   "execution_count": 39,
   "metadata": {
    "scrolled": true
   },
   "outputs": [
    {
     "ename": "ArgumentError",
     "evalue": "ArgumentError: Package ParameterizedFunctions not found in current path:\n- Run `import Pkg; Pkg.add(\"ParameterizedFunctions\")` to install the ParameterizedFunctions package.\n",
     "output_type": "error",
     "traceback": [
      "ArgumentError: Package ParameterizedFunctions not found in current path:\n- Run `import Pkg; Pkg.add(\"ParameterizedFunctions\")` to install the ParameterizedFunctions package.\n",
      "",
      "Stacktrace:",
      " [1] require(::Module, ::Symbol) at ./loading.jl:887",
      " [2] top-level scope at In[39]:10"
     ]
    }
   ],
   "source": [
    "using ODE\n",
    "using DifferentialEquations\n",
    "using Pandas\n",
    "using Plots\n",
    "using Distributions\n",
    "using ApproxBayes\n",
    "using DiffEqBayes\n",
    "using ModelingToolkit\n",
    "using Stan\n",
    "# using ParameterizedFunctions\n"
   ]
  },
  {
   "cell_type": "code",
   "execution_count": 40,
   "metadata": {},
   "outputs": [
    {
     "name": "stdout",
     "output_type": "stream",
     "text": [
      "parameters setup complete\n"
     ]
    }
   ],
   "source": [
    "# include(\"../code/multilevel-functions.jl\");\n",
    "# println(\"AA_simple and AA_popn_growth functions available\")\n",
    "include(\"setup_ABC.jl\")\n",
    "println(\"parameters setup complete\")"
   ]
  },
  {
   "cell_type": "code",
   "execution_count": 55,
   "metadata": {},
   "outputs": [
    {
     "name": "stdout",
     "output_type": "stream",
     "text": [
      "running with parameters 10.0-10.0-10.0-10.0-10.0-10.0\n",
      "burn in complete\n"
     ]
    }
   ],
   "source": [
    "time1= 10000.0\n",
    "problm = ODEProblem(AA_simple,init,(0.,time1))\n",
    "#the line above runs the single cell model with AA. no cell growth or nitrogenase\n",
    "println(\"running with parameters $k_cat_AA-$k_a_NH4-$k_NH4-$k_a_AA-$k_NH4_AA-$k_ribo_a\")\n",
    "solved = ODE.solve(problm)\n",
    "df1= DataFrame(solved)\n",
    "println(\"burn in complete\")"
   ]
  },
  {
   "cell_type": "code",
   "execution_count": null,
   "metadata": {},
   "outputs": [],
   "source": []
  },
  {
   "cell_type": "code",
   "execution_count": 42,
   "metadata": {},
   "outputs": [],
   "source": [
    "input2 = 10000.0\n",
    "time2 = time1 + input2\n",
    "endstate = size(solved,2)\n",
    "init2 =solved[endstate]\n",
    "problm2 = ODEProblem(AA_popn_growth,init2,(time1,time2));\n",
    "# println(\"running AA popn growth\")\n",
    "# solved2 = solve(problm2)\n",
    "# println(\"AA popn growth complete\")"
   ]
  },
  {
   "cell_type": "code",
   "execution_count": 46,
   "metadata": {},
   "outputs": [
    {
     "ename": "UndefVarError",
     "evalue": "UndefVarError: priors not defined",
     "output_type": "error",
     "traceback": [
      "UndefVarError: priors not defined",
      "",
      "Stacktrace:",
      " [1] top-level scope at In[46]:2"
     ]
    }
   ],
   "source": [
    "data = [1,2,3]\n",
    "priors = [Uniform()]\n",
    "abc_inference(problm2, Tsit5(), t, data, priors; ϵ=0.001,\n",
    "    ABCalgorithm = ABCSMC)"
   ]
  },
  {
   "cell_type": "code",
   "execution_count": 14,
   "metadata": {},
   "outputs": [
    {
     "data": {
      "text/plain": [
       "25-element Array{Float64,1}:\n",
       "      1.0e11            \n",
       "   4407.834024297853    \n",
       "    321.535134369576    \n",
       "   1615.4112048844129   \n",
       "      7.370060728234548 \n",
       "    321.53513436957667  \n",
       "      7.370060728234535 \n",
       "     20.0864436091661   \n",
       "     20.086443609166057 \n",
       "  70475.87231334136     \n",
       "    143.07460198547028  \n",
       "   4402.659254654273    \n",
       "   3263.143246290681    \n",
       "      1.6372852617557088\n",
       "   1000.0               \n",
       "      0.0               \n",
       "      0.0               \n",
       "      0.0               \n",
       "      0.0               \n",
       "      1.0               \n",
       "  46152.566071084555    \n",
       " 413176.0417655705      \n",
       "  69912.92166676398     \n",
       "   4367.491476055549    \n",
       "   1602.507543639402    "
      ]
     },
     "execution_count": 14,
     "metadata": {},
     "output_type": "execute_result"
    }
   ],
   "source": [
    "init2"
   ]
  },
  {
   "cell_type": "code",
   "execution_count": 9,
   "metadata": {},
   "outputs": [
    {
     "data": {
      "text/plain": [
       "1602.507543639397"
      ]
     },
     "execution_count": 9,
     "metadata": {},
     "output_type": "execute_result"
    }
   ],
   "source": [
    "a = init2[21]\n",
    "AA = init2[22]\n",
    "rmq = init2[4]\n",
    "rmr = init2[2]\n",
    "rmt = init2[5]\n",
    "rmm = init2[7]\n",
    "nit_mrna_ribo = init2[16]\n",
    "AA_mrna_ribo = init2[25]"
   ]
  },
  {
   "cell_type": "markdown",
   "metadata": {},
   "source": [
    "Order of molecules in solver:\n",
    "\n",
    "\n",
    "s_out, rmr_0, em_0, rmq_0, rmt_0, et_0, rmm_0,\n",
    "mt_0, mm_0, q_0, si_0, mq_0, mr_0, r_0, NH4_0, nit_mrna_0, nit_mrna_ribo_0, nit_0, exported_0, N_0, a_0, AA_0, AA_prot_0, AA_mrna_0, AA_mrna_ribo_0\n"
   ]
  },
  {
   "cell_type": "code",
   "execution_count": 10,
   "metadata": {},
   "outputs": [
    {
     "data": {
      "text/plain": [
       "0.07758216572575495"
      ]
     },
     "execution_count": 10,
     "metadata": {},
     "output_type": "execute_result"
    }
   ],
   "source": [
    "gam= (gmax*a*AA)/(k_ribo_a*k_ribo_a_AA+k_ribo_a_AA*a+k_ribo_AA_a*AA+a*AA)\n",
    "ttrate= (rmq + rmr + rmt + rmm + nit_mrna_ribo+AA_mrna_ribo)*gam\n",
    "lam= ttrate/M #growth rate, lambda, is the total transcription rate over mid log cell mass\n"
   ]
  },
  {
   "cell_type": "code",
   "execution_count": 11,
   "metadata": {},
   "outputs": [
    {
     "data": {
      "text/plain": [
       "3-element Array{Float64,1}:\n",
       " 413176.0417655678       \n",
       "  46152.56607108405      \n",
       "      0.07758216572575495"
      ]
     },
     "execution_count": 11,
     "metadata": {},
     "output_type": "execute_result"
    }
   ],
   "source": [
    "sim_data = [AA, a, lam]"
   ]
  },
  {
   "cell_type": "code",
   "execution_count": 48,
   "metadata": {
    "scrolled": true
   },
   "outputs": [
    {
     "data": {
      "text/plain": [
       "3-element Array{Float64,1}:\n",
       " 9.6e8 \n",
       " 1.8e10\n",
       " 0.1   "
      ]
     },
     "execution_count": 48,
     "metadata": {},
     "output_type": "execute_result"
    }
   ],
   "source": [
    "target_data = [9.6e8,1.8e10,0.1]#number of amino acids, ATP and growth rate"
   ]
  },
  {
   "cell_type": "code",
   "execution_count": 13,
   "metadata": {},
   "outputs": [
    {
     "data": {
      "text/plain": [
       "get_sim_data (generic function with 1 method)"
      ]
     },
     "execution_count": 13,
     "metadata": {},
     "output_type": "execute_result"
    }
   ],
   "source": [
    "function get_sim_data(params)\n",
    "    k_cat_AA = params[1]\n",
    "    k_a_NH4 = params[2]\n",
    "    k_NH4 = params[3]\n",
    "    k_a_AA = params[4]\n",
    "    k_NH4_AA = params[5]\n",
    "    k_ribo_a = params[6]\n",
    "    \n",
    "    \n",
    "    problm = ODEProblem(AA_popn_growth,init2,(time1,20000.0));\n",
    "    solved = solve(problm)\n",
    "\n",
    "    \n",
    "    numsteps = size(solved,2)\n",
    "    state =solved[numsteps]\n",
    "    a = state[21]\n",
    "    AA = state[22]\n",
    "    rmq = state[4]\n",
    "    rmr = state[2]\n",
    "    rmt = state[5]\n",
    "    rmm = state[7]\n",
    "    nit_mrna_ribo = state[16]\n",
    "    AA_mrna_ribo = state[25]\n",
    "    gam= (gmax*a*AA)/(k_ribo_a*k_ribo_a_AA+k_ribo_a_AA*a+k_ribo_AA_a*AA+a*AA)\n",
    "    ttrate= (rmq + rmr + rmt + rmm + nit_mrna_ribo+AA_mrna_ribo)*gam\n",
    "    lam= ttrate/M #growth rate, lambda, is the total transcription rate over mid log cell mass\n",
    "    sim_data = [AA, a, lam]\n",
    "    return sim_data\n",
    "end"
   ]
  },
  {
   "cell_type": "code",
   "execution_count": 14,
   "metadata": {},
   "outputs": [
    {
     "data": {
      "text/plain": [
       "sum_sq_dist (generic function with 1 method)"
      ]
     },
     "execution_count": 14,
     "metadata": {},
     "output_type": "execute_result"
    }
   ],
   "source": [
    "function sum_sq_dist(sim_data, target_data)  \n",
    "    output = (sim_data[1]-target_data[1])^2+(sim_data[2]-target_data[2])^2+(sim_data[3]-target_data[3])^2\n",
    "    return output\n",
    "end"
   ]
  },
  {
   "cell_type": "code",
   "execution_count": 15,
   "metadata": {},
   "outputs": [
    {
     "data": {
      "text/plain": [
       "3.2491914538246577e20"
      ]
     },
     "execution_count": 15,
     "metadata": {},
     "output_type": "execute_result"
    }
   ],
   "source": [
    "sum_sq_dist(sim_data, target_data)\n",
    "# abs(sim_data[3]-target_data[3])"
   ]
  },
  {
   "cell_type": "code",
   "execution_count": 16,
   "metadata": {
    "collapsed": true,
    "jupyter": {
     "outputs_hidden": true
    }
   },
   "outputs": [],
   "source": [
    "# ABC1 = ABCSMC(AA_popn_growth, #simulation function\n",
    "# 1, # num parameters\n",
    "# 10000.0, #target for error\n",
    "# Prior([Uniform(0.01, 10000)]); #prior for each of the parameters\n",
    "# maxiterations = 10^6,\n",
    "# )"
   ]
  },
  {
   "cell_type": "code",
   "execution_count": 17,
   "metadata": {},
   "outputs": [
    {
     "data": {
      "text/plain": [
       "10.0"
      ]
     },
     "execution_count": 17,
     "metadata": {},
     "output_type": "execute_result"
    }
   ],
   "source": [
    "#starting values for the 6 parameters to be inferred\n",
    "k_cat_AA = 10.0\n",
    "k_a_NH4 = 10.0\n",
    "k_NH4 = 10.0\n",
    "k_a_AA = 10.0\n",
    "k_NH4_AA = 10.0\n",
    "k_ribo_a = 10.0"
   ]
  },
  {
   "cell_type": "code",
   "execution_count": 18,
   "metadata": {},
   "outputs": [
    {
     "name": "stdout",
     "output_type": "stream",
     "text": [
      "Preparing to run in serial on 1 processor\n",
      "Preparing to run in serial on 1 processor\n",
      "Total number of simulations: 1.95e+04\n",
      "Cumulative number of simulations = [500, 6620, 10164, 12091, 13897, 15633, 17786, 19538]\n",
      "Acceptance ratio: 2.56e-02\n",
      "Tolerance schedule = [10.67, 5.93, 2.06, 0.65, 0.21, 0.07, 0.05, 0.05]\n",
      "\n",
      "Median (95% intervals):\n",
      "Parameter 1"
     ]
    },
    {
     "data": {
      "text/plain": []
     },
     "execution_count": 18,
     "metadata": {},
     "output_type": "execute_result"
    },
    {
     "name": "stdout",
     "output_type": "stream",
     "text": [
      ": 1.50 (1.50,1.50)\n"
     ]
    }
   ],
   "source": [
    "f1 = @ode_def LotkaVolterraTest1 begin\n",
    " dx = a*x - x*y\n",
    " dy = -3*y + x*y\n",
    "end a\n",
    "\n",
    "p = [1.5]\n",
    "u0 = [1.0,1.0]\n",
    "tspan = (0.0,10.0)\n",
    "prob1 = ODEProblem(f1,u0,tspan,p)\n",
    "\n",
    "σ = 0.01                         # noise, fixed for now\n",
    "t = collect(range(1,stop = 10,length =10))   # observation times\n",
    "sol = solve(prob1,Tsit5())\n",
    "\n",
    "randomized = VectorOfArray([(sol(t[i]) + σ * randn(2)) for i in 1:length(t)])\n",
    "data = convert(Array,randomized)\n",
    "\n",
    "bayesian_result_abc = abc_inference(prob1, Tsit5(), t, data, [Normal(1.5, 1)];\n",
    "                                num_samples=500)"
   ]
  },
  {
   "cell_type": "code",
   "execution_count": 51,
   "metadata": {},
   "outputs": [],
   "source": [
    "using ApproxBayes"
   ]
  },
  {
   "cell_type": "code",
   "execution_count": 54,
   "metadata": {},
   "outputs": [
    {
     "ename": "MethodError",
     "evalue": "MethodError: no method matching ABCSMC(::DiffEqBayes.var\"#simfunc#22\"{Base.Iterators.Pairs{Union{},Union{},Tuple{},NamedTuple{(),Tuple{}}},ODEProblem{Array{Float64,1},Tuple{Float64,Float64},true,Float64,ODEFunction{true,typeof(AA_popn_growth),LinearAlgebra.UniformScaling{Bool},Nothing,Nothing,Nothing,Nothing,Nothing,Nothing,Nothing,Nothing,Nothing,Nothing,Nothing},Base.Iterators.Pairs{Union{},Union{},Tuple{},NamedTuple{(),Tuple{}}},DiffEqBase.StandardODEProblem},Float64,typeof(Distances.euclidean),Tsit5}, ::Int64, ::Int64, ::Prior; nparticles=500, maxiterations=100000)\nClosest candidates are:\n  ABCSMC(::Function, ::Int64, !Matched::Float64, ::Prior; maxiterations, constants, nparticles, α, ϵ1, convergence, kernel) at /Users/leanne/.julia/packages/ApproxBayes/EK19t/src/types.jl:109",
     "output_type": "error",
     "traceback": [
      "MethodError: no method matching ABCSMC(::DiffEqBayes.var\"#simfunc#22\"{Base.Iterators.Pairs{Union{},Union{},Tuple{},NamedTuple{(),Tuple{}}},ODEProblem{Array{Float64,1},Tuple{Float64,Float64},true,Float64,ODEFunction{true,typeof(AA_popn_growth),LinearAlgebra.UniformScaling{Bool},Nothing,Nothing,Nothing,Nothing,Nothing,Nothing,Nothing,Nothing,Nothing,Nothing,Nothing},Base.Iterators.Pairs{Union{},Union{},Tuple{},NamedTuple{(),Tuple{}}},DiffEqBase.StandardODEProblem},Float64,typeof(Distances.euclidean),Tsit5}, ::Int64, ::Int64, ::Prior; nparticles=500, maxiterations=100000)\nClosest candidates are:\n  ABCSMC(::Function, ::Int64, !Matched::Float64, ::Prior; maxiterations, constants, nparticles, α, ϵ1, convergence, kernel) at /Users/leanne/.julia/packages/ApproxBayes/EK19t/src/types.jl:109",
      "",
      "Stacktrace:",
      " [1] #abc_inference#25(::Int64, ::Function, ::Type, ::Bool, ::Int64, ::Int64, ::Base.Iterators.Pairs{Union{},Union{},Tuple{},NamedTuple{(),Tuple{}}}, ::typeof(abc_inference), ::ODEProblem{Array{Float64,1},Tuple{Float64,Float64},true,Float64,ODEFunction{true,typeof(AA_popn_growth),LinearAlgebra.UniformScaling{Bool},Nothing,Nothing,Nothing,Nothing,Nothing,Nothing,Nothing,Nothing,Nothing,Nothing,Nothing},Base.Iterators.Pairs{Union{},Union{},Tuple{},NamedTuple{(),Tuple{}}},DiffEqBase.StandardODEProblem}, ::Tsit5, ::Float64, ::Array{Float64,1}, ::Array{Normal{Float64},1}) at /Users/leanne/.julia/packages/DiffEqBayes/tTjJB/src/abc_inference.jl:17",
      " [2] (::DiffEqBayes.var\"#kw##abc_inference\")(::NamedTuple{(:num_samples, :ϵ, :progress, :ABCalgorithm),Tuple{Int64,Int64,Bool,DataType}}, ::typeof(abc_inference), ::ODEProblem{Array{Float64,1},Tuple{Float64,Float64},true,Float64,ODEFunction{true,typeof(AA_popn_growth),LinearAlgebra.UniformScaling{Bool},Nothing,Nothing,Nothing,Nothing,Nothing,Nothing,Nothing,Nothing,Nothing,Nothing,Nothing},Base.Iterators.Pairs{Union{},Union{},Tuple{},NamedTuple{(),Tuple{}}},DiffEqBase.StandardODEProblem}, ::Tsit5, ::Float64, ::Array{Float64,1}, ::Array{Normal{Float64},1}) at ./none:0",
      " [3] top-level scope at In[54]:5"
     ]
    }
   ],
   "source": [
    "params = (k_cat_AA) #, k_a_NH4, k_NH4, k_a_AA, k_NH4_AA, k_ribo_a)\n",
    "problm = ODEProblem(AA_popn_growth,init2,(time1,time2), params);\n",
    "# solved = solve(problm)\n",
    "priors = [Normal(5000,10000)]\n",
    "\n",
    "\n",
    "ABC_result = abc_inference(problm, Tsit5(), time2, target_data, priors;\n",
    "    num_samples = 500, ϵ = 1000, progress = true, ABCalgorithm = ABCSMC)"
   ]
  },
  {
   "cell_type": "code",
   "execution_count": 20,
   "metadata": {},
   "outputs": [
    {
     "data": {
      "text/plain": [
       "10.0"
      ]
     },
     "execution_count": 20,
     "metadata": {},
     "output_type": "execute_result"
    }
   ],
   "source": [
    "params"
   ]
  },
  {
   "cell_type": "code",
   "execution_count": 15,
   "metadata": {},
   "outputs": [
    {
     "data": {
      "text/latex": [
       "No documentation found.\n",
       "\n",
       "\\texttt{DiffEqBayes.abc\\_inference} is a \\texttt{Function}.\n",
       "\n",
       "\\begin{verbatim}\n",
       "# 1 method for generic function \"abc_inference\":\n",
       "[1] abc_inference(prob::DiffEqBase.DEProblem, alg, t, data, priors; ϵ, distancefunction, ABCalgorithm, progress, num_samples, maxiterations, kwargs...) in DiffEqBayes at /Users/leanne/.julia/packages/DiffEqBayes/tTjJB/src/abc_inference.jl:17\n",
       "\\end{verbatim}\n"
      ],
      "text/markdown": [
       "No documentation found.\n",
       "\n",
       "`DiffEqBayes.abc_inference` is a `Function`.\n",
       "\n",
       "```\n",
       "# 1 method for generic function \"abc_inference\":\n",
       "[1] abc_inference(prob::DiffEqBase.DEProblem, alg, t, data, priors; ϵ, distancefunction, ABCalgorithm, progress, num_samples, maxiterations, kwargs...) in DiffEqBayes at /Users/leanne/.julia/packages/DiffEqBayes/tTjJB/src/abc_inference.jl:17\n",
       "```\n"
      ],
      "text/plain": [
       "  No documentation found.\n",
       "\n",
       "  \u001b[36mDiffEqBayes.abc_inference\u001b[39m is a \u001b[36mFunction\u001b[39m.\n",
       "\n",
       "\u001b[36m  # 1 method for generic function \"abc_inference\":\u001b[39m\n",
       "\u001b[36m  [1] abc_inference(prob::DiffEqBase.DEProblem, alg, t, data, priors; ϵ, distancefunction, ABCalgorithm, progress, num_samples, maxiterations, kwargs...) in DiffEqBayes at /Users/leanne/.julia/packages/DiffEqBayes/tTjJB/src/abc_inference.jl:17\u001b[39m"
      ]
     },
     "execution_count": 15,
     "metadata": {},
     "output_type": "execute_result"
    }
   ],
   "source": [
    "?DiffEqBayes.abc_inference"
   ]
  },
  {
   "cell_type": "code",
   "execution_count": 16,
   "metadata": {},
   "outputs": [
    {
     "name": "stdout",
     "output_type": "stream",
     "text": [
      "search: \u001b[0m\u001b[1mA\u001b[22m\u001b[0m\u001b[1mB\u001b[22m\u001b[0m\u001b[1mC\u001b[22m\u001b[0m\u001b[1mS\u001b[22m\u001b[0m\u001b[1mM\u001b[22m\u001b[0m\u001b[1mC\u001b[22m \u001b[0m\u001b[1mA\u001b[22m\u001b[0m\u001b[1mB\u001b[22m\u001b[0m\u001b[1mC\u001b[22m\u001b[0m\u001b[1mS\u001b[22m\u001b[0m\u001b[1mM\u001b[22m\u001b[0m\u001b[1mC\u001b[22mModel Gener\u001b[0m\u001b[1ma\u001b[22mlized\u001b[0m\u001b[1mB\u001b[22mla\u001b[0m\u001b[1mc\u001b[22mk\u001b[0m\u001b[1mS\u001b[22mcholesProble\u001b[0m\u001b[1mm\u001b[22m\n",
      "\n"
     ]
    },
    {
     "data": {
      "text/latex": [
       "\\begin{verbatim}\n",
       "ABCRejection(sim_func::Function, nparams::Int64, ϵT::Float64, prior::Prior; <keyword arguments>)\n",
       "\\end{verbatim}\n",
       "Create an ABCSMC type which will simulate data with sim\\emph{func. nparams is the number of parameters inputted into sim}func, ϵT is the target tolerance and prior sets the priors for the parameters. sim\\_func needs to take in 3 values, the parameters (in an array), constants (array) and target data in that order and needs to return 2 values, the first being the distance between the target data and simulated data and the second can be anything but is useful if for example you want to record some additional information about the simulations. ...\n",
       "\n",
       "\\subsection{Arguments}\n",
       "\\begin{itemize}\n",
       "\\item \\texttt{maxiterations = 10\\^{}5}: Maximum number of samples before the ABC algorithm terminates.\n",
       "\n",
       "\n",
       "\\item \\texttt{constants = []}: Any constants needed to simulate from sim\\_func\n",
       "\n",
       "\n",
       "\\item \\texttt{nparticles = 100}: Number of particles (ie samples) of ABC algorithm\n",
       "\n",
       "\n",
       "\\item \\texttt{α = 0.3}: The αth quantile of population i is chosen as the ϵ for population i + 1\n",
       "\n",
       "\n",
       "\\item \\texttt{ϵ1 = 10\\^{}5}: Starting ϵ for first ABC SMC populations\n",
       "\n",
       "\n",
       "\\item \\texttt{convergence = 0.05}: ABC SMC stops when ϵ in population i + 1 is within 0.05 of populations i\n",
       "\n",
       "\n",
       "\\item \\texttt{kernel = uniformkernel}: Parameter perturbation kernel, default is a uniform distribution. \\texttt{gaussiankernel} is also an option that is already available in ApproxBayes.jl. Alternatively you can code up your own kernel function. See kernels.jl for examples.\n",
       "\n",
       "\\end{itemize}\n",
       "...\n",
       "\n"
      ],
      "text/markdown": [
       "```\n",
       "ABCRejection(sim_func::Function, nparams::Int64, ϵT::Float64, prior::Prior; <keyword arguments>)\n",
       "```\n",
       "\n",
       "Create an ABCSMC type which will simulate data with sim*func. nparams is the number of parameters inputted into sim*func, ϵT is the target tolerance and prior sets the priors for the parameters. sim_func needs to take in 3 values, the parameters (in an array), constants (array) and target data in that order and needs to return 2 values, the first being the distance between the target data and simulated data and the second can be anything but is useful if for example you want to record some additional information about the simulations. ...\n",
       "\n",
       "## Arguments\n",
       "\n",
       "  * `maxiterations = 10^5`: Maximum number of samples before the ABC algorithm terminates.\n",
       "  * `constants = []`: Any constants needed to simulate from sim_func\n",
       "  * `nparticles = 100`: Number of particles (ie samples) of ABC algorithm\n",
       "  * `α = 0.3`: The αth quantile of population i is chosen as the ϵ for population i + 1\n",
       "  * `ϵ1 = 10^5`: Starting ϵ for first ABC SMC populations\n",
       "  * `convergence = 0.05`: ABC SMC stops when ϵ in population i + 1 is within 0.05 of populations i\n",
       "  * `kernel = uniformkernel`: Parameter perturbation kernel, default is a uniform distribution. `gaussiankernel` is also an option that is already available in ApproxBayes.jl. Alternatively you can code up your own kernel function. See kernels.jl for examples.\n",
       "\n",
       "...\n"
      ],
      "text/plain": [
       "\u001b[36m  ABCRejection(sim_func::Function, nparams::Int64, ϵT::Float64, prior::Prior; <keyword arguments>)\u001b[39m\n",
       "\n",
       "  Create an ABCSMC type which will simulate data with sim\u001b[4mfunc. nparams is the\n",
       "  number of parameters inputted into sim\u001b[24mfunc, ϵT is the target tolerance and\n",
       "  prior sets the priors for the parameters. sim_func needs to take in 3\n",
       "  values, the parameters (in an array), constants (array) and target data in\n",
       "  that order and needs to return 2 values, the first being the distance\n",
       "  between the target data and simulated data and the second can be anything\n",
       "  but is useful if for example you want to record some additional information\n",
       "  about the simulations. ...\n",
       "\n",
       "\u001b[1m  Arguments\u001b[22m\n",
       "\u001b[1m  ===========\u001b[22m\n",
       "\n",
       "    •    \u001b[36mmaxiterations = 10^5\u001b[39m: Maximum number of samples before the ABC\n",
       "        algorithm terminates.\n",
       "\n",
       "    •    \u001b[36mconstants = []\u001b[39m: Any constants needed to simulate from sim_func\n",
       "\n",
       "    •    \u001b[36mnparticles = 100\u001b[39m: Number of particles (ie samples) of ABC\n",
       "        algorithm\n",
       "\n",
       "    •    \u001b[36mα = 0.3\u001b[39m: The αth quantile of population i is chosen as the ϵ for\n",
       "        population i + 1\n",
       "\n",
       "    •    \u001b[36mϵ1 = 10^5\u001b[39m: Starting ϵ for first ABC SMC populations\n",
       "\n",
       "    •    \u001b[36mconvergence = 0.05\u001b[39m: ABC SMC stops when ϵ in population i + 1 is\n",
       "        within 0.05 of populations i\n",
       "\n",
       "    •    \u001b[36mkernel = uniformkernel\u001b[39m: Parameter perturbation kernel, default is\n",
       "        a uniform distribution. \u001b[36mgaussiankernel\u001b[39m is also an option that is\n",
       "        already available in ApproxBayes.jl. Alternatively you can code up\n",
       "        your own kernel function. See kernels.jl for examples.\n",
       "\n",
       "  ..."
      ]
     },
     "execution_count": 16,
     "metadata": {},
     "output_type": "execute_result"
    }
   ],
   "source": [
    "?ABCSMC"
   ]
  },
  {
   "cell_type": "code",
   "execution_count": 17,
   "metadata": {},
   "outputs": [
    {
     "name": "stdout",
     "output_type": "stream",
     "text": [
      "search: \u001b[0m\u001b[1mr\u001b[22m\u001b[0m\u001b[1ma\u001b[22m\u001b[0m\u001b[1mn\u001b[22m\u001b[0m\u001b[1mg\u001b[22m\u001b[0m\u001b[1me\u001b[22m Lin\u001b[0m\u001b[1mR\u001b[22m\u001b[0m\u001b[1ma\u001b[22m\u001b[0m\u001b[1mn\u001b[22m\u001b[0m\u001b[1mg\u001b[22m\u001b[0m\u001b[1me\u001b[22m Unit\u001b[0m\u001b[1mR\u001b[22m\u001b[0m\u001b[1ma\u001b[22m\u001b[0m\u001b[1mn\u001b[22m\u001b[0m\u001b[1mg\u001b[22m\u001b[0m\u001b[1me\u001b[22m Step\u001b[0m\u001b[1mR\u001b[22m\u001b[0m\u001b[1ma\u001b[22m\u001b[0m\u001b[1mn\u001b[22m\u001b[0m\u001b[1mg\u001b[22m\u001b[0m\u001b[1me\u001b[22m Step\u001b[0m\u001b[1mR\u001b[22m\u001b[0m\u001b[1ma\u001b[22m\u001b[0m\u001b[1mn\u001b[22m\u001b[0m\u001b[1mg\u001b[22m\u001b[0m\u001b[1me\u001b[22mLen date_\u001b[0m\u001b[1mr\u001b[22m\u001b[0m\u001b[1ma\u001b[22m\u001b[0m\u001b[1mn\u001b[22m\u001b[0m\u001b[1mg\u001b[22m\u001b[0m\u001b[1me\u001b[22m bdate_\u001b[0m\u001b[1mr\u001b[22m\u001b[0m\u001b[1ma\u001b[22m\u001b[0m\u001b[1mn\u001b[22m\u001b[0m\u001b[1mg\u001b[22m\u001b[0m\u001b[1me\u001b[22m\n",
      "\n"
     ]
    },
    {
     "data": {
      "text/latex": [
       "\\begin{verbatim}\n",
       "range(start[, stop]; length, stop, step=1)\n",
       "\\end{verbatim}\n",
       "Given a starting value, construct a range either by length or from \\texttt{start} to \\texttt{stop}, optionally with a given step (defaults to 1, a \\href{@ref}{\\texttt{UnitRange}}). One of \\texttt{length} or \\texttt{stop} is required.  If \\texttt{length}, \\texttt{stop}, and \\texttt{step} are all specified, they must agree.\n",
       "\n",
       "If \\texttt{length} and \\texttt{stop} are provided and \\texttt{step} is not, the step size will be computed automatically such that there are \\texttt{length} linearly spaced elements in the range (a \\href{@ref}{\\texttt{LinRange}}).\n",
       "\n",
       "If \\texttt{step} and \\texttt{stop} are provided and \\texttt{length} is not, the overall range length will be computed automatically such that the elements are \\texttt{step} spaced (a \\href{@ref}{\\texttt{StepRange}}).\n",
       "\n",
       "\\texttt{stop} may be specified as either a positional or keyword argument.\n",
       "\n",
       "\\begin{quote}\n",
       "\\textbf{compat}\n",
       "\n",
       "Julia 1.1\n",
       "\n",
       "\\texttt{stop} as a positional argument requires at least Julia 1.1.\n",
       "\n",
       "\\end{quote}\n",
       "\\section{Examples}\n",
       "\\begin{verbatim}\n",
       "julia> range(1, length=100)\n",
       "1:100\n",
       "\n",
       "julia> range(1, stop=100)\n",
       "1:100\n",
       "\n",
       "julia> range(1, step=5, length=100)\n",
       "1:5:496\n",
       "\n",
       "julia> range(1, step=5, stop=100)\n",
       "1:5:96\n",
       "\n",
       "julia> range(1, 10, length=101)\n",
       "1.0:0.09:10.0\n",
       "\n",
       "julia> range(1, 100, step=5)\n",
       "1:5:96\n",
       "\\end{verbatim}\n",
       "\\rule{\\textwidth}{1pt}\n",
       "\\begin{verbatim}\n",
       "range(start::Color; stop::Color, length=100)\n",
       "\\end{verbatim}\n",
       "Generates \\texttt{n}>2 colors in a linearly interpolated ramp from \\texttt{start} to\\texttt{stop}, inclusive, returning an \\texttt{Array} of colors.\n",
       "\n",
       "\\rule{\\textwidth}{1pt}\n",
       "\\begin{verbatim}\n",
       "range(c::AbstractChains)\n",
       "\\end{verbatim}\n",
       "Returns the range used in a \\texttt{Chains} object.\n",
       "\n"
      ],
      "text/markdown": [
       "```\n",
       "range(start[, stop]; length, stop, step=1)\n",
       "```\n",
       "\n",
       "Given a starting value, construct a range either by length or from `start` to `stop`, optionally with a given step (defaults to 1, a [`UnitRange`](@ref)). One of `length` or `stop` is required.  If `length`, `stop`, and `step` are all specified, they must agree.\n",
       "\n",
       "If `length` and `stop` are provided and `step` is not, the step size will be computed automatically such that there are `length` linearly spaced elements in the range (a [`LinRange`](@ref)).\n",
       "\n",
       "If `step` and `stop` are provided and `length` is not, the overall range length will be computed automatically such that the elements are `step` spaced (a [`StepRange`](@ref)).\n",
       "\n",
       "`stop` may be specified as either a positional or keyword argument.\n",
       "\n",
       "!!! compat \"Julia 1.1\"\n",
       "    `stop` as a positional argument requires at least Julia 1.1.\n",
       "\n",
       "\n",
       "# Examples\n",
       "\n",
       "```jldoctest\n",
       "julia> range(1, length=100)\n",
       "1:100\n",
       "\n",
       "julia> range(1, stop=100)\n",
       "1:100\n",
       "\n",
       "julia> range(1, step=5, length=100)\n",
       "1:5:496\n",
       "\n",
       "julia> range(1, step=5, stop=100)\n",
       "1:5:96\n",
       "\n",
       "julia> range(1, 10, length=101)\n",
       "1.0:0.09:10.0\n",
       "\n",
       "julia> range(1, 100, step=5)\n",
       "1:5:96\n",
       "```\n",
       "\n",
       "---\n",
       "\n",
       "```\n",
       "range(start::Color; stop::Color, length=100)\n",
       "```\n",
       "\n",
       "Generates `n`>2 colors in a linearly interpolated ramp from `start` to`stop`, inclusive, returning an `Array` of colors.\n",
       "\n",
       "---\n",
       "\n",
       "```\n",
       "range(c::AbstractChains)\n",
       "```\n",
       "\n",
       "Returns the range used in a `Chains` object.\n"
      ],
      "text/plain": [
       "\u001b[36m  range(start[, stop]; length, stop, step=1)\u001b[39m\n",
       "\n",
       "  Given a starting value, construct a range either by length or from \u001b[36mstart\u001b[39m to\n",
       "  \u001b[36mstop\u001b[39m, optionally with a given step (defaults to 1, a \u001b[36mUnitRange\u001b[39m). One of\n",
       "  \u001b[36mlength\u001b[39m or \u001b[36mstop\u001b[39m is required. If \u001b[36mlength\u001b[39m, \u001b[36mstop\u001b[39m, and \u001b[36mstep\u001b[39m are all specified,\n",
       "  they must agree.\n",
       "\n",
       "  If \u001b[36mlength\u001b[39m and \u001b[36mstop\u001b[39m are provided and \u001b[36mstep\u001b[39m is not, the step size will be\n",
       "  computed automatically such that there are \u001b[36mlength\u001b[39m linearly spaced elements\n",
       "  in the range (a \u001b[36mLinRange\u001b[39m).\n",
       "\n",
       "  If \u001b[36mstep\u001b[39m and \u001b[36mstop\u001b[39m are provided and \u001b[36mlength\u001b[39m is not, the overall range length\n",
       "  will be computed automatically such that the elements are \u001b[36mstep\u001b[39m spaced (a\n",
       "  \u001b[36mStepRange\u001b[39m).\n",
       "\n",
       "  \u001b[36mstop\u001b[39m may be specified as either a positional or keyword argument.\n",
       "\n",
       "\u001b[39m\u001b[1m  │ \u001b[22m\u001b[39m\u001b[1mJulia 1.1\u001b[22m\n",
       "\u001b[39m\u001b[1m  │\u001b[22m\n",
       "\u001b[39m\u001b[1m  │\u001b[22m  \u001b[36mstop\u001b[39m as a positional argument requires at least Julia 1.1.\n",
       "\n",
       "\u001b[1m  Examples\u001b[22m\n",
       "\u001b[1m  ≡≡≡≡≡≡≡≡≡≡\u001b[22m\n",
       "\n",
       "\u001b[36m  julia> range(1, length=100)\u001b[39m\n",
       "\u001b[36m  1:100\u001b[39m\n",
       "\u001b[36m  \u001b[39m\n",
       "\u001b[36m  julia> range(1, stop=100)\u001b[39m\n",
       "\u001b[36m  1:100\u001b[39m\n",
       "\u001b[36m  \u001b[39m\n",
       "\u001b[36m  julia> range(1, step=5, length=100)\u001b[39m\n",
       "\u001b[36m  1:5:496\u001b[39m\n",
       "\u001b[36m  \u001b[39m\n",
       "\u001b[36m  julia> range(1, step=5, stop=100)\u001b[39m\n",
       "\u001b[36m  1:5:96\u001b[39m\n",
       "\u001b[36m  \u001b[39m\n",
       "\u001b[36m  julia> range(1, 10, length=101)\u001b[39m\n",
       "\u001b[36m  1.0:0.09:10.0\u001b[39m\n",
       "\u001b[36m  \u001b[39m\n",
       "\u001b[36m  julia> range(1, 100, step=5)\u001b[39m\n",
       "\u001b[36m  1:5:96\u001b[39m\n",
       "\n",
       "  ────────────────────────────────────────────────────────────────────────────\n",
       "\n",
       "\u001b[36m  range(start::Color; stop::Color, length=100)\u001b[39m\n",
       "\n",
       "  Generates \u001b[36mn\u001b[39m>2 colors in a linearly interpolated ramp from \u001b[36mstart\u001b[39m to\u001b[36mstop\u001b[39m,\n",
       "  inclusive, returning an \u001b[36mArray\u001b[39m of colors.\n",
       "\n",
       "  ────────────────────────────────────────────────────────────────────────────\n",
       "\n",
       "\u001b[36m  range(c::AbstractChains)\u001b[39m\n",
       "\n",
       "  Returns the range used in a \u001b[36mChains\u001b[39m object."
      ]
     },
     "execution_count": 17,
     "metadata": {},
     "output_type": "execute_result"
    }
   ],
   "source": [
    "?range"
   ]
  },
  {
   "cell_type": "code",
   "execution_count": 24,
   "metadata": {},
   "outputs": [
    {
     "name": "stderr",
     "output_type": "stream",
     "text": [
      "┌ Warning: Symbolic calculations could not initiate. Likely there's a function which is not differentiable by SymEngine.\n",
      "└ @ ParameterizedFunctions C:\\Users\\leann\\.julia\\packages\\ParameterizedFunctions\\WcTrd\\src\\ode_def_opts.jl:244\n"
     ]
    },
    {
     "data": {
      "text/plain": [
       "#387 (generic function with 2 methods)"
      ]
     },
     "execution_count": 24,
     "metadata": {},
     "output_type": "execute_result"
    }
   ],
   "source": [
    "# using ParameterizedFunctions\n",
    "f = @ode_def begin\n",
    "  test_var = 22\n",
    "  dy₁ = -k₁*y₁+k₃*y₂*y₃\n",
    "  dy₂ =  k₁*y₁-k₂*y₂^2-k₃*y₂*y₃\n",
    "  dy₃ =  k₂*y₂^2\n",
    "end k₁ k₂ k₃"
   ]
  },
  {
   "cell_type": "code",
   "execution_count": 4,
   "metadata": {},
   "outputs": [
    {
     "data": {
      "text/plain": [
       "(:((u, p)->begin\n",
       "          #= C:\\Users\\leann\\.julia\\packages\\ModelingToolkit\\PPjhj\\src\\utils.jl:63 =#\n",
       "          #= C:\\Users\\leann\\.julia\\packages\\ModelingToolkit\\PPjhj\\src\\utils.jl:64 =#\n",
       "          if u isa Array\n",
       "              #= C:\\Users\\leann\\.julia\\packages\\ModelingToolkit\\PPjhj\\src\\utils.jl:65 =#\n",
       "              return #= C:\\Users\\leann\\.julia\\packages\\ModelingToolkit\\PPjhj\\src\\utils.jl:57 =# @inbounds(begin\n",
       "                          #= C:\\Users\\leann\\.julia\\packages\\ModelingToolkit\\PPjhj\\src\\utils.jl:57 =#\n",
       "                          let (x, y, z, σ, ρ, β) = (u[1], u[2], u[3], p[1], p[2], p[3])\n",
       "                              [(*)(σ, (-)(y, x)), (-)((*)(x, (-)(ρ, z)), y), (-)((*)(x, y), (*)(β, z))]\n",
       "                          end\n",
       "                      end)\n",
       "          else\n",
       "              #= C:\\Users\\leann\\.julia\\packages\\ModelingToolkit\\PPjhj\\src\\utils.jl:67 =#\n",
       "              X = #= C:\\Users\\leann\\.julia\\packages\\ModelingToolkit\\PPjhj\\src\\utils.jl:56 =# @inbounds(begin\n",
       "                          #= C:\\Users\\leann\\.julia\\packages\\ModelingToolkit\\PPjhj\\src\\utils.jl:56 =#\n",
       "                          let (x, y, z, σ, ρ, β) = (u[1], u[2], u[3], p[1], p[2], p[3])\n",
       "                              ((*)(σ, (-)(y, x)), (-)((*)(x, (-)(ρ, z)), y), (-)((*)(x, y), (*)(β, z)))\n",
       "                          end\n",
       "                      end)\n",
       "          end\n",
       "          #= C:\\Users\\leann\\.julia\\packages\\ModelingToolkit\\PPjhj\\src\\utils.jl:69 =#\n",
       "          T = promote_type(map(typeof, X)...)\n",
       "          #= C:\\Users\\leann\\.julia\\packages\\ModelingToolkit\\PPjhj\\src\\utils.jl:70 =#\n",
       "          map(T, X)\n",
       "          #= C:\\Users\\leann\\.julia\\packages\\ModelingToolkit\\PPjhj\\src\\utils.jl:71 =#\n",
       "          construct = if u isa ModelingToolkit.StaticArrays.StaticArray\n",
       "                  ModelingToolkit.StaticArrays.similar_type(typeof(u), eltype(X))\n",
       "              else\n",
       "                  x->begin\n",
       "                          #= C:\\Users\\leann\\.julia\\packages\\ModelingToolkit\\PPjhj\\src\\utils.jl:71 =#\n",
       "                          convert(typeof(u), x)\n",
       "                      end\n",
       "              end\n",
       "          #= C:\\Users\\leann\\.julia\\packages\\ModelingToolkit\\PPjhj\\src\\utils.jl:72 =#\n",
       "          construct(X)\n",
       "      end), :((##MTIIPVar#389, u, p)->begin\n",
       "          #= C:\\Users\\leann\\.julia\\packages\\ModelingToolkit\\PPjhj\\src\\utils.jl:77 =#\n",
       "          #= C:\\Users\\leann\\.julia\\packages\\ModelingToolkit\\PPjhj\\src\\utils.jl:78 =#\n",
       "          #= C:\\Users\\leann\\.julia\\packages\\ModelingToolkit\\PPjhj\\src\\utils.jl:78 =# @inbounds begin\n",
       "                  #= C:\\Users\\leann\\.julia\\packages\\ModelingToolkit\\PPjhj\\src\\utils.jl:79 =#\n",
       "                  #= C:\\Users\\leann\\.julia\\packages\\ModelingToolkit\\PPjhj\\src\\utils.jl:58 =# @inbounds begin\n",
       "                          #= C:\\Users\\leann\\.julia\\packages\\ModelingToolkit\\PPjhj\\src\\utils.jl:58 =#\n",
       "                          let (x, y, z, σ, ρ, β) = (u[1], u[2], u[3], p[1], p[2], p[3])\n",
       "                              ##MTIIPVar#389[1] = (*)(σ, (-)(y, x))\n",
       "                              ##MTIIPVar#389[2] = (-)((*)(x, (-)(ρ, z)), y)\n",
       "                              ##MTIIPVar#389[3] = (-)((*)(x, y), (*)(β, z))\n",
       "                          end\n",
       "                      end\n",
       "              end\n",
       "          #= C:\\Users\\leann\\.julia\\packages\\ModelingToolkit\\PPjhj\\src\\utils.jl:81 =#\n",
       "          nothing\n",
       "      end))"
      ]
     },
     "execution_count": 4,
     "metadata": {},
     "output_type": "execute_result"
    }
   ],
   "source": [
    "@variables x y z\n",
    "@parameters σ ρ β\n",
    "a = y - x\n",
    "eqs = [0 ~ σ*a,\n",
    "       0 ~ x*(ρ-z)-y,\n",
    "       0 ~ x*y - β*z]\n",
    "ns = NonlinearSystem(eqs, [x,y,z])\n",
    "nlsys_func = generate_function(ns, [x,y,z], [σ,ρ,β])"
   ]
  },
  {
   "cell_type": "code",
   "execution_count": 26,
   "metadata": {},
   "outputs": [
    {
     "ename": "UndefVarError",
     "evalue": "UndefVarError: Tridiagonal not defined",
     "output_type": "error",
     "traceback": [
      "UndefVarError: Tridiagonal not defined",
      "",
      "Stacktrace:",
      " [1] top-level scope at In[26]:3"
     ]
    }
   ],
   "source": [
    "p = (1.0,1.0,1.0,10.0,0.001,100.0) # a,α,ubar,β,D1,D2\n",
    "N = 100\n",
    "Ax = Array(Tridiagonal([1.0 for i in 1:N-1],[-2.0 for i in 1:N],[1.0 for i in 1:N-1]))\n",
    "Ay = copy(Ax)\n",
    "Ax[2,1] = 2.0\n",
    "Ax[end-1,end] = 2.0\n",
    "Ay[1,2] = 2.0\n",
    "Ay[end,end-1] = 2.0\n",
    "\n",
    "a,α,ubar,β,D1,D2 = p\n",
    "uss = (ubar+β)/α\n",
    "vss = (a/β)*uss^2\n",
    "r0 = zeros(100,100,2)\n",
    "r0[:,:,1] .= uss.+0.1.*rand.()\n",
    "r0[:,:,2] .= vss\n",
    "\n",
    "function gm2!(dr,r,p,t)\n",
    "  a,α,ubar,β,D1,D2 = p\n",
    "  u = @view r[:,:,1]\n",
    "  v = @view r[:,:,2]\n",
    "  du = @view dr[:,:,1]\n",
    "  dv = @view dr[:,:,2]\n",
    "  Du = D1*(Ay*u + u*Ax)\n",
    "  Dv = D2*(Ay*v + v*Ax)\n",
    "  @. du = Du + a.*u.*u./v + ubar - α*u\n",
    "  @. dv = Dv + a.*u.*u - β*v\n",
    "end\n",
    "prob = ODEProblem(gm2!,r0,(0.0,0.1),p)"
   ]
  },
  {
   "cell_type": "code",
   "execution_count": 18,
   "metadata": {},
   "outputs": [
    {
     "data": {
      "text/plain": [
       "25-element Array{Equation,1}:\n",
       " Equation(s_out, (((((-et * 726.0) * s_out) / (1000.0 + s_out)) * N - 0.01s_out) + (0NH4) * 50) + 1.0e7)                                                                                                                                                                                                                                                                                                                                                                                                                                                                                                                                                                                                                                                                                                                                                                                                                                                                                                                                                                                                                                                                                                                                                     \n",
       " Equation(rmr, (((1.0r) * mr - 1.0rmr) - ((((1260.0a) * AA) / (((k_ribo_a * k_ribo_a_AA + k_ribo_a_AA * a) + k_ribo_AA_a * AA) + a * AA)) / 7549.0) * rmr) - (((((((rmq + rmr) + rmt) + rmm) + nit_mrna_ribo) + AA_mrna_ribo) * (((1260.0a) * AA) / (((k_ribo_a * k_ribo_a_AA + k_ribo_a_AA * a) + k_ribo_AA_a * AA) + a * AA))) / 1.0e8) * rmr)                                                                                                                                                                                                                                                                                                                                                                                                                                                                                                                                                                                                                                                                                                                                                                                                                                                                                                             \n",
       " Equation(em, ((((1260.0a) * AA) / (((k_ribo_a * k_ribo_a_AA + k_ribo_a_AA * a) + k_ribo_AA_a * AA) + a * AA)) / 300.0) * rmm - (((((((rmq + rmr) + rmt) + rmm) + nit_mrna_ribo) + AA_mrna_ribo) * (((1260.0a) * AA) / (((k_ribo_a * k_ribo_a_AA + k_ribo_a_AA * a) + k_ribo_AA_a * AA) + a * AA))) / 1.0e8) * em)                                                                                                                                                                                                                                                                                                                                                                                                                                                                                                                                                                                                                                                                                                                                                                                                                                                                                                                                           \n",
       " Equation(rmq, (((1.0r) * mq - 1.0rmq) - ((((1260.0a) * AA) / (((k_ribo_a * k_ribo_a_AA + k_ribo_a_AA * a) + k_ribo_AA_a * AA) + a * AA)) / 300.0) * rmq) - (((((((rmq + rmr) + rmt) + rmm) + nit_mrna_ribo) + AA_mrna_ribo) * (((1260.0a) * AA) / (((k_ribo_a * k_ribo_a_AA + k_ribo_a_AA * a) + k_ribo_AA_a * AA) + a * AA))) / 1.0e8) * rmq)                                                                                                                                                                                                                                                                                                                                                                                                                                                                                                                                                                                                                                                                                                                                                                                                                                                                                                              \n",
       " Equation(rmt, (((1.0r) * mt - 1.0rmt) - ((((1260.0a) * AA) / (((k_ribo_a * k_ribo_a_AA + k_ribo_a_AA * a) + k_ribo_AA_a * AA) + a * AA)) / 300.0) * rmt) - (((((((rmq + rmr) + rmt) + rmm) + nit_mrna_ribo) + AA_mrna_ribo) * (((1260.0a) * AA) / (((k_ribo_a * k_ribo_a_AA + k_ribo_a_AA * a) + k_ribo_AA_a * AA) + a * AA))) / 1.0e8) * rmt)                                                                                                                                                                                                                                                                                                                                                                                                                                                                                                                                                                                                                                                                                                                                                                                                                                                                                                              \n",
       " Equation(et, ((((1260.0a) * AA) / (((k_ribo_a * k_ribo_a_AA + k_ribo_a_AA * a) + k_ribo_AA_a * AA) + a * AA)) / 300.0) * rmt - (((((((rmq + rmr) + rmt) + rmm) + nit_mrna_ribo) + AA_mrna_ribo) * (((1260.0a) * AA) / (((k_ribo_a * k_ribo_a_AA + k_ribo_a_AA * a) + k_ribo_AA_a * AA) + a * AA))) / 1.0e8) * et)                                                                                                                                                                                                                                                                                                                                                                                                                                                                                                                                                                                                                                                                                                                                                                                                                                                                                                                                           \n",
       " Equation(rmm, (((1.0r) * mm - 1.0rmm) - ((((1260.0a) * AA) / (((k_ribo_a * k_ribo_a_AA + k_ribo_a_AA * a) + k_ribo_AA_a * AA) + a * AA)) / 300.0) * rmm) - (((((((rmq + rmr) + rmt) + rmm) + nit_mrna_ribo) + AA_mrna_ribo) * (((1260.0a) * AA) / (((k_ribo_a * k_ribo_a_AA + k_ribo_a_AA * a) + k_ribo_AA_a * AA) + a * AA))) / 1.0e8) * rmm)                                                                                                                                                                                                                                                                                                                                                                                                                                                                                                                                                                                                                                                                                                                                                                                                                                                                                                              \n",
       " Equation(mt, (((((4.139172187824451a) / (4.379733394834643 + a) + 1.0rmt) + ((((1260.0a) * AA) / (((k_ribo_a * k_ribo_a_AA + k_ribo_a_AA * a) + k_ribo_AA_a * AA) + a * AA)) / 300.0) * rmt) - (1.0r) * mt) - 0.1mt) - (((((((rmq + rmr) + rmt) + rmm) + nit_mrna_ribo) + AA_mrna_ribo) * (((1260.0a) * AA) / (((k_ribo_a * k_ribo_a_AA + k_ribo_a_AA * a) + k_ribo_AA_a * AA) + a * AA))) / 1.0e8) * mt)                                                                                                                                                                                                                                                                                                                                                                                                                                                                                                                                                                                                                                                                                                                                                                                                                                                   \n",
       " Equation(mm, (((((4.139172187824451a) / (4.379733394834643 + a) + 1.0rmm) + ((((1260.0a) * AA) / (((k_ribo_a * k_ribo_a_AA + k_ribo_a_AA * a) + k_ribo_AA_a * AA) + a * AA)) / 300.0) * rmm) - (1.0r) * mm) - 0.1mm) - (((((((rmq + rmr) + rmt) + rmm) + nit_mrna_ribo) + AA_mrna_ribo) * (((1260.0a) * AA) / (((k_ribo_a * k_ribo_a_AA + k_ribo_a_AA * a) + k_ribo_AA_a * AA) + a * AA))) / 1.0e8) * mm)                                                                                                                                                                                                                                                                                                                                                                                                                                                                                                                                                                                                                                                                                                                                                                                                                                                   \n",
       " Equation(q, ((((1260.0a) * AA) / (((k_ribo_a * k_ribo_a_AA + k_ribo_a_AA * a) + k_ribo_AA_a * AA) + a * AA)) / 300.0) * rmq - (((((((rmq + rmr) + rmt) + rmm) + nit_mrna_ribo) + AA_mrna_ribo) * (((1260.0a) * AA) / (((k_ribo_a * k_ribo_a_AA + k_ribo_a_AA * a) + k_ribo_AA_a * AA) + a * AA))) / 1.0e8) * q)                                                                                                                                                                                                                                                                                                                                                                                                                                                                                                                                                                                                                                                                                                                                                                                                                                                                                                                                             \n",
       " Equation(si, (((et * 726.0) * s_out) / (1000.0 + s_out) - ((em * 5800.0) * si) / (1000.0 + si)) - (((((((rmq + rmr) + rmt) + rmm) + nit_mrna_ribo) + AA_mrna_ribo) * (((1260.0a) * AA) / (((k_ribo_a * k_ribo_a_AA + k_ribo_a_AA * a) + k_ribo_AA_a * AA) + a * AA))) / 1.0e8) * si)                                                                                                                                                                                                                                                                                                                                                                                                                                                                                                                                                                                                                                                                                                                                                                                                                                                                                                                                                                        \n",
       " Equation(mq, ((((((948.9349882947897a) / (4.379733394834643 + a)) / (1 + (q / 152219.040373749) ^ 4) + 1.0rmq) + ((((1260.0a) * AA) / (((k_ribo_a * k_ribo_a_AA + k_ribo_a_AA * a) + k_ribo_AA_a * AA) + a * AA)) / 300.0) * rmq) - (1.0r) * mq) - 0.1mq) - (((((((rmq + rmr) + rmt) + rmm) + nit_mrna_ribo) + AA_mrna_ribo) * (((1260.0a) * AA) / (((k_ribo_a * k_ribo_a_AA + k_ribo_a_AA * a) + k_ribo_AA_a * AA) + a * AA))) / 1.0e8) * mq)                                                                                                                                                                                                                                                                                                                                                                                                                                                                                                                                                                                                                                                                                                                                                                                                              \n",
       " Equation(mr, (((((929.9678874564831a) / (426.8693338968694 + a) + 1.0rmr) + ((((1260.0a) * AA) / (((k_ribo_a * k_ribo_a_AA + k_ribo_a_AA * a) + k_ribo_AA_a * AA) + a * AA)) / 7549.0) * rmr) - (1.0r) * mr) - 0.1mr) - (((((((rmq + rmr) + rmt) + rmm) + nit_mrna_ribo) + AA_mrna_ribo) * (((1260.0a) * AA) / (((k_ribo_a * k_ribo_a_AA + k_ribo_a_AA * a) + k_ribo_AA_a * AA) + a * AA))) / 1.0e8) * mr)                                                                                                                                                                                                                                                                                                                                                                                                                                                                                                                                                                                                                                                                                                                                                                                                                                                  \n",
       " Equation(r, ((((((((((((((((((1.0rmr + 1.0rmt) + 1.0rmm) + 1.0rmq) + ((((1260.0a) * AA) / (((k_ribo_a * k_ribo_a_AA + k_ribo_a_AA * a) + k_ribo_AA_a * AA) + a * AA)) / 7549.0) * rmr) + ((((1260.0a) * AA) / (((k_ribo_a * k_ribo_a_AA + k_ribo_a_AA * a) + k_ribo_AA_a * AA) + a * AA)) / 7549.0) * rmr) + ((((1260.0a) * AA) / (((k_ribo_a * k_ribo_a_AA + k_ribo_a_AA * a) + k_ribo_AA_a * AA) + a * AA)) / 300.0) * rmt) + ((((1260.0a) * AA) / (((k_ribo_a * k_ribo_a_AA + k_ribo_a_AA * a) + k_ribo_AA_a * AA) + a * AA)) / 300.0) * rmm) + ((((1260.0a) * AA) / (((k_ribo_a * k_ribo_a_AA + k_ribo_a_AA * a) + k_ribo_AA_a * AA) + a * AA)) / 300.0) * rmq) - (1.0r) * mr) - (1.0r) * mt) - (1.0r) * mm) - (1.0r) * mq) + 1.0nit_mrna_ribo) + ((((1260.0a) * AA) / (((k_ribo_a * k_ribo_a_AA + k_ribo_a_AA * a) + k_ribo_AA_a * AA) + a * AA)) / 300.0) * nit_mrna_ribo) - (1.0r) * nit_mrna) + 1.0AA_mrna_ribo) + ((((1260.0a) * AA) / (((k_ribo_a * k_ribo_a_AA + k_ribo_a_AA * a) + k_ribo_AA_a * AA) + a * AA)) / 300.0) * AA_mrna_ribo) - (1.0r) * AA_mrna) - (((((((rmq + rmr) + rmt) + rmm) + nit_mrna_ribo) + AA_mrna_ribo) * (((1260.0a) * AA) / (((k_ribo_a * k_ribo_a_AA + k_ribo_a_AA * a) + k_ribo_AA_a * AA) + a * AA))) / 1.0e8) * r)\n",
       " Equation(NH4, (((0nit - 0NH4) - (((((((rmq + rmr) + rmt) + rmm) + nit_mrna_ribo) + AA_mrna_ribo) * (((1260.0a) * AA) / (((k_ribo_a * k_ribo_a_AA + k_ribo_a_AA * a) + k_ribo_AA_a * AA) + a * AA))) / 1.0e8) * NH4) - ((((((k_cat_AA * 2) * a) * NH4) / (k_a_NH4 * k_a)) / ((((1 + (1 + AA / k_a_AA)) + NH4 / k_a_NH4) + (1 + AA / k_NH4_AA)) + NH4 / k_NH4)) * AA_prot) * 2) + 2.3e6)                                                                                                                                                                                                                                                                                                                                                                                                                                                                                                                                                                                                                                                                                                                                                                                                                                                                      \n",
       " Equation(nit_mrna, ModelingToolkit.Constant(0))                                                                                                                                                                                                                                                                                                                                                                                                                                                                                                                                                                                                                                                                                                                                                                                                                                                                                                                                                                                                                                                                                                                                                                                                             \n",
       " Equation(nit_mrna_ribo, ModelingToolkit.Constant(0))                                                                                                                                                                                                                                                                                                                                                                                                                                                                                                                                                                                                                                                                                                                                                                                                                                                                                                                                                                                                                                                                                                                                                                                                        \n",
       " Equation(nit, ModelingToolkit.Constant(0))                                                                                                                                                                                                                                                                                                                                                                                                                                                                                                                                                                                                                                                                                                                                                                                                                                                                                                                                                                                                                                                                                                                                                                                                                  \n",
       " Equation(NH4_ex, ModelingToolkit.Constant(0))                                                                                                                                                                                                                                                                                                                                                                                                                                                                                                                                                                                                                                                                                                                                                                                                                                                                                                                                                                                                                                                                                                                                                                                                               \n",
       " Equation(N, (((((((rmq + rmr) + rmt) + rmm) + nit_mrna_ribo) + AA_mrna_ribo) * (((1260.0a) * AA) / (((k_ribo_a * k_ribo_a_AA + k_ribo_a_AA * a) + k_ribo_AA_a * AA) + a * AA))) / 1.0e8) * N - 0N)                                                                                                                                                                                                                                                                                                                                                                                                                                                                                                                                                                                                                                                                                                                                                                                                                                                                                                                                                                                                                                                          \n",
       " Equation(a, (((100.0 * (((em * 5800.0) * si) / (1000.0 + si)) - (((((rmq + rmr) + rmt) + rmm) + nit_mrna_ribo) + AA_mrna_ribo) * (((1260.0a) * AA) / (((k_ribo_a * k_ribo_a_AA + k_ribo_a_AA * a) + k_ribo_AA_a * AA) + a * AA))) - 0nit) - ((((((k_cat_AA * 2) * a) * NH4) / (k_a_NH4 * k_a)) / ((((1 + (1 + AA / k_a_AA)) + NH4 / k_a_NH4) + (1 + AA / k_NH4_AA)) + NH4 / k_NH4)) * AA_prot) * 2) - (((((((rmq + rmr) + rmt) + rmm) + nit_mrna_ribo) + AA_mrna_ribo) * (((1260.0a) * AA) / (((k_ribo_a * k_ribo_a_AA + k_ribo_a_AA * a) + k_ribo_AA_a * AA) + a * AA))) / 1.0e8) * a)                                                                                                                                                                                                                                                                                                                                                                                                                                                                                                                                                                                                                                                                     \n",
       " Equation(AA, ((((((k_cat_AA * 2) * a) * NH4) / (k_a_NH4 * k_a)) / ((((1 + (1 + AA / k_a_AA)) + NH4 / k_a_NH4) + (1 + AA / k_NH4_AA)) + NH4 / k_NH4)) * AA_prot - (((((rmq + rmr) + rmt) + rmm) + nit_mrna_ribo) + AA_mrna_ribo) * (((1260.0a) * AA) / (((k_ribo_a * k_ribo_a_AA + k_ribo_a_AA * a) + k_ribo_AA_a * AA) + a * AA))) - (((((((rmq + rmr) + rmt) + rmm) + nit_mrna_ribo) + AA_mrna_ribo) * (((1260.0a) * AA) / (((k_ribo_a * k_ribo_a_AA + k_ribo_a_AA * a) + k_ribo_AA_a * AA) + a * AA))) / 1.0e8) * AA)                                                                                                                                                                                                                                                                                                                                                                                                                                                                                                                                                                                                                                                                                                                                     \n",
       " Equation(AA_prot, ((((1260.0a) * AA) / (((k_ribo_a * k_ribo_a_AA + k_ribo_a_AA * a) + k_ribo_AA_a * AA) + a * AA)) / 300.0) * AA_mrna_ribo - (((((((rmq + rmr) + rmt) + rmm) + nit_mrna_ribo) + AA_mrna_ribo) * (((1260.0a) * AA) / (((k_ribo_a * k_ribo_a_AA + k_ribo_a_AA * a) + k_ribo_AA_a * AA) + a * AA))) / 1.0e8) * AA_prot)                                                                                                                                                                                                                                                                                                                                                                                                                                                                                                                                                                                                                                                                                                                                                                                                                                                                                                                        \n",
       " Equation(AA_mrna, (((((900.0a) / (4.379733394834643 + a) + 1.0AA_mrna_ribo) + ((((1260.0a) * AA) / (((k_ribo_a * k_ribo_a_AA + k_ribo_a_AA * a) + k_ribo_AA_a * AA) + a * AA)) / 300.0) * AA_mrna_ribo) - (1.0r) * AA_mrna) - 0.1AA_mrna) - (((((((rmq + rmr) + rmt) + rmm) + nit_mrna_ribo) + AA_mrna_ribo) * (((1260.0a) * AA) / (((k_ribo_a * k_ribo_a_AA + k_ribo_a_AA * a) + k_ribo_AA_a * AA) + a * AA))) / 1.0e8) * AA_mrna)                                                                                                                                                                                                                                                                                                                                                                                                                                                                                                                                                                                                                                                                                                                                                                                                                         \n",
       " Equation(AA_mrna_ribo, (((1.0r) * AA_mrna - 1.0AA_mrna_ribo) - ((((1260.0a) * AA) / (((k_ribo_a * k_ribo_a_AA + k_ribo_a_AA * a) + k_ribo_AA_a * AA) + a * AA)) / 300.0) * AA_mrna_ribo) - (((((((rmq + rmr) + rmt) + rmm) + nit_mrna_ribo) + AA_mrna_ribo) * (((1260.0a) * AA) / (((k_ribo_a * k_ribo_a_AA + k_ribo_a_AA * a) + k_ribo_AA_a * AA) + a * AA))) / 1.0e8) * AA_mrna_ribo)                                                                                                                                                                                                                                                                                                                                                                                                                                                                                                                                                                                                                                                                                                                                                                                                                                                                     "
      ]
     },
     "execution_count": 18,
     "metadata": {},
     "output_type": "execute_result"
    }
   ],
   "source": [
    "include(\"setup_ABC.jl\")\n",
    "# println(\"parameters setup complete\")\n",
    "\n",
    "# s_out(t) rmr(t) em(t) rmq(t) rmt(t) et(t) rmm(t) mt(t) mm(t) q(t) si(t) mq(t) mr(t) r(t) NH4(t) nit_mrna(t) nit_mrna_ribo(t) nit(t) NH4_ex(t) N(t) a(t) AA(t) AA_prot(t) AA_mrna(t) AA_mrna_ribo(t)\n",
    "@variables s_out rmr em rmq rmt et rmm mt mm q si mq mr r NH4 nit_mrna nit_mrna_ribo nit NH4_ex N a AA AA_prot AA_mrna AA_mrna_ribo\n",
    "\n",
    "@parameters k_ribo_a_AA k_ribo_AA_a k_a k_cat_AA k_a_NH4 k_NH4 k_a_AA k_NH4_AA k_ribo_a\n",
    "\n",
    "gam= (gmax*a*AA)/(k_ribo_a*k_ribo_a_AA+k_ribo_a_AA*a+k_ribo_AA_a*AA+a*AA) #updated gamma equation that uses both ATP and AA\n",
    "ttrate= (rmq + rmr + rmt + rmm + nit_mrna_ribo+AA_mrna_ribo)*gam #total translation rate (sum of the mRNA/ribosome complexes times translation rate)\n",
    "lam= ttrate/M\n",
    "nucat= em*vm*si/(Km + si) \n",
    "AA_vo = ((k_cat_AA*2*a*NH4)/(k_a_NH4*k_a))/(1+(1+(AA/k_a_AA))+(NH4/k_a_NH4)+(1+(AA/k_NH4_AA))+(NH4/k_NH4))\n",
    "new_AA = AA_vo*AA_prot\n",
    "AA_a_use = new_AA*2 #each AA produced uses x number of ATP molecules\n",
    "AA_NH4_use = new_AA*2 #each AA produced uses 2 NH4 molecules\n",
    "export_rate = 0 #export rate of NH4\n",
    "fixation = 0\n",
    "death_rate = 0\n",
    "   \n",
    "eqs = [\n",
    "    s_out~ ((-et*vt*s_out/(Kt+s_out))*N)-ds*s_out+(export_rate*NH4*50)+1e7\n",
    "    rmr~ kb*r*mr-ku*rmr-(gam/nr)*rmr-lam*rmr\n",
    "    em~ (gam/nx)*rmm-lam*em\n",
    "    rmq~ kb*r*mq-ku*rmq-(gam/nx)*rmq-lam*rmq\n",
    "    rmt~ kb*r*mt-ku*rmt-gam/nx*rmt-lam*rmt\n",
    "    et~ (gam/nx)*rmt-lam*et\n",
    "    rmm~ kb*r*mm-ku*rmm-gam/nx*rmm-lam*rmm\n",
    "    mt~ (we*a/(thetax+a))+ku*rmt+(gam/nx)*rmt-kb*r*mt-dm*mt-lam*mt\n",
    "    mm~ (we*a/(thetax+a))+ku*rmm+(gam/nx)*rmm-kb*r*mm-dm*mm-lam*mm\n",
    "    q~ (gam/nx)*rmq-lam*q\n",
    "    si~ (et*vt*s_out/(Kt+s_out))-nucat-lam*si\n",
    "    mq~ (wq*a/(thetax+a)/(1+(q/Kq)^nq))+ku*rmq+(gam/nx)*rmq-kb*r*mq-dm*mq-lam*mq\n",
    "    mr~ (wr*a/(thetar+a))+ku*rmr+(gam/nr)*rmr-kb*r*mr-dm*mr-lam*mr\n",
    "    r~ ku*rmr+ku*rmt+ku*rmm+ku*rmq+(gam/nr)*rmr+(gam/nr)*rmr+(gam/nx)*rmt+(gam/nx)*rmm+(gam/nx)*rmq-kb*r*mr-kb*r*mt-kb*r*mm-kb*r*mq+ku*nit_mrna_ribo+(gam/nx)*nit_mrna_ribo-kb*r*nit_mrna+ku*AA_mrna_ribo+(gam/nx)*AA_mrna_ribo-kb*r*AA_mrna-lam*r\n",
    "    NH4~ fixation*nit-export_rate*NH4-lam*NH4-AA_NH4_use+2.3e6\n",
    "    nit_mrna~ 0 #(v_nit*a/(thetax + a))+(ku*nit_mrna_ribo)+(gam/nx*nit_mrna_ribo)-(kb*r*nit_mrna)-(dm*nit_mrna)-(lam*nit_mrna) #num of free nitrogenase coding mRNA\n",
    "    nit_mrna_ribo~ 0 #(kb*r*nit_mrna)-(ku*nit_mrna_ribo)-(gam/nx*nit_mrna_ribo)-(lam*nit_mrna_ribo) #num of nit mRNA-ribosome complexes\n",
    "    nit~ 0 #(gam/nx)*nit_mrna_ribo-lam*nit #num of nitrogenase proteins\n",
    "    NH4_ex~ 0 #(export_rate*NH4)#total num of NH4 molecules exported this timestep\n",
    "    N~ lam*N-death_rate*N #the change in num of bacterial cells instead of just loss to dilution\n",
    "    a~ ns*nucat-ttrate-fixation*nit-AA_a_use-lam*a\n",
    "    AA~ new_AA-ttrate-lam*AA\n",
    "    AA_prot~ (gam/nx)*AA_mrna_ribo-lam*AA_prot\n",
    "    AA_mrna~ ((w_AA*a/(thetax + a)))+(ku*AA_mrna_ribo)+(gam/nx*AA_mrna_ribo)-(kb*r*AA_mrna)-(dm*AA_mrna)-(lam*AA_mrna)\n",
    "    AA_mrna_ribo~ (kb*r*AA_mrna)-(ku*AA_mrna_ribo)-(gam/nx*AA_mrna_ribo)-(lam*AA_mrna_ribo)\n",
    "]\n",
    "\n",
    "#     end k_cat_AA k_a_NH4 k_NH4 k_a_AA k_NH4_AA k_ribo_a\n",
    "\n"
   ]
  },
  {
   "cell_type": "code",
   "execution_count": 28,
   "metadata": {},
   "outputs": [
    {
     "ename": "MethodError",
     "evalue": "MethodError: no method matching ODESystem(::Array{Equation,1}, ::Array{Operation,1}, ::Array{Operation,1})\nClosest candidates are:\n  ODESystem(::AbstractArray{#s43,1} where #s43<:Equation, ::Any, ::Any, !Matched::Any) at /Users/leanne/.julia/packages/ModelingToolkit/PPjhj/src/systems/diffeqs/diffeqsystem.jl:109\n  ODESystem(::Any, ::Any, ::Any, !Matched::Any, !Matched::Any, !Matched::Any, !Matched::Any) at /Users/leanne/.julia/packages/ModelingToolkit/PPjhj/src/systems/diffeqs/diffeqsystem.jl:59\n  ODESystem(!Matched::AbstractArray{ModelingToolkit.DiffEq,1}, ::Any, ::Any, !Matched::Any) at /Users/leanne/.julia/packages/ModelingToolkit/PPjhj/src/systems/diffeqs/diffeqsystem.jl:102\n  ...",
     "output_type": "error",
     "traceback": [
      "MethodError: no method matching ODESystem(::Array{Equation,1}, ::Array{Operation,1}, ::Array{Operation,1})\nClosest candidates are:\n  ODESystem(::AbstractArray{#s43,1} where #s43<:Equation, ::Any, ::Any, !Matched::Any) at /Users/leanne/.julia/packages/ModelingToolkit/PPjhj/src/systems/diffeqs/diffeqsystem.jl:109\n  ODESystem(::Any, ::Any, ::Any, !Matched::Any, !Matched::Any, !Matched::Any, !Matched::Any) at /Users/leanne/.julia/packages/ModelingToolkit/PPjhj/src/systems/diffeqs/diffeqsystem.jl:59\n  ODESystem(!Matched::AbstractArray{ModelingToolkit.DiffEq,1}, ::Any, ::Any, !Matched::Any) at /Users/leanne/.julia/packages/ModelingToolkit/PPjhj/src/systems/diffeqs/diffeqsystem.jl:102\n  ...",
      "",
      "Stacktrace:",
      " [1] top-level scope at In[28]:1"
     ]
    }
   ],
   "source": [
    "# problm3 = ODEProblem(eqs,init2,(time1,time2),params)\n",
    "\n",
    "de = ODESystem(eqs, [s_out, rmr, em, rmq, rmt, et, rmm, mt, mm, q, si, mq, mr, r, NH4, nit_mrna, nit_mrna_ribo, nit, NH4_ex, N, a, AA, AA_prot, AA_mrna, AA_mrna_ribo],[k_ribo_a_AA, k_ribo_AA_a, k_a, k_cat_AA, k_a_NH4, k_NH4, k_a_AA, k_NH4_AA, k_ribo_a])"
   ]
  },
  {
   "cell_type": "code",
   "execution_count": 29,
   "metadata": {},
   "outputs": [
    {
     "ename": "UndefVarError",
     "evalue": "UndefVarError: type not defined",
     "output_type": "error",
     "traceback": [
      "UndefVarError: type not defined",
      "",
      "Stacktrace:",
      " [1] top-level scope at In[29]:1"
     ]
    }
   ],
   "source": [
    "type(eqs)"
   ]
  },
  {
   "cell_type": "code",
   "execution_count": null,
   "metadata": {},
   "outputs": [],
   "source": []
  },
  {
   "cell_type": "code",
   "execution_count": null,
   "metadata": {},
   "outputs": [],
   "source": []
  },
  {
   "cell_type": "code",
   "execution_count": 26,
   "metadata": {},
   "outputs": [
    {
     "name": "stdout",
     "output_type": "stream",
     "text": [
      "search: \u001b[0m\u001b[1mA\u001b[22m\u001b[0m\u001b[1mb\u001b[22m\u001b[0m\u001b[1ms\u001b[22m\u001b[0m\u001b[1mt\u001b[22m\u001b[0m\u001b[1mr\u001b[22m\u001b[0m\u001b[1ma\u001b[22m\u001b[0m\u001b[1mc\u001b[22m\u001b[0m\u001b[1mt\u001b[22m\u001b[0m\u001b[1mA\u001b[22m\u001b[0m\u001b[1mr\u001b[22m\u001b[0m\u001b[1mr\u001b[22m\u001b[0m\u001b[1ma\u001b[22m\u001b[0m\u001b[1my\u001b[22m \u001b[0m\u001b[1mA\u001b[22m\u001b[0m\u001b[1mb\u001b[22m\u001b[0m\u001b[1ms\u001b[22m\u001b[0m\u001b[1mt\u001b[22m\u001b[0m\u001b[1mr\u001b[22m\u001b[0m\u001b[1ma\u001b[22m\u001b[0m\u001b[1mc\u001b[22m\u001b[0m\u001b[1mt\u001b[22mDiffEq\u001b[0m\u001b[1mA\u001b[22m\u001b[0m\u001b[1mr\u001b[22m\u001b[0m\u001b[1mr\u001b[22m\u001b[0m\u001b[1ma\u001b[22m\u001b[0m\u001b[1my\u001b[22m \u001b[0m\u001b[1mA\u001b[22m\u001b[0m\u001b[1mb\u001b[22m\u001b[0m\u001b[1ms\u001b[22m\u001b[0m\u001b[1mt\u001b[22m\u001b[0m\u001b[1mr\u001b[22m\u001b[0m\u001b[1ma\u001b[22m\u001b[0m\u001b[1mc\u001b[22m\u001b[0m\u001b[1mt\u001b[22mVectorOf\u001b[0m\u001b[1mA\u001b[22m\u001b[0m\u001b[1mr\u001b[22m\u001b[0m\u001b[1mr\u001b[22m\u001b[0m\u001b[1ma\u001b[22m\u001b[0m\u001b[1my\u001b[22m\n",
      "\n"
     ]
    },
    {
     "data": {
      "text/latex": [
       "\\begin{verbatim}\n",
       "AbstractArray{T,N}\n",
       "\\end{verbatim}\n",
       "Supertype for \\texttt{N}-dimensional arrays (or array-like types) with elements of type \\texttt{T}. \\href{@ref}{\\texttt{Array}} and other types are subtypes of this. See the manual section on the \\href{@ref man-interface-array}{\\texttt{AbstractArray} interface}.\n",
       "\n"
      ],
      "text/markdown": [
       "```\n",
       "AbstractArray{T,N}\n",
       "```\n",
       "\n",
       "Supertype for `N`-dimensional arrays (or array-like types) with elements of type `T`. [`Array`](@ref) and other types are subtypes of this. See the manual section on the [`AbstractArray` interface](@ref man-interface-array).\n"
      ],
      "text/plain": [
       "\u001b[36m  AbstractArray{T,N}\u001b[39m\n",
       "\n",
       "  Supertype for \u001b[36mN\u001b[39m-dimensional arrays (or array-like types) with elements of\n",
       "  type \u001b[36mT\u001b[39m. \u001b[36mArray\u001b[39m and other types are subtypes of this. See the manual section\n",
       "  on the \u001b[36mAbstractArray\u001b[39m interface."
      ]
     },
     "execution_count": 26,
     "metadata": {},
     "output_type": "execute_result"
    }
   ],
   "source": [
    "?AbstractArray"
   ]
  },
  {
   "cell_type": "code",
   "execution_count": 23,
   "metadata": {},
   "outputs": [
    {
     "data": {
      "text/plain": [
       "3-element Array{Equation,1}:\n",
       " Equation(derivative(x(t), t), σ * (y(t) - x(t)))       \n",
       " Equation(derivative(y(t), t), x(t) * (ρ - z(t)) - y(t))\n",
       " Equation(derivative(z(t), t), x(t) * y(t) - β * z(t))  "
      ]
     },
     "execution_count": 23,
     "metadata": {},
     "output_type": "execute_result"
    }
   ],
   "source": [
    "@parameters t σ ρ β\n",
    "@variables x(t) y(t) z(t)\n",
    "@derivatives D'~t\n",
    "\n",
    "\n",
    "eqs = [D(x) ~ σ*(y-x),\n",
    "       D(y) ~ x*(ρ-z)-y,\n",
    "       D(z) ~ x*y - β*z]"
   ]
  },
  {
   "cell_type": "code",
   "execution_count": 24,
   "metadata": {},
   "outputs": [
    {
     "data": {
      "text/plain": [
       "ODESystem(ModelingToolkit.DiffEq[ModelingToolkit.DiffEq(x, 1, σ * (y(t) - x(t))), ModelingToolkit.DiffEq(y, 1, x(t) * (ρ - z(t)) - y(t)), ModelingToolkit.DiffEq(z, 1, x(t) * y(t) - β * z(t))], t, Variable[x, y, z], Variable[σ, ρ, β], Base.RefValue{Array{Expression,2}}(Array{Expression}(undef,0,0)), Base.RefValue{Array{Expression,2}}(Array{Expression}(undef,0,0)), Base.RefValue{Array{Expression,2}}(Array{Expression}(undef,0,0)))"
      ]
     },
     "execution_count": 24,
     "metadata": {},
     "output_type": "execute_result"
    }
   ],
   "source": [
    "de = ODESystem(eqs, t, [x,y,z], [σ,ρ,β])\n"
   ]
  },
  {
   "cell_type": "code",
   "execution_count": null,
   "metadata": {},
   "outputs": [],
   "source": []
  },
  {
   "cell_type": "code",
   "execution_count": 20,
   "metadata": {},
   "outputs": [
    {
     "ename": "UndefVarError",
     "evalue": "UndefVarError: linspace not defined",
     "output_type": "error",
     "traceback": [
      "UndefVarError: linspace not defined",
      "",
      "Stacktrace:",
      " [1] top-level scope at In[20]:1"
     ]
    }
   ],
   "source": [
    "t = collect(linspace(1,10000))\n",
    "data = [1,2,3]\n",
    "abc_inference(eqs, Tsit5(),t,data,[Uniform()]"
   ]
  },
  {
   "cell_type": "code",
   "execution_count": 18,
   "metadata": {},
   "outputs": [
    {
     "name": "stdout",
     "output_type": "stream",
     "text": [
      "search: \u001b[0m\u001b[1mO\u001b[22m\u001b[0m\u001b[1mD\u001b[22m\u001b[0m\u001b[1mE\u001b[22m\u001b[0m\u001b[1mP\u001b[22m\u001b[0m\u001b[1mr\u001b[22m\u001b[0m\u001b[1mo\u001b[22m\u001b[0m\u001b[1mb\u001b[22m\u001b[0m\u001b[1ml\u001b[22m\u001b[0m\u001b[1me\u001b[22m\u001b[0m\u001b[1mm\u001b[22m R\u001b[0m\u001b[1mO\u001b[22m\u001b[0m\u001b[1mD\u001b[22m\u001b[0m\u001b[1mE\u001b[22m\u001b[0m\u001b[1mP\u001b[22m\u001b[0m\u001b[1mr\u001b[22m\u001b[0m\u001b[1mo\u001b[22m\u001b[0m\u001b[1mb\u001b[22m\u001b[0m\u001b[1ml\u001b[22m\u001b[0m\u001b[1me\u001b[22m\u001b[0m\u001b[1mm\u001b[22m Split\u001b[0m\u001b[1mO\u001b[22m\u001b[0m\u001b[1mD\u001b[22m\u001b[0m\u001b[1mE\u001b[22m\u001b[0m\u001b[1mP\u001b[22m\u001b[0m\u001b[1mr\u001b[22m\u001b[0m\u001b[1mo\u001b[22m\u001b[0m\u001b[1mb\u001b[22m\u001b[0m\u001b[1ml\u001b[22m\u001b[0m\u001b[1me\u001b[22m\u001b[0m\u001b[1mm\u001b[22m Dynamical\u001b[0m\u001b[1mO\u001b[22m\u001b[0m\u001b[1mD\u001b[22m\u001b[0m\u001b[1mE\u001b[22m\u001b[0m\u001b[1mP\u001b[22m\u001b[0m\u001b[1mr\u001b[22m\u001b[0m\u001b[1mo\u001b[22m\u001b[0m\u001b[1mb\u001b[22m\u001b[0m\u001b[1ml\u001b[22m\u001b[0m\u001b[1me\u001b[22m\u001b[0m\u001b[1mm\u001b[22m\n",
      "\n"
     ]
    },
    {
     "data": {
      "text/latex": [
       "\\begin{verbatim}\n",
       "struct ODEProblem{uType, tType, isinplace, P, F, K, PT} <: DiffEqBase.AbstractODEProblem{uType,tType,isinplace}\n",
       "\\end{verbatim}\n",
       "Defines an ODE problem.\n",
       "\n",
       "\\section{Fields}\n",
       "\\begin{itemize}\n",
       "\\item \\texttt{f}\n",
       "\n",
       "The ODE is \\texttt{du/dt = f(u,p,t)}.\n",
       "\n",
       "\n",
       "\\item \\texttt{u0}\n",
       "\n",
       "The initial condition is \\texttt{u(tspan[1]) = u0}.\n",
       "\n",
       "\n",
       "\\item \\texttt{tspan}\n",
       "\n",
       "The solution \\texttt{u(t)} will be computed for \\texttt{tspan[1] ≤ t ≤ tspan[2]}.\n",
       "\n",
       "\n",
       "\\item \\texttt{p}\n",
       "\n",
       "Constant parameters to be supplied as the second argument of \\texttt{f}.\n",
       "\n",
       "\n",
       "\\item \\texttt{kwargs}\n",
       "\n",
       "A callback to be applied to every solver which uses the problem.\n",
       "\n",
       "\n",
       "\\item \\texttt{problem\\_type}\n",
       "\n",
       "\\end{itemize}\n",
       "\\rule{\\textwidth}{1pt}\n",
       "\\begin{verbatim}\n",
       "ODEProblem(f::ODEFunction,u0,tspan,p=NullParameters(),callback=CallbackSet())\n",
       "\\end{verbatim}\n",
       "Define an ODE problem from an \\href{@ref}{\\texttt{ODEFunction}}.\n",
       "\n"
      ],
      "text/markdown": [
       "```julia\n",
       "struct ODEProblem{uType, tType, isinplace, P, F, K, PT} <: DiffEqBase.AbstractODEProblem{uType,tType,isinplace}\n",
       "```\n",
       "\n",
       "Defines an ODE problem.\n",
       "\n",
       "# Fields\n",
       "\n",
       "  * `f`\n",
       "\n",
       "    The ODE is `du/dt = f(u,p,t)`.\n",
       "  * `u0`\n",
       "\n",
       "    The initial condition is `u(tspan[1]) = u0`.\n",
       "  * `tspan`\n",
       "\n",
       "    The solution `u(t)` will be computed for `tspan[1] ≤ t ≤ tspan[2]`.\n",
       "  * `p`\n",
       "\n",
       "    Constant parameters to be supplied as the second argument of `f`.\n",
       "  * `kwargs`\n",
       "\n",
       "    A callback to be applied to every solver which uses the problem.\n",
       "  * `problem_type`\n",
       "\n",
       "---\n",
       "\n",
       "```\n",
       "ODEProblem(f::ODEFunction,u0,tspan,p=NullParameters(),callback=CallbackSet())\n",
       "```\n",
       "\n",
       "Define an ODE problem from an [`ODEFunction`](@ref).\n"
      ],
      "text/plain": [
       "\u001b[36m  struct ODEProblem{uType, tType, isinplace, P, F, K, PT} <: DiffEqBase.AbstractODEProblem{uType,tType,isinplace}\u001b[39m\n",
       "\n",
       "  Defines an ODE problem.\n",
       "\n",
       "\u001b[1m  Fields\u001b[22m\n",
       "\u001b[1m  ≡≡≡≡≡≡≡≡\u001b[22m\n",
       "\n",
       "    •    \u001b[36mf\u001b[39m\n",
       "      \n",
       "        The ODE is \u001b[36mdu/dt = f(u,p,t)\u001b[39m.\n",
       "\n",
       "    •    \u001b[36mu0\u001b[39m\n",
       "      \n",
       "        The initial condition is \u001b[36mu(tspan[1]) = u0\u001b[39m.\n",
       "\n",
       "    •    \u001b[36mtspan\u001b[39m\n",
       "      \n",
       "        The solution \u001b[36mu(t)\u001b[39m will be computed for \u001b[36mtspan[1] ≤ t ≤ tspan[2]\u001b[39m.\n",
       "\n",
       "    •    \u001b[36mp\u001b[39m\n",
       "      \n",
       "        Constant parameters to be supplied as the second argument of \u001b[36mf\u001b[39m.\n",
       "\n",
       "    •    \u001b[36mkwargs\u001b[39m\n",
       "      \n",
       "        A callback to be applied to every solver which uses the problem.\n",
       "\n",
       "    •    \u001b[36mproblem_type\u001b[39m\n",
       "\n",
       "  ────────────────────────────────────────────────────────────────────────────\n",
       "\n",
       "\u001b[36m  ODEProblem(f::ODEFunction,u0,tspan,p=NullParameters(),callback=CallbackSet())\u001b[39m\n",
       "\n",
       "  Define an ODE problem from an \u001b[36mODEFunction\u001b[39m."
      ]
     },
     "execution_count": 18,
     "metadata": {},
     "output_type": "execute_result"
    }
   ],
   "source": [
    "?DEProblem"
   ]
  },
  {
   "cell_type": "code",
   "execution_count": 19,
   "metadata": {},
   "outputs": [
    {
     "name": "stdout",
     "output_type": "stream",
     "text": [
      "search: \u001b[0m\u001b[1mO\u001b[22m\u001b[0m\u001b[1mD\u001b[22m\u001b[0m\u001b[1mE\u001b[22m\u001b[0m\u001b[1mF\u001b[22m\u001b[0m\u001b[1mu\u001b[22m\u001b[0m\u001b[1mn\u001b[22m\u001b[0m\u001b[1mc\u001b[22m\u001b[0m\u001b[1mt\u001b[22m\u001b[0m\u001b[1mi\u001b[22m\u001b[0m\u001b[1mo\u001b[22m\u001b[0m\u001b[1mn\u001b[22m R\u001b[0m\u001b[1mO\u001b[22m\u001b[0m\u001b[1mD\u001b[22m\u001b[0m\u001b[1mE\u001b[22m\u001b[0m\u001b[1mF\u001b[22m\u001b[0m\u001b[1mu\u001b[22m\u001b[0m\u001b[1mn\u001b[22m\u001b[0m\u001b[1mc\u001b[22m\u001b[0m\u001b[1mt\u001b[22m\u001b[0m\u001b[1mi\u001b[22m\u001b[0m\u001b[1mo\u001b[22m\u001b[0m\u001b[1mn\u001b[22m Dynamical\u001b[0m\u001b[1mO\u001b[22m\u001b[0m\u001b[1mD\u001b[22m\u001b[0m\u001b[1mE\u001b[22m\u001b[0m\u001b[1mF\u001b[22m\u001b[0m\u001b[1mu\u001b[22m\u001b[0m\u001b[1mn\u001b[22m\u001b[0m\u001b[1mc\u001b[22m\u001b[0m\u001b[1mt\u001b[22m\u001b[0m\u001b[1mi\u001b[22m\u001b[0m\u001b[1mo\u001b[22m\u001b[0m\u001b[1mn\u001b[22m\n",
      "\n"
     ]
    },
    {
     "data": {
      "text/latex": [
       "\\begin{verbatim}\n",
       "struct ODEFunction{iip, F, TMM, Ta, Tt, TJ, JVP, VJP, JP, TW, TWt, TPJ, S, TCV} <: DiffEqBase.AbstractODEFunction{iip}\n",
       "\\end{verbatim}\n",
       "\\rule{\\textwidth}{1pt}\n",
       "Create an \\texttt{ODEFunction} from the \\href{@ref}{\\texttt{ODESystem}}. The arguments \\texttt{dvs} and \\texttt{ps} are used to set the order of the dependent variable and parameter vectors, respectively.\n",
       "\n"
      ],
      "text/markdown": [
       "```julia\n",
       "struct ODEFunction{iip, F, TMM, Ta, Tt, TJ, JVP, VJP, JP, TW, TWt, TPJ, S, TCV} <: DiffEqBase.AbstractODEFunction{iip}\n",
       "```\n",
       "\n",
       "---\n",
       "\n",
       "Create an `ODEFunction` from the [`ODESystem`](@ref). The arguments `dvs` and `ps` are used to set the order of the dependent variable and parameter vectors, respectively.\n"
      ],
      "text/plain": [
       "\u001b[36m  struct ODEFunction{iip, F, TMM, Ta, Tt, TJ, JVP, VJP, JP, TW, TWt, TPJ, S, TCV} <: DiffEqBase.AbstractODEFunction{iip}\u001b[39m\n",
       "\n",
       "  ────────────────────────────────────────────────────────────────────────────\n",
       "\n",
       "  Create an \u001b[36mODEFunction\u001b[39m from the \u001b[36mODESystem\u001b[39m. The arguments \u001b[36mdvs\u001b[39m and \u001b[36mps\u001b[39m are used\n",
       "  to set the order of the dependent variable and parameter vectors,\n",
       "  respectively."
      ]
     },
     "execution_count": 19,
     "metadata": {},
     "output_type": "execute_result"
    }
   ],
   "source": [
    "?ODEFunction"
   ]
  },
  {
   "cell_type": "code",
   "execution_count": 20,
   "metadata": {},
   "outputs": [
    {
     "name": "stdout",
     "output_type": "stream",
     "text": [
      "search: \u001b[0m\u001b[1mO\u001b[22m\u001b[0m\u001b[1mD\u001b[22m\u001b[0m\u001b[1mE\u001b[22m\u001b[0m\u001b[1mS\u001b[22m\u001b[0m\u001b[1my\u001b[22m\u001b[0m\u001b[1ms\u001b[22m\u001b[0m\u001b[1mt\u001b[22m\u001b[0m\u001b[1me\u001b[22m\u001b[0m\u001b[1mm\u001b[22m\n",
      "\n"
     ]
    },
    {
     "data": {
      "text/latex": [
       "\\begin{verbatim}\n",
       "struct ODESystem <: ModelingToolkit.AbstractSystem\n",
       "\\end{verbatim}\n",
       "A system of ordinary differential equations.\n",
       "\n",
       "\\section{Fields}\n",
       "\\begin{itemize}\n",
       "\\item \\texttt{eqs} - The ODEs defining the system.\n",
       "\n",
       "\\end{itemize}\n",
       "\\section{Examples}\n",
       "\\begin{verbatim}\n",
       "using ModelingToolkit\n",
       "\n",
       "@parameters t σ ρ β\n",
       "@variables x(t) y(t) z(t)\n",
       "@derivatives D'~t\n",
       "\n",
       "eqs = [D(x) ~ σ*(y-x),\n",
       "       D(y) ~ x*(ρ-z)-y,\n",
       "       D(z) ~ x*y - β*z]\n",
       "\n",
       "de = ODESystem(eqs)\n",
       "\\end{verbatim}\n"
      ],
      "text/markdown": [
       "```julia\n",
       "struct ODESystem <: ModelingToolkit.AbstractSystem\n",
       "```\n",
       "\n",
       "A system of ordinary differential equations.\n",
       "\n",
       "# Fields\n",
       "\n",
       "  * `eqs` - The ODEs defining the system.\n",
       "\n",
       "# Examples\n",
       "\n",
       "```\n",
       "using ModelingToolkit\n",
       "\n",
       "@parameters t σ ρ β\n",
       "@variables x(t) y(t) z(t)\n",
       "@derivatives D'~t\n",
       "\n",
       "eqs = [D(x) ~ σ*(y-x),\n",
       "       D(y) ~ x*(ρ-z)-y,\n",
       "       D(z) ~ x*y - β*z]\n",
       "\n",
       "de = ODESystem(eqs)\n",
       "```\n"
      ],
      "text/plain": [
       "\u001b[36m  struct ODESystem <: ModelingToolkit.AbstractSystem\u001b[39m\n",
       "\n",
       "  A system of ordinary differential equations.\n",
       "\n",
       "\u001b[1m  Fields\u001b[22m\n",
       "\u001b[1m  ≡≡≡≡≡≡≡≡\u001b[22m\n",
       "\n",
       "    •    \u001b[36meqs\u001b[39m - The ODEs defining the system.\n",
       "\n",
       "\u001b[1m  Examples\u001b[22m\n",
       "\u001b[1m  ≡≡≡≡≡≡≡≡≡≡\u001b[22m\n",
       "\n",
       "\u001b[36m  using ModelingToolkit\u001b[39m\n",
       "\u001b[36m  \u001b[39m\n",
       "\u001b[36m  @parameters t σ ρ β\u001b[39m\n",
       "\u001b[36m  @variables x(t) y(t) z(t)\u001b[39m\n",
       "\u001b[36m  @derivatives D'~t\u001b[39m\n",
       "\u001b[36m  \u001b[39m\n",
       "\u001b[36m  eqs = [D(x) ~ σ*(y-x),\u001b[39m\n",
       "\u001b[36m         D(y) ~ x*(ρ-z)-y,\u001b[39m\n",
       "\u001b[36m         D(z) ~ x*y - β*z]\u001b[39m\n",
       "\u001b[36m  \u001b[39m\n",
       "\u001b[36m  de = ODESystem(eqs)\u001b[39m"
      ]
     },
     "execution_count": 20,
     "metadata": {},
     "output_type": "execute_result"
    }
   ],
   "source": [
    "?ODESystem"
   ]
  },
  {
   "cell_type": "code",
   "execution_count": 16,
   "metadata": {},
   "outputs": [
    {
     "ename": "LoadError",
     "evalue": "UndefVarError: @ode_def not defined",
     "output_type": "error",
     "traceback": [
      "UndefVarError: @ode_def not defined",
      ""
     ]
    }
   ],
   "source": [
    "ABC_func = @ode_def begin\n",
    "    gam= (gmax*a*AA)/(k_ribo_a*k_ribo_a_AA+k_ribo_a_AA*a+k_ribo_AA_a*AA+a*AA) #updated gamma equation that uses both ATP and AA\n",
    "    ttrate= (rmq + rmr + rmt + rmm + nit_mrna_ribo+AA_mrna_ribo)*gam #total translation rate (sum of the mRNA/ribosome complexes times translation rate)\n",
    "    lam= ttrate/M\n",
    "    nucat= em*vm*si/(Km + si) #nucat is the num of internal substrate molecules used by catabolism. em is the num of molecules of metabolic enzyme, vm is the rate of the metabolic enzyme and si is the internal substrate level\n",
    "    AA_vo = ((k_cat_AA*2*a*NH4)/(k_a_NH4*k_a))/(1+(1+(AA/k_a_AA))+(NH4/k_a_NH4)+(1+(AA/k_NH4_AA))+(NH4/k_NH4))\n",
    "    new_AA = AA_vo*AA_prot\n",
    "    AA_a_use = new_AA*2 #each AA produced uses x number of ATP molecules\n",
    "    AA_NH4_use = new_AA*2 #each AA produced uses 2 NH4 molecules\n",
    "    export_rate = 0 #export rate of NH4\n",
    "    \n",
    "    ds_out= ((-et*vt*s_out/(Kt + s_out))*N)-ds*s_out +(export_rate*NH4*50) +1e7 #change in amount of substrate, a proxy for amount of host plant\n",
    "    drmr= kb*r*mr-ku*rmr-(gam/nr)*rmr-lam*rmr#-dp*r\n",
    "    dem= (gam/nx)*rmm-lam*em#-dp*em\n",
    "    drmq= kb*r*mq-ku*rmq-(gam/nx)*rmq-lam*rmq\n",
    "    drmt= kb*r*mt-ku*rmt-gam/nx*rmt-lam*rmt\n",
    "    det= (gam/nx)*rmt-lam*et#-dp*et\n",
    "    drmm= kb*r*mm-ku*rmm-gam/nx*rmm-lam*rmm\n",
    "    dmt= (we*a/(thetax + a))+ku*rmt+(gam/nx)*rmt-kb*r*mt-dm*mt-lam*mt\n",
    "    dmm= (we*a/(thetax + a))+ku*rmm+(gam/nx)*rmm-kb*r*mm-dm*mm-lam*mm\n",
    "    dq= (gam/nx)*rmq-lam*q#-dp*q\n",
    "    dsi= (et*vt*s_out/(Kt + s_out))-nucat-lam*si#-degredation*si\n",
    "    dmq= (wq*a/(thetax + a)/(1 + (q/Kq)^nq))+ku*rmq+(gam/nx)*rmq-kb*r*mq-dm*mq-lam*mq\n",
    "    dmr= (wr*a/(thetar + a))+ku*rmr+(gam/nr)*rmr-kb*r*mr-dm*mr-lam*mr\n",
    "    dr= ku*rmr +ku*rmt+ ku*rmm+ ku*rmq +(gam/nr)*rmr+(gam/nr)*rmr +(gam/nx)*rmt +(gam/nx)*rmm +(gam/nx)*rmq -kb*r*mr- kb*r*mt- kb*r*mm -kb*r*mq +ku*nit_mrna_ribo +(gam/nx)*nit_mrna_ribo-kb*r*nit_mrna +ku*AA_mrna_ribo +(gam/nx)*AA_mrna_ribo-kb*r*AA_mrna -lam*r\n",
    "    \n",
    "    dNH4= fixation*nit-export_rate*NH4 -lam*NH4 -AA_NH4_use + 2.3e6\n",
    "    dnit_mrna= 0 #(v_nit*a/(thetax + a))+(ku*nit_mrna_ribo)+(gam/nx*nit_mrna_ribo)-(kb*r*nit_mrna)-(dm*nit_mrna)-(lam*nit_mrna) #num of free nitrogenase coding mRNA\n",
    "    dnit_mrna_ribo= 0 #(kb*r*nit_mrna)-(ku*nit_mrna_ribo)-(gam/nx*nit_mrna_ribo)-(lam*nit_mrna_ribo) #num of nit mRNA-ribosome complexes\n",
    "    dnit= 0 #(gam/nx)*nit_mrna_ribo-lam*nit #num of nitrogenase proteins\n",
    "    dNH4_ex= 0 #(export_rate*NH4)#total num of NH4 molecules exported this timestep\n",
    "    dN=lam*N-death_rate*N #the change in num of bacterial cells, instead of just loss to dilution\n",
    "    da= ns*nucat-ttrate-fixation*nit-AA_a_use-lam*a\n",
    "    \n",
    "    dAA= new_AA -ttrate-lam*AA #num of AA\n",
    "    dAA_prot=(gam/nx)*AA_mrna_ribo-lam*AA_prot #num of AA making proteins\n",
    "    dAA_mrna=((w_AA*a/(thetax + a)))+(ku*AA_mrna_ribo)+(gam/nx*AA_mrna_ribo)-(kb*r*AA_mrna)-(dm*AA_mrna)-(lam*AA_mrna)#num of free AA mRNAs\n",
    "    dAA_mrna_ribo=(kb*r*AA_mrna)-(ku*AA_mrna_ribo)-(gam/nx*AA_mrna_ribo)-(lam*AA_mrna_ribo)#num of AA mRNAs bound to ribosomes\n",
    "    \n",
    "    end k_cat_AA k_a_NH4 k_NH4 k_a_AA k_NH4_AA k_ribo_a"
   ]
  },
  {
   "cell_type": "code",
   "execution_count": null,
   "metadata": {
    "collapsed": true,
    "jupyter": {
     "outputs_hidden": true
    }
   },
   "outputs": [],
   "source": []
  },
  {
   "cell_type": "code",
   "execution_count": null,
   "metadata": {
    "collapsed": true,
    "jupyter": {
     "outputs_hidden": true
    }
   },
   "outputs": [],
   "source": []
  },
  {
   "cell_type": "code",
   "execution_count": null,
   "metadata": {
    "collapsed": true,
    "jupyter": {
     "outputs_hidden": true
    }
   },
   "outputs": [],
   "source": []
  }
 ],
 "metadata": {
  "kernelspec": {
   "display_name": "Julia 1.2.0",
   "language": "julia",
   "name": "julia-1.2"
  },
  "language_info": {
   "file_extension": ".jl",
   "mimetype": "application/julia",
   "name": "julia",
   "version": "1.2.0"
  }
 },
 "nbformat": 4,
 "nbformat_minor": 4
}
