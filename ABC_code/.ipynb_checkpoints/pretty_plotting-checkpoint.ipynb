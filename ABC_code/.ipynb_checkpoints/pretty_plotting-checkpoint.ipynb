{
 "cells": [
  {
   "cell_type": "code",
   "execution_count": null,
   "metadata": {},
   "outputs": [],
   "source": [
    "using Plots, CSV, Dates, PyCall, PyPlot, GR, DataStructures\n",
    "# using ODE, DifferentialEquations, KernelDensity, Distances,StatsBase,Printf,Statistics,StatsPlots,DelimitedFiles,ModelingToolkit,Distributions,Conda,LSODA,OrdinaryDiffEq,DiffEqCallbacks\n",
    "@pyimport seaborn as sns\n",
    "# include(\"setup_ABC.jl\") #imports the model functions and initial values\n",
    "pyplot()"
   ]
  },
  {
   "cell_type": "code",
   "execution_count": null,
   "metadata": {},
   "outputs": [],
   "source": []
  },
  {
   "cell_type": "code",
   "execution_count": null,
   "metadata": {},
   "outputs": [],
   "source": []
  },
  {
   "cell_type": "code",
   "execution_count": null,
   "metadata": {},
   "outputs": [],
   "source": []
  },
  {
   "cell_type": "code",
   "execution_count": null,
   "metadata": {},
   "outputs": [],
   "source": []
  }
 ],
 "metadata": {
  "kernelspec": {
   "display_name": "Julia 1.5.1",
   "language": "julia",
   "name": "julia-1.5"
  },
  "language_info": {
   "file_extension": ".jl",
   "mimetype": "application/julia",
   "name": "julia",
   "version": "1.5.1"
  }
 },
 "nbformat": 4,
 "nbformat_minor": 4
}
