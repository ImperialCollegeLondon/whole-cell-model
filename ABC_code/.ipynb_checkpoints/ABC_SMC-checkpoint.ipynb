{
 "cells": [
  {
   "cell_type": "markdown",
   "metadata": {},
   "source": [
    "using the ApproxBayes package to choose the optimal parameters for my amino acid model.\n",
    "\n",
    "6 model parameters to be inferred\n",
    "\n",
    "3 extra parameters to choose: epsilon, the perturbation kernel specs, and the number of particles to accept"
   ]
  },
  {
   "cell_type": "code",
   "execution_count": 1,
   "metadata": {
    "scrolled": true
   },
   "outputs": [
    {
     "name": "stdout",
     "output_type": "stream",
     "text": [
      "\u001b[32m\u001b[1m  Updating\u001b[22m\u001b[39m registry at `C:\\Users\\leann\\.julia\\registries\\General`\n",
      "\u001b[32m\u001b[1m  Updating\u001b[22m\u001b[39m git-repo `https://github.com/JuliaRegistries/General.git`\n",
      "\u001b[2K\u001b[36m\u001b[1mFetching:\u001b[22m\u001b[39m [========================================>]  100.0 %.0 %                                       ]  2.3 %\u001b[36m\u001b[1mFetching:\u001b[22m\u001b[39m [==>                                      ]  3.7 % [===>                                     ]  6.0 %10.2 %\u001b[36m\u001b[1mFetching:\u001b[22m\u001b[39m [======>                                  ]  13.4 %]  15.3 %>                                 ]  17.4 %3 % [=========>                               ]  21.2 %]  22.8 %\u001b[36m\u001b[1mFetching:\u001b[22m\u001b[39m [==========>                              ]  24.7 %26.7 %>                            ]  29.0 %>                           ]  32.4 %6 %36.7 % [================>                        ]  39.3 %.2 % [==================>                      ]  43.0 %                     ]  45.5 %.1 %]  49.4 % [=====================>                   ]  52.0 %>                  ]  53.8 %\u001b[36m\u001b[1mFetching:\u001b[22m\u001b[39m [=======================>                 ]  56.2 %========================>                ]  58.6 %\u001b[36m\u001b[1mFetching:\u001b[22m\u001b[39m [=========================>               ]  60.2 % [=========================>               ]  62.4 %]  65.5 %]  67.3 %\u001b[36m\u001b[1mFetching:\u001b[22m\u001b[39m [=============================>           ]  72.2 %          ]  74.4 % [===============================>         ]  76.8 %6 %80.6 %\u001b[36m\u001b[1mFetching:\u001b[22m\u001b[39m [==================================>      ]  84.9 %=====================================>   ]  91.1 %\u001b[36m\u001b[1mFetching:\u001b[22m\u001b[39m [======================================>  ]  93.9 %\u001b[36m\u001b[1mFetching:\u001b[22m\u001b[39m [=======================================> ]  95.9 %]  97.8 %99.2 %\u001b[?25h\u001b[32m\u001b[1m Resolving\u001b[22m\u001b[39m package versions...\n",
      "\u001b[32m\u001b[1m Installed\u001b[22m\u001b[39m DifferentialEquations ─── v6.10.1\n",
      "\u001b[32m\u001b[1m Installed\u001b[22m\u001b[39m Plots ─────────────────── v0.28.4\n",
      "\u001b[32m\u001b[1m Installed\u001b[22m\u001b[39m DiffEqBayes ───────────── v2.4.0\n",
      "\u001b[32m\u001b[1m Installed\u001b[22m\u001b[39m ModelingToolkit ───────── v1.1.2\n",
      "\u001b[32m\u001b[1m Installed\u001b[22m\u001b[39m Distributions ─────────── v0.21.12\n",
      "\u001b[32m\u001b[1m Installed\u001b[22m\u001b[39m Optim ─────────────────── v0.19.7\n",
      "\u001b[32m\u001b[1m Installed\u001b[22m\u001b[39m Stan ──────────────────── v5.2.0\n",
      "\u001b[32m\u001b[1m Installed\u001b[22m\u001b[39m ArrayInterface ────────── v2.3.1\n",
      "\u001b[32m\u001b[1m Installed\u001b[22m\u001b[39m Graphics ──────────────── v1.0.1\n",
      "\u001b[32m\u001b[1m Installed\u001b[22m\u001b[39m DiffEqCallbacks ───────── v2.11.0\n",
      "\u001b[32m\u001b[1m Installed\u001b[22m\u001b[39m MultivariatePolynomials ─ v0.3.6\n",
      "\u001b[32m\u001b[1m Installed\u001b[22m\u001b[39m MCMCChains ────────────── v1.0.0\n",
      "\u001b[32m\u001b[1m Installed\u001b[22m\u001b[39m DynamicPolynomials ────── v0.3.6\n",
      "\u001b[32m\u001b[1m Installed\u001b[22m\u001b[39m LLVM ──────────────────── v1.3.3\n",
      "\u001b[32m\u001b[1m Installed\u001b[22m\u001b[39m QuasiMonteCarlo ───────── v0.1.0\n",
      "\u001b[32m\u001b[1m Installed\u001b[22m\u001b[39m DiffEqTutorials ───────── v0.1.0\n",
      "\u001b[32m\u001b[1m Installed\u001b[22m\u001b[39m FillArrays ────────────── v0.8.4\n",
      "\u001b[32m\u001b[1m Installed\u001b[22m\u001b[39m CUDAapi ───────────────── v2.1.0\n",
      "\u001b[32m\u001b[1m Installed\u001b[22m\u001b[39m MutableArithmetics ────── v0.2.1\n",
      "\u001b[32m\u001b[1m Installed\u001b[22m\u001b[39m LabelledArrays ────────── v1.0.1\n",
      "\u001b[32m\u001b[1m Installed\u001b[22m\u001b[39m Documenter ────────────── v0.24.3\n",
      "\u001b[32m\u001b[1m Installed\u001b[22m\u001b[39m LogDensityProblems ────── v0.9.1\n",
      "\u001b[32m\u001b[1m Installed\u001b[22m\u001b[39m QuadGK ────────────────── v2.3.1\n",
      "\u001b[32m\u001b[1m Installed\u001b[22m\u001b[39m CuArrays ──────────────── v1.6.0\n",
      "\u001b[32m\u001b[1m Installed\u001b[22m\u001b[39m StanDiagnose ──────────── v1.1.2\n",
      "\u001b[32m\u001b[1m Installed\u001b[22m\u001b[39m DataStructures ────────── v0.17.7\n",
      "\u001b[32m\u001b[1m Installed\u001b[22m\u001b[39m ForwardDiff ───────────── v0.10.8\n",
      "\u001b[32m\u001b[1m Installed\u001b[22m\u001b[39m CategoricalArrays ─────── v0.7.6\n",
      "\u001b[32m\u001b[1m Installed\u001b[22m\u001b[39m DiffEqSensitivity ─────── v6.5.1\n",
      "\u001b[32m\u001b[1m Installed\u001b[22m\u001b[39m DynamicHMC ────────────── v2.1.2\n",
      "\u001b[32m\u001b[1m Installed\u001b[22m\u001b[39m CSV ───────────────────── v0.5.22\n",
      "\u001b[32m\u001b[1m Installed\u001b[22m\u001b[39m DelayDiffEq ───────────── v5.20.0\n",
      "\u001b[32m\u001b[1m Installed\u001b[22m\u001b[39m ExponentialUtilities ──── v1.6.0\n",
      "\u001b[32m\u001b[1m Installed\u001b[22m\u001b[39m OffsetArrays ──────────── v0.11.4\n",
      "\u001b[32m\u001b[1m Installed\u001b[22m\u001b[39m DataValues ────────────── v0.4.13\n",
      "\u001b[32m\u001b[1m Installed\u001b[22m\u001b[39m StanVariational ───────── v1.1.5\n",
      "\u001b[32m\u001b[1m Installed\u001b[22m\u001b[39m TransformVariables ────── v0.3.9\n",
      "\u001b[32m\u001b[1m Installed\u001b[22m\u001b[39m Zygote ────────────────── v0.4.5\n",
      "\u001b[32m\u001b[1m Installed\u001b[22m\u001b[39m DiffEqBase ────────────── v6.12.2\n",
      "\u001b[32m\u001b[1m Installed\u001b[22m\u001b[39m StanBase ──────────────── v1.1.5\n",
      "\u001b[32m\u001b[1m Installed\u001b[22m\u001b[39m NNlib ─────────────────── v0.6.2\n",
      "\u001b[32m\u001b[1m Installed\u001b[22m\u001b[39m StochasticDiffEq ──────── v6.17.1\n",
      "\u001b[32m\u001b[1m Installed\u001b[22m\u001b[39m Interpolations ────────── v0.12.6\n",
      "\u001b[32m\u001b[1m Installed\u001b[22m\u001b[39m DiffEqDiffTools ───────── v1.7.0\n",
      "\u001b[32m\u001b[1m Installed\u001b[22m\u001b[39m CUDAnative ────────────── v2.7.0\n",
      "\u001b[32m\u001b[1m Installed\u001b[22m\u001b[39m Sobol ─────────────────── v1.3.0\n",
      "\u001b[32m\u001b[1m Installed\u001b[22m\u001b[39m OrdinaryDiffEq ────────── v5.27.1\n",
      "\u001b[32m\u001b[1m Installed\u001b[22m\u001b[39m DiffEqPhysics ─────────── v3.4.0\n",
      "\u001b[32m\u001b[1m Installed\u001b[22m\u001b[39m VersionParsing ────────── v1.2.0\n",
      "\u001b[32m\u001b[1m Installed\u001b[22m\u001b[39m DiffEqNoiseProcess ────── v3.8.0\n",
      "\u001b[32m\u001b[1m Installed\u001b[22m\u001b[39m WeakRefStrings ────────── v0.6.2\n",
      "\u001b[32m\u001b[1m Installed\u001b[22m\u001b[39m GeometryTypes ─────────── v0.7.7\n",
      "\u001b[32m\u001b[1m Installed\u001b[22m\u001b[39m NamedTupleTools ───────── v0.12.1\n",
      "\u001b[32m\u001b[1m Installed\u001b[22m\u001b[39m WoodburyMatrices ──────── v0.5.0\n",
      "\u001b[32m\u001b[1m Installed\u001b[22m\u001b[39m CUDAdrv ───────────────── v5.0.1\n",
      "\u001b[32m\u001b[1m Installed\u001b[22m\u001b[39m Compose ───────────────── v0.8.0\n",
      "\u001b[32m\u001b[1m Installed\u001b[22m\u001b[39m DiffEqDevTools ────────── v2.17.0\n",
      "\u001b[32m\u001b[1m Installed\u001b[22m\u001b[39m ZMQ ───────────────────── v1.1.0\n",
      "\u001b[32m\u001b[1m Installed\u001b[22m\u001b[39m GeneralizedGenerated ──── v0.2.1\n",
      "\u001b[32m\u001b[1m Installed\u001b[22m\u001b[39m Tracker ───────────────── v0.2.6\n",
      "\u001b[32m\u001b[1m Installed\u001b[22m\u001b[39m RangeArrays ───────────── v0.3.2\n",
      "\u001b[32m\u001b[1m Installed\u001b[22m\u001b[39m RandomNumbers ─────────── v1.4.0\n",
      "\u001b[32m\u001b[1m Installed\u001b[22m\u001b[39m Measures ──────────────── v0.3.1\n",
      "\u001b[32m\u001b[1m Installed\u001b[22m\u001b[39m StanOptimize ──────────── v1.1.4\n",
      "\u001b[32m\u001b[1m Installed\u001b[22m\u001b[39m PooledArrays ──────────── v0.5.3\n",
      "\u001b[32m\u001b[1m Installed\u001b[22m\u001b[39m DiffEqParamEstim ──────── v1.12.0\n",
      "\u001b[32m\u001b[1m Installed\u001b[22m\u001b[39m StructArrays ──────────── v0.4.1\n",
      "\u001b[32m\u001b[1m Installed\u001b[22m\u001b[39m StatsFuns ─────────────── v0.9.3\n",
      "\u001b[32m\u001b[1m Installed\u001b[22m\u001b[39m SparseDiffTools ───────── v1.2.0\n",
      "\u001b[32m\u001b[1m Installed\u001b[22m\u001b[39m DiffEqJump ────────────── v6.5.0\n",
      "\u001b[32m\u001b[1m Installed\u001b[22m\u001b[39m LsqFit ────────────────── v0.9.0\n",
      "\u001b[32m\u001b[1m Installed\u001b[22m\u001b[39m DoubleFloats ──────────── v1.0.3\n",
      "\u001b[32m\u001b[1m Installed\u001b[22m\u001b[39m StanSample ────────────── v1.1.4\n",
      "\u001b[32m\u001b[1m Installed\u001b[22m\u001b[39m ArbNumerics ───────────── v1.0.2\n",
      "\u001b[32m\u001b[1m Installed\u001b[22m\u001b[39m AdvancedHMC ───────────── v0.2.19\n",
      "\u001b[32m\u001b[1m Installed\u001b[22m\u001b[39m LatinHypercubeSampling ── v1.4.0\n",
      "\u001b[32m\u001b[1m Installed\u001b[22m\u001b[39m ColorTypes ────────────── v0.8.1\n",
      "\u001b[32m\u001b[1m Installed\u001b[22m\u001b[39m LazyArrays ────────────── v0.14.11\n",
      "\u001b[32m\u001b[1m Installed\u001b[22m\u001b[39m DiffRules ─────────────── v1.0.0\n",
      "\u001b[32m\u001b[1m Installed\u001b[22m\u001b[39m ChainRulesCore ────────── v0.4.0\n",
      "\u001b[32m\u001b[1m Installed\u001b[22m\u001b[39m PlotThemes ────────────── v1.0.1\n",
      "\u001b[32m\u001b[1m Installed\u001b[22m\u001b[39m RecursiveArrayTools ───── v2.0.0\n",
      "\u001b[32m\u001b[1m Installed\u001b[22m\u001b[39m IndirectArrays ────────── v0.5.1\n",
      "\u001b[32m\u001b[1m Installed\u001b[22m\u001b[39m DiffResults ───────────── v1.0.2\n",
      "\u001b[32m\u001b[1m Installed\u001b[22m\u001b[39m MultiScaleArrays ──────── v1.6.0\n",
      "\u001b[32m\u001b[1m Installed\u001b[22m\u001b[39m DecFP ─────────────────── v0.4.10\n",
      "\u001b[32m\u001b[1m  Updating\u001b[22m\u001b[39m `C:\\Users\\leann\\.julia\\environments\\v1.2\\Project.toml`\n",
      " \u001b[90m [ebbdde9d]\u001b[39m\u001b[93m ↑ DiffEqBayes v2.2.0 ⇒ v2.4.0\u001b[39m\n",
      " \u001b[90m [6d1b261a]\u001b[39m\u001b[95m ↓ DiffEqTutorials v0.2.0 ⇒ v0.1.0\u001b[39m\n",
      " \u001b[90m [0c46a032]\u001b[39m\u001b[93m ↑ DifferentialEquations v6.8.0 ⇒ v6.10.1\u001b[39m\n",
      " \u001b[90m [31c24e10]\u001b[39m\u001b[93m ↑ Distributions v0.21.9 ⇒ v0.21.12\u001b[39m\n",
      " \u001b[90m [961ee093]\u001b[39m\u001b[93m ↑ ModelingToolkit v1.0.0 ⇒ v1.1.2\u001b[39m\n",
      " \u001b[90m [91a5bcdd]\u001b[39m\u001b[93m ↑ Plots v0.28.0 ⇒ v0.28.4\u001b[39m\n",
      " \u001b[90m [682df890]\u001b[39m\u001b[93m ↑ Stan v5.0.2 ⇒ v5.2.0\u001b[39m\n",
      "\u001b[32m\u001b[1m  Updating\u001b[22m\u001b[39m `C:\\Users\\leann\\.julia\\environments\\v1.2\\Manifest.toml`\n",
      " \u001b[90m [0bf59076]\u001b[39m\u001b[93m ↑ AdvancedHMC v0.2.14 ⇒ v0.2.19\u001b[39m\n",
      " \u001b[90m [2169fc97]\u001b[39m\u001b[91m - AlgebraicMultigrid v0.2.2\u001b[39m\n",
      " \u001b[90m [7e558dbc]\u001b[39m\u001b[93m ↑ ArbNumerics v1.0.0 ⇒ v1.0.2\u001b[39m\n",
      " \u001b[90m [4fba245c]\u001b[39m\u001b[93m ↑ ArrayInterface v2.0.0 ⇒ v2.3.1\u001b[39m\n",
      " \u001b[90m [9e28174c]\u001b[39m\u001b[95m ↓ BinDeps v1.0.0 ⇒ v0.8.10\u001b[39m\n",
      " \u001b[90m [8e7c35d0]\u001b[39m\u001b[91m - BlockArrays v0.10.2\u001b[39m\n",
      " \u001b[90m [ffab5731]\u001b[39m\u001b[91m - BlockBandedMatrices v0.6.0\u001b[39m\n",
      " \u001b[90m [336ed68f]\u001b[39m\u001b[93m ↑ CSV v0.5.18 ⇒ v0.5.22\u001b[39m\n",
      " \u001b[90m [3895d2a7]\u001b[39m\u001b[93m ↑ CUDAapi v2.0.0 ⇒ v2.1.0\u001b[39m\n",
      " \u001b[90m [c5f51814]\u001b[39m\u001b[93m ↑ CUDAdrv v4.0.4 ⇒ v5.0.1\u001b[39m\n",
      " \u001b[90m [be33ccc6]\u001b[39m\u001b[93m ↑ CUDAnative v2.6.0 ⇒ v2.7.0\u001b[39m\n",
      " \u001b[90m [7057c7e9]\u001b[39m\u001b[91m - Cassette v0.2.6\u001b[39m\n",
      " \u001b[90m [324d7699]\u001b[39m\u001b[93m ↑ CategoricalArrays v0.7.4 ⇒ v0.7.6\u001b[39m\n",
      " \u001b[90m [d360d2e6]\u001b[39m\u001b[92m + ChainRulesCore v0.4.0\u001b[39m\n",
      " \u001b[90m [3da002f7]\u001b[39m\u001b[93m ↑ ColorTypes v0.8.0 ⇒ v0.8.1\u001b[39m\n",
      " \u001b[90m [a81c6b42]\u001b[39m\u001b[93m ↑ Compose v0.7.3 ⇒ v0.8.0\u001b[39m\n",
      " \u001b[90m [3a865a2d]\u001b[39m\u001b[93m ↑ CuArrays v1.5.0 ⇒ v1.6.0\u001b[39m\n",
      " \u001b[90m [864edb3b]\u001b[39m\u001b[93m ↑ DataStructures v0.17.6 ⇒ v0.17.7\u001b[39m\n",
      " \u001b[90m [e7dc6d0d]\u001b[39m\u001b[93m ↑ DataValues v0.4.12 ⇒ v0.4.13\u001b[39m\n",
      " \u001b[90m [55939f99]\u001b[39m\u001b[93m ↑ DecFP v0.4.9 ⇒ v0.4.10\u001b[39m\n",
      " \u001b[90m [bcd4f6db]\u001b[39m\u001b[93m ↑ DelayDiffEq v5.18.0 ⇒ v5.20.0\u001b[39m\n",
      " \u001b[90m [2b5f629d]\u001b[39m\u001b[93m ↑ DiffEqBase v6.7.0 ⇒ v6.12.2\u001b[39m\n",
      " \u001b[90m [ebbdde9d]\u001b[39m\u001b[93m ↑ DiffEqBayes v2.2.0 ⇒ v2.4.0\u001b[39m\n",
      " \u001b[90m [459566f4]\u001b[39m\u001b[93m ↑ DiffEqCallbacks v2.10.0 ⇒ v2.11.0\u001b[39m\n",
      " \u001b[90m [f3b72e0c]\u001b[39m\u001b[93m ↑ DiffEqDevTools v2.16.0 ⇒ v2.17.0\u001b[39m\n",
      " \u001b[90m [01453d9d]\u001b[39m\u001b[93m ↑ DiffEqDiffTools v1.5.0 ⇒ v1.7.0\u001b[39m\n",
      " \u001b[90m [c894b116]\u001b[39m\u001b[93m ↑ DiffEqJump v6.3.0 ⇒ v6.5.0\u001b[39m\n",
      " \u001b[90m [77a26b50]\u001b[39m\u001b[93m ↑ DiffEqNoiseProcess v3.6.0 ⇒ v3.8.0\u001b[39m\n",
      " \u001b[90m [9fdde737]\u001b[39m\u001b[91m - DiffEqOperators v4.6.0\u001b[39m\n",
      " \u001b[90m [1130ab10]\u001b[39m\u001b[93m ↑ DiffEqParamEstim v1.9.0 ⇒ v1.12.0\u001b[39m\n",
      " \u001b[90m [055956cb]\u001b[39m\u001b[93m ↑ DiffEqPhysics v3.3.0 ⇒ v3.4.0\u001b[39m\n",
      " \u001b[90m [41bf760c]\u001b[39m\u001b[93m ↑ DiffEqSensitivity v4.4.0 ⇒ v6.5.1\u001b[39m\n",
      " \u001b[90m [6d1b261a]\u001b[39m\u001b[95m ↓ DiffEqTutorials v0.2.0 ⇒ v0.1.0\u001b[39m\n",
      " \u001b[90m [163ba53b]\u001b[39m\u001b[93m ↑ DiffResults v0.0.4 ⇒ v1.0.2\u001b[39m\n",
      " \u001b[90m [b552c78f]\u001b[39m\u001b[93m ↑ DiffRules v0.1.0 ⇒ v1.0.0\u001b[39m\n",
      " \u001b[90m [0c46a032]\u001b[39m\u001b[93m ↑ DifferentialEquations v6.8.0 ⇒ v6.10.1\u001b[39m\n",
      " \u001b[90m [31c24e10]\u001b[39m\u001b[93m ↑ Distributions v0.21.9 ⇒ v0.21.12\u001b[39m\n",
      " \u001b[90m [e30172f5]\u001b[39m\u001b[93m ↑ Documenter v0.24.2 ⇒ v0.24.3\u001b[39m\n",
      " \u001b[90m [497a8b3b]\u001b[39m\u001b[93m ↑ DoubleFloats v1.0.1 ⇒ v1.0.3\u001b[39m\n",
      " \u001b[90m [bbc10e6e]\u001b[39m\u001b[93m ↑ DynamicHMC v2.1.1 ⇒ v2.1.2\u001b[39m\n",
      " \u001b[90m [7c1d4256]\u001b[39m\u001b[93m ↑ DynamicPolynomials v0.3.3 ⇒ v0.3.6\u001b[39m\n",
      " \u001b[90m [d4d017d3]\u001b[39m\u001b[93m ↑ ExponentialUtilities v1.5.1 ⇒ v1.6.0\u001b[39m\n",
      " \u001b[90m [1a297f60]\u001b[39m\u001b[93m ↑ FillArrays v0.8.2 ⇒ v0.8.4\u001b[39m\n",
      " \u001b[90m [f6369f11]\u001b[39m\u001b[93m ↑ ForwardDiff v0.10.7 ⇒ v0.10.8\u001b[39m\n",
      " \u001b[90m [6b9d7cbe]\u001b[39m\u001b[93m ↑ GeneralizedGenerated v0.2.0 ⇒ v0.2.1\u001b[39m\n",
      " \u001b[90m [4d00f742]\u001b[39m\u001b[93m ↑ GeometryTypes v0.7.6 ⇒ v0.7.7\u001b[39m\n",
      " \u001b[90m [a2bd30eb]\u001b[39m\u001b[93m ↑ Graphics v1.0.0 ⇒ v1.0.1\u001b[39m\n",
      " \u001b[90m [9b13fd28]\u001b[39m\u001b[93m ↑ IndirectArrays v0.5.0 ⇒ v0.5.1\u001b[39m\n",
      " \u001b[90m [a98d9a8b]\u001b[39m\u001b[93m ↑ Interpolations v0.12.5 ⇒ v0.12.6\u001b[39m\n",
      " \u001b[90m [929cbde3]\u001b[39m\u001b[93m ↑ LLVM v1.3.2 ⇒ v1.3.3\u001b[39m\n",
      " \u001b[90m [2ee39098]\u001b[39m\u001b[93m ↑ LabelledArrays v1.0.0 ⇒ v1.0.1\u001b[39m\n",
      " \u001b[90m [a5e1c1ea]\u001b[39m\u001b[92m + LatinHypercubeSampling v1.4.0\u001b[39m\n",
      " \u001b[90m [5078a376]\u001b[39m\u001b[93m ↑ LazyArrays v0.14.10 ⇒ v0.14.11\u001b[39m\n",
      " \u001b[90m [6fdf6af0]\u001b[39m\u001b[95m ↓ LogDensityProblems v0.9.2 ⇒ v0.9.1\u001b[39m\n",
      " \u001b[90m [2fda8390]\u001b[39m\u001b[93m ↑ LsqFit v0.8.1 ⇒ v0.9.0\u001b[39m\n",
      " \u001b[90m [c7f686f2]\u001b[39m\u001b[93m ↑ MCMCChains v0.4.1 ⇒ v1.0.0\u001b[39m\n",
      " \u001b[90m [a3b82374]\u001b[39m\u001b[91m - MatrixFactorizations v0.2.1\u001b[39m\n",
      " \u001b[90m [442fdcdd]\u001b[39m\u001b[93m ↑ Measures v0.3.0 ⇒ v0.3.1\u001b[39m\n",
      " \u001b[90m [961ee093]\u001b[39m\u001b[93m ↑ ModelingToolkit v1.0.0 ⇒ v1.1.2\u001b[39m\n",
      " \u001b[90m [f9640e96]\u001b[39m\u001b[93m ↑ MultiScaleArrays v1.5.0 ⇒ v1.6.0\u001b[39m\n",
      " \u001b[90m [102ac46a]\u001b[39m\u001b[93m ↑ MultivariatePolynomials v0.3.2 ⇒ v0.3.6\u001b[39m\n",
      " \u001b[90m [d8a4904e]\u001b[39m\u001b[92m + MutableArithmetics v0.2.1\u001b[39m\n",
      " \u001b[90m [872c559c]\u001b[39m\u001b[93m ↑ NNlib v0.6.0 ⇒ v0.6.2\u001b[39m\n",
      " \u001b[90m [d9ec5142]\u001b[39m\u001b[93m ↑ NamedTupleTools v0.12.0 ⇒ v0.12.1\u001b[39m\n",
      " \u001b[90m [6fe1bfb0]\u001b[39m\u001b[93m ↑ OffsetArrays v0.11.3 ⇒ v0.11.4\u001b[39m\n",
      " \u001b[90m [429524aa]\u001b[39m\u001b[93m ↑ Optim v0.19.6 ⇒ v0.19.7\u001b[39m\n",
      " \u001b[90m [1dea7af3]\u001b[39m\u001b[93m ↑ OrdinaryDiffEq v5.26.3 ⇒ v5.27.1\u001b[39m\n",
      " \u001b[90m [ccf2f8ad]\u001b[39m\u001b[93m ↑ PlotThemes v0.4.0 ⇒ v1.0.1\u001b[39m\n",
      " \u001b[90m [91a5bcdd]\u001b[39m\u001b[93m ↑ Plots v0.28.0 ⇒ v0.28.4\u001b[39m\n",
      " \u001b[90m [2dfb63ee]\u001b[39m\u001b[93m ↑ PooledArrays v0.5.2 ⇒ v0.5.3\u001b[39m\n",
      " \u001b[90m [1fd47b50]\u001b[39m\u001b[93m ↑ QuadGK v2.2.0 ⇒ v2.3.1\u001b[39m\n",
      " \u001b[90m [8a4e6c94]\u001b[39m\u001b[92m + QuasiMonteCarlo v0.1.0\u001b[39m\n",
      " \u001b[90m [e6cf234a]\u001b[39m\u001b[93m ↑ RandomNumbers v1.3.0 ⇒ v1.4.0\u001b[39m\n",
      " \u001b[90m [b3c3ace0]\u001b[39m\u001b[93m ↑ RangeArrays v0.3.1 ⇒ v0.3.2\u001b[39m\n",
      " \u001b[90m [731186ca]\u001b[39m\u001b[93m ↑ RecursiveArrayTools v1.2.0 ⇒ v2.0.0\u001b[39m\n",
      " \u001b[90m [ed01d8cd]\u001b[39m\u001b[92m + Sobol v1.3.0\u001b[39m\n",
      " \u001b[90m [47a9eef4]\u001b[39m\u001b[93m ↑ SparseDiffTools v1.0.0 ⇒ v1.2.0\u001b[39m\n",
      " \u001b[90m [684fba80]\u001b[39m\u001b[91m - SparsityDetection v0.1.1\u001b[39m\n",
      " \u001b[90m [682df890]\u001b[39m\u001b[93m ↑ Stan v5.0.2 ⇒ v5.2.0\u001b[39m\n",
      " \u001b[90m [d0ee94f6]\u001b[39m\u001b[93m ↑ StanBase v1.1.1 ⇒ v1.1.5\u001b[39m\n",
      " \u001b[90m [fb13fc95]\u001b[39m\u001b[93m ↑ StanDiagnose v1.1.1 ⇒ v1.1.2\u001b[39m\n",
      " \u001b[90m [fbd8da12]\u001b[39m\u001b[93m ↑ StanOptimize v1.1.1 ⇒ v1.1.4\u001b[39m\n",
      " \u001b[90m [c1514b29]\u001b[39m\u001b[93m ↑ StanSample v1.1.1 ⇒ v1.1.4\u001b[39m\n",
      " \u001b[90m [6ede68ce]\u001b[39m\u001b[93m ↑ StanVariational v1.1.2 ⇒ v1.1.5\u001b[39m\n",
      " \u001b[90m [4c63d2b9]\u001b[39m\u001b[93m ↑ StatsFuns v0.9.2 ⇒ v0.9.3\u001b[39m\n",
      " \u001b[90m [789caeaf]\u001b[39m\u001b[93m ↑ StochasticDiffEq v6.15.0 ⇒ v6.17.1\u001b[39m\n",
      " \u001b[90m [09ab397b]\u001b[39m\u001b[93m ↑ StructArrays v0.4.0 ⇒ v0.4.1\u001b[39m\n",
      " \u001b[90m [9f7883ad]\u001b[39m\u001b[93m ↑ Tracker v0.2.5 ⇒ v0.2.6\u001b[39m\n",
      " \u001b[90m [84d833dd]\u001b[39m\u001b[93m ↑ TransformVariables v0.3.8 ⇒ v0.3.9\u001b[39m\n",
      " \u001b[90m [fce5fe82]\u001b[39m\u001b[95m ↓ Turing v0.7.4 ⇒ v0.7.1\u001b[39m\n",
      " \u001b[90m [81def892]\u001b[39m\u001b[93m ↑ VersionParsing v1.1.3 ⇒ v1.2.0\u001b[39m\n",
      " \u001b[90m [ea10d353]\u001b[39m\u001b[93m ↑ WeakRefStrings v0.6.1 ⇒ v0.6.2\u001b[39m\n",
      " \u001b[90m [efce3f68]\u001b[39m\u001b[93m ↑ WoodburyMatrices v0.4.1 ⇒ v0.5.0\u001b[39m\n",
      " \u001b[90m [c2297ded]\u001b[39m\u001b[93m ↑ ZMQ v1.0.0 ⇒ v1.1.0\u001b[39m\n",
      " \u001b[90m [e88e6eb3]\u001b[39m\u001b[93m ↑ Zygote v0.4.1 ⇒ v0.4.5\u001b[39m\n",
      "\u001b[32m\u001b[1m  Building\u001b[22m\u001b[39m Plots ──────→ `C:\\Users\\leann\\.julia\\packages\\Plots\\qZHsp\\deps\\build.log`\n",
      "\u001b[32m\u001b[1m  Building\u001b[22m\u001b[39m NNlib ──────→ `C:\\Users\\leann\\.julia\\packages\\NNlib\\udnNA\\deps\\build.log`\n",
      "\u001b[32m\u001b[1m  Building\u001b[22m\u001b[39m ZMQ ────────→ `C:\\Users\\leann\\.julia\\packages\\ZMQ\\ItfqT\\deps\\build.log`\n",
      "\u001b[32m\u001b[1m  Building\u001b[22m\u001b[39m ArbNumerics → `C:\\Users\\leann\\.julia\\packages\\ArbNumerics\\mJA5n\\deps\\build.log`\n",
      "\u001b[32m\u001b[1m  Building\u001b[22m\u001b[39m DecFP ──────→ `C:\\Users\\leann\\.julia\\packages\\DecFP\\quvcm\\deps\\build.log`\n"
     ]
    }
   ],
   "source": [
    "using Pkg\n",
    "Pkg.update()"
   ]
  },
  {
   "cell_type": "code",
   "execution_count": 3,
   "metadata": {
    "scrolled": true
   },
   "outputs": [],
   "source": [
    "using ODE\n",
    "using DifferentialEquations\n",
    "using Pandas\n",
    "using Plots\n",
    "using Distributions\n",
    "using ApproxBayes\n",
    "using DiffEqBayes\n",
    "using ModelingToolkit\n",
    "using Stan\n",
    "# using ParameterizedFunctions\n"
   ]
  },
  {
   "cell_type": "code",
   "execution_count": 77,
   "metadata": {},
   "outputs": [
    {
     "name": "stdout",
     "output_type": "stream",
     "text": [
      "parameters setup complete\n"
     ]
    }
   ],
   "source": [
    "# include(\"../code/multilevel-functions.jl\");\n",
    "# println(\"AA_simple and AA_popn_growth functions available\")\n",
    "include(\"setup_ABC.jl\")\n",
    "println(\"parameters setup complete\")"
   ]
  },
  {
   "cell_type": "code",
   "execution_count": 78,
   "metadata": {},
   "outputs": [
    {
     "name": "stdout",
     "output_type": "stream",
     "text": [
      "running with parameters 10.0-10.0-10.0-10.0-10.0-10.0\n",
      "burn in complete\n"
     ]
    }
   ],
   "source": [
    "time1= 10000.0\n",
    "problm = ODEProblem(AA_simple,init,(0.,time1))\n",
    "#the line above runs the single cell model with AA. no cell growth or nitrogenase\n",
    "println(\"running with parameters $k_cat_AA-$k_a_NH4-$k_NH4-$k_a_AA-$k_NH4_AA-$k_ribo_a\")\n",
    "solved = ODE.solve(problm)\n",
    "df1= DataFrame(solved)\n",
    "println(\"burn in complete\")"
   ]
  },
  {
   "cell_type": "code",
   "execution_count": 79,
   "metadata": {},
   "outputs": [],
   "source": [
    "input2 = 10000.0\n",
    "time2 = time1 + input2\n",
    "endstate = size(solved,2)\n",
    "init2 =solved[endstate]\n",
    "problm2 = ODEProblem(AA_popn_growth,init2,(time1,time2));\n",
    "# println(\"running AA popn growth\")\n",
    "# solved2 = solve(problm2)\n",
    "# println(\"AA popn growth complete\")"
   ]
  },
  {
   "cell_type": "code",
   "execution_count": 80,
   "metadata": {},
   "outputs": [
    {
     "data": {
      "text/plain": [
       "25-element Array{Float64,1}:\n",
       "      1.0e11            \n",
       "   4407.834024297837    \n",
       "    321.53513436957564  \n",
       "   1615.411204884411    \n",
       "      7.370060728234487 \n",
       "    321.5351343695751   \n",
       "      7.370060728234496 \n",
       "     20.086443609166075 \n",
       "     20.086443609166114 \n",
       "  70475.8723133415      \n",
       "    143.0746019854696   \n",
       "   4402.6592546542915   \n",
       "   3263.1432462906946   \n",
       "      1.6372852617556957\n",
       "   1000.0               \n",
       "      0.0               \n",
       "      0.0               \n",
       "      0.0               \n",
       "      0.0               \n",
       "      1.0               \n",
       "  46152.56607108405     \n",
       " 413176.0417655678      \n",
       "  69912.92166676397     \n",
       "   4367.491476055563    \n",
       "   1602.507543639397    "
      ]
     },
     "execution_count": 80,
     "metadata": {},
     "output_type": "execute_result"
    }
   ],
   "source": [
    "init2"
   ]
  },
  {
   "cell_type": "code",
   "execution_count": 9,
   "metadata": {},
   "outputs": [
    {
     "data": {
      "text/plain": [
       "1602.507543639397"
      ]
     },
     "execution_count": 9,
     "metadata": {},
     "output_type": "execute_result"
    }
   ],
   "source": [
    "a = init2[21]\n",
    "AA = init2[22]\n",
    "rmq = init2[4]\n",
    "rmr = init2[2]\n",
    "rmt = init2[5]\n",
    "rmm = init2[7]\n",
    "nit_mrna_ribo = init2[16]\n",
    "AA_mrna_ribo = init2[25]"
   ]
  },
  {
   "cell_type": "markdown",
   "metadata": {},
   "source": [
    "Order of molecules in solver:\n",
    "\n",
    "\n",
    "s_out, rmr_0, em_0, rmq_0, rmt_0, et_0, rmm_0,\n",
    "mt_0, mm_0, q_0, si_0, mq_0, mr_0, r_0, NH4_0, nit_mrna_0, nit_mrna_ribo_0, nit_0, exported_0, N_0, a_0, AA_0, AA_prot_0, AA_mrna_0, AA_mrna_ribo_0\n"
   ]
  },
  {
   "cell_type": "code",
   "execution_count": 10,
   "metadata": {},
   "outputs": [
    {
     "data": {
      "text/plain": [
       "0.07758216572575495"
      ]
     },
     "execution_count": 10,
     "metadata": {},
     "output_type": "execute_result"
    }
   ],
   "source": [
    "gam= (gmax*a*AA)/(k_ribo_a*k_ribo_a_AA+k_ribo_a_AA*a+k_ribo_AA_a*AA+a*AA)\n",
    "ttrate= (rmq + rmr + rmt + rmm + nit_mrna_ribo+AA_mrna_ribo)*gam\n",
    "lam= ttrate/M #growth rate, lambda, is the total transcription rate over mid log cell mass\n"
   ]
  },
  {
   "cell_type": "code",
   "execution_count": 11,
   "metadata": {},
   "outputs": [
    {
     "data": {
      "text/plain": [
       "3-element Array{Float64,1}:\n",
       " 413176.0417655678       \n",
       "  46152.56607108405      \n",
       "      0.07758216572575495"
      ]
     },
     "execution_count": 11,
     "metadata": {},
     "output_type": "execute_result"
    }
   ],
   "source": [
    "sim_data = [AA, a, lam]"
   ]
  },
  {
   "cell_type": "code",
   "execution_count": 12,
   "metadata": {},
   "outputs": [
    {
     "data": {
      "text/plain": [
       "3-element Array{Float64,1}:\n",
       " 9.6e8 \n",
       " 1.8e10\n",
       " 0.1   "
      ]
     },
     "execution_count": 12,
     "metadata": {},
     "output_type": "execute_result"
    }
   ],
   "source": [
    "target_data = [9.6e8,1.8e10,0.1]#number of amino acids, ATP and growth rate"
   ]
  },
  {
   "cell_type": "code",
   "execution_count": 13,
   "metadata": {},
   "outputs": [
    {
     "data": {
      "text/plain": [
       "get_sim_data (generic function with 1 method)"
      ]
     },
     "execution_count": 13,
     "metadata": {},
     "output_type": "execute_result"
    }
   ],
   "source": [
    "function get_sim_data(params)\n",
    "    k_cat_AA = params[1]\n",
    "    k_a_NH4 = params[2]\n",
    "    k_NH4 = params[3]\n",
    "    k_a_AA = params[4]\n",
    "    k_NH4_AA = params[5]\n",
    "    k_ribo_a = params[6]\n",
    "    \n",
    "    \n",
    "    problm = ODEProblem(AA_popn_growth,init2,(time1,20000.0));\n",
    "    solved = solve(problm)\n",
    "\n",
    "    \n",
    "    numsteps = size(solved,2)\n",
    "    state =solved[numsteps]\n",
    "    a = state[21]\n",
    "    AA = state[22]\n",
    "    rmq = state[4]\n",
    "    rmr = state[2]\n",
    "    rmt = state[5]\n",
    "    rmm = state[7]\n",
    "    nit_mrna_ribo = state[16]\n",
    "    AA_mrna_ribo = state[25]\n",
    "    gam= (gmax*a*AA)/(k_ribo_a*k_ribo_a_AA+k_ribo_a_AA*a+k_ribo_AA_a*AA+a*AA)\n",
    "    ttrate= (rmq + rmr + rmt + rmm + nit_mrna_ribo+AA_mrna_ribo)*gam\n",
    "    lam= ttrate/M #growth rate, lambda, is the total transcription rate over mid log cell mass\n",
    "    sim_data = [AA, a, lam]\n",
    "    return sim_data\n",
    "end"
   ]
  },
  {
   "cell_type": "code",
   "execution_count": 14,
   "metadata": {},
   "outputs": [
    {
     "data": {
      "text/plain": [
       "sum_sq_dist (generic function with 1 method)"
      ]
     },
     "execution_count": 14,
     "metadata": {},
     "output_type": "execute_result"
    }
   ],
   "source": [
    "function sum_sq_dist(sim_data, target_data)  \n",
    "    output = (sim_data[1]-target_data[1])^2+(sim_data[2]-target_data[2])^2+(sim_data[3]-target_data[3])^2\n",
    "    return output\n",
    "end"
   ]
  },
  {
   "cell_type": "code",
   "execution_count": 15,
   "metadata": {},
   "outputs": [
    {
     "data": {
      "text/plain": [
       "3.2491914538246577e20"
      ]
     },
     "execution_count": 15,
     "metadata": {},
     "output_type": "execute_result"
    }
   ],
   "source": [
    "sum_sq_dist(sim_data, target_data)\n",
    "# abs(sim_data[3]-target_data[3])"
   ]
  },
  {
   "cell_type": "code",
   "execution_count": 16,
   "metadata": {},
   "outputs": [],
   "source": [
    "# ABC1 = ABCSMC(AA_popn_growth, #simulation function\n",
    "# 1, # num parameters\n",
    "# 10000.0, #target for error\n",
    "# Prior([Uniform(0.01, 10000)]); #prior for each of the parameters\n",
    "# maxiterations = 10^6,\n",
    "# )"
   ]
  },
  {
   "cell_type": "code",
   "execution_count": 17,
   "metadata": {},
   "outputs": [
    {
     "data": {
      "text/plain": [
       "10.0"
      ]
     },
     "execution_count": 17,
     "metadata": {},
     "output_type": "execute_result"
    }
   ],
   "source": [
    "#starting values for the 6 parameters to be inferred\n",
    "k_cat_AA = 10.0\n",
    "k_a_NH4 = 10.0\n",
    "k_NH4 = 10.0\n",
    "k_a_AA = 10.0\n",
    "k_NH4_AA = 10.0\n",
    "k_ribo_a = 10.0"
   ]
  },
  {
   "cell_type": "code",
   "execution_count": 18,
   "metadata": {},
   "outputs": [
    {
     "name": "stdout",
     "output_type": "stream",
     "text": [
      "Preparing to run in serial on 1 processor\n",
      "Preparing to run in serial on 1 processor\n",
      "Total number of simulations: 1.95e+04\n",
      "Cumulative number of simulations = [500, 6620, 10164, 12091, 13897, 15633, 17786, 19538]\n",
      "Acceptance ratio: 2.56e-02\n",
      "Tolerance schedule = [10.67, 5.93, 2.06, 0.65, 0.21, 0.07, 0.05, 0.05]\n",
      "\n",
      "Median (95% intervals):\n",
      "Parameter 1"
     ]
    },
    {
     "data": {
      "text/plain": []
     },
     "execution_count": 18,
     "metadata": {},
     "output_type": "execute_result"
    },
    {
     "name": "stdout",
     "output_type": "stream",
     "text": [
      ": 1.50 (1.50,1.50)\n"
     ]
    }
   ],
   "source": [
    "f1 = @ode_def LotkaVolterraTest1 begin\n",
    " dx = a*x - x*y\n",
    " dy = -3*y + x*y\n",
    "end a\n",
    "\n",
    "p = [1.5]\n",
    "u0 = [1.0,1.0]\n",
    "tspan = (0.0,10.0)\n",
    "prob1 = ODEProblem(f1,u0,tspan,p)\n",
    "\n",
    "σ = 0.01                         # noise, fixed for now\n",
    "t = collect(range(1,stop = 10,length =10))   # observation times\n",
    "sol = solve(prob1,Tsit5())\n",
    "\n",
    "randomized = VectorOfArray([(sol(t[i]) + σ * randn(2)) for i in 1:length(t)])\n",
    "data = convert(Array,randomized)\n",
    "\n",
    "bayesian_result_abc = abc_inference(prob1, Tsit5(), t, data, [Normal(1.5, 1)];\n",
    "                                num_samples=500)"
   ]
  },
  {
   "cell_type": "code",
   "execution_count": 19,
   "metadata": {},
   "outputs": [
    {
     "ename": "MethodError",
     "evalue": "MethodError: no method matching ABCSMC(::getfield(DiffEqBayes, Symbol(\"#simfunc#22\")){Base.Iterators.Pairs{Union{},Union{},Tuple{},NamedTuple{(),Tuple{}}},ODEProblem{Array{Float64,1},Tuple{Float64,Float64},true,Float64,ODEFunction{true,typeof(AA_popn_growth),LinearAlgebra.UniformScaling{Bool},Nothing,Nothing,Nothing,Nothing,Nothing,Nothing,Nothing,Nothing,Nothing},Base.Iterators.Pairs{Union{},Union{},Tuple{},NamedTuple{(),Tuple{}}},DiffEqBase.StandardODEProblem},Float64,typeof(Distances.euclidean),Tsit5}, ::Int64, ::Int64, ::Prior; nparticles=500, maxiterations=100000)\nClosest candidates are:\n  ABCSMC(::Function, ::Int64, !Matched::Float64, ::Prior; maxiterations, constants, nparticles, α, ϵ1, convergence, kernel) at C:\\Users\\leann\\.julia\\packages\\ApproxBayes\\EK19t\\src\\types.jl:109",
     "output_type": "error",
     "traceback": [
      "MethodError: no method matching ABCSMC(::getfield(DiffEqBayes, Symbol(\"#simfunc#22\")){Base.Iterators.Pairs{Union{},Union{},Tuple{},NamedTuple{(),Tuple{}}},ODEProblem{Array{Float64,1},Tuple{Float64,Float64},true,Float64,ODEFunction{true,typeof(AA_popn_growth),LinearAlgebra.UniformScaling{Bool},Nothing,Nothing,Nothing,Nothing,Nothing,Nothing,Nothing,Nothing,Nothing},Base.Iterators.Pairs{Union{},Union{},Tuple{},NamedTuple{(),Tuple{}}},DiffEqBase.StandardODEProblem},Float64,typeof(Distances.euclidean),Tsit5}, ::Int64, ::Int64, ::Prior; nparticles=500, maxiterations=100000)\nClosest candidates are:\n  ABCSMC(::Function, ::Int64, !Matched::Float64, ::Prior; maxiterations, constants, nparticles, α, ϵ1, convergence, kernel) at C:\\Users\\leann\\.julia\\packages\\ApproxBayes\\EK19t\\src\\types.jl:109",
      "",
      "Stacktrace:",
      " [1] #abc_inference#25(::Int64, ::Function, ::Type, ::Bool, ::Int64, ::Int64, ::Base.Iterators.Pairs{Union{},Union{},Tuple{},NamedTuple{(),Tuple{}}}, ::typeof(abc_inference), ::ODEProblem{Array{Float64,1},Tuple{Float64,Float64},true,Float64,ODEFunction{true,typeof(AA_popn_growth),LinearAlgebra.UniformScaling{Bool},Nothing,Nothing,Nothing,Nothing,Nothing,Nothing,Nothing,Nothing,Nothing},Base.Iterators.Pairs{Union{},Union{},Tuple{},NamedTuple{(),Tuple{}}},DiffEqBase.StandardODEProblem}, ::Tsit5, ::Float64, ::Array{Float64,1}, ::Array{Normal{Float64},1}) at C:\\Users\\leann\\.julia\\packages\\DiffEqBayes\\UDoWn\\src\\abc_inference.jl:17",
      " [2] (::getfield(DiffEqBayes, Symbol(\"#kw##abc_inference\")))(::NamedTuple{(:num_samples, :ϵ, :progress, :ABCalgorithm),Tuple{Int64,Int64,Bool,DataType}}, ::typeof(abc_inference), ::ODEProblem{Array{Float64,1},Tuple{Float64,Float64},true,Float64,ODEFunction{true,typeof(AA_popn_growth),LinearAlgebra.UniformScaling{Bool},Nothing,Nothing,Nothing,Nothing,Nothing,Nothing,Nothing,Nothing,Nothing},Base.Iterators.Pairs{Union{},Union{},Tuple{},NamedTuple{(),Tuple{}}},DiffEqBase.StandardODEProblem}, ::Tsit5, ::Float64, ::Array{Float64,1}, ::Array{Normal{Float64},1}) at .\\none:0",
      " [3] top-level scope at In[19]:5"
     ]
    }
   ],
   "source": [
    "params = (k_cat_AA) #, k_a_NH4, k_NH4, k_a_AA, k_NH4_AA, k_ribo_a)\n",
    "problm = ODEProblem(AA_popn_growth,init2,(time1,time2), params);\n",
    "# solved = solve(problm)\n",
    "priors = [Normal(5000,10000)]\n",
    "\n",
    "\n",
    "ABC_result = abc_inference(problm, Tsit5(), time2, target_data, priors;\n",
    "    num_samples = 500, ϵ = 1000, progress = true, ABCalgorithm = ABCSMC)"
   ]
  },
  {
   "cell_type": "code",
   "execution_count": 20,
   "metadata": {},
   "outputs": [
    {
     "data": {
      "text/plain": [
       "10.0"
      ]
     },
     "execution_count": 20,
     "metadata": {},
     "output_type": "execute_result"
    }
   ],
   "source": [
    "params"
   ]
  },
  {
   "cell_type": "code",
   "execution_count": 21,
   "metadata": {},
   "outputs": [
    {
     "data": {
      "text/latex": [
       "No documentation found.\n",
       "\n",
       "\\texttt{DiffEqBayes.abc\\_inference} is a \\texttt{Function}.\n",
       "\n",
       "\\begin{verbatim}\n",
       "# 1 method for generic function \"abc_inference\":\n",
       "[1] abc_inference(prob::DiffEqBase.DEProblem, alg, t, data, priors; ϵ, distancefunction, ABCalgorithm, progress, num_samples, maxiterations, kwargs...) in DiffEqBayes at C:\\Users\\leann\\.julia\\packages\\DiffEqBayes\\UDoWn\\src\\abc_inference.jl:17\n",
       "\\end{verbatim}\n"
      ],
      "text/markdown": [
       "No documentation found.\n",
       "\n",
       "`DiffEqBayes.abc_inference` is a `Function`.\n",
       "\n",
       "```\n",
       "# 1 method for generic function \"abc_inference\":\n",
       "[1] abc_inference(prob::DiffEqBase.DEProblem, alg, t, data, priors; ϵ, distancefunction, ABCalgorithm, progress, num_samples, maxiterations, kwargs...) in DiffEqBayes at C:\\Users\\leann\\.julia\\packages\\DiffEqBayes\\UDoWn\\src\\abc_inference.jl:17\n",
       "```\n"
      ],
      "text/plain": [
       "  No documentation found.\n",
       "\n",
       "  \u001b[36mDiffEqBayes.abc_inference\u001b[39m is a \u001b[36mFunction\u001b[39m.\n",
       "\n",
       "\u001b[36m  # 1 method for generic function \"abc_inference\":\u001b[39m\n",
       "\u001b[36m  [1] abc_inference(prob::DiffEqBase.DEProblem, alg, t, data, priors; ϵ, distancefunction, ABCalgorithm, progress, num_samples, maxiterations, kwargs...) in DiffEqBayes at C:\\Users\\leann\\.julia\\packages\\DiffEqBayes\\UDoWn\\src\\abc_inference.jl:17\u001b[39m"
      ]
     },
     "execution_count": 21,
     "metadata": {},
     "output_type": "execute_result"
    }
   ],
   "source": [
    "?DiffEqBayes.abc_inference"
   ]
  },
  {
   "cell_type": "code",
   "execution_count": 22,
   "metadata": {},
   "outputs": [
    {
     "name": "stdout",
     "output_type": "stream",
     "text": [
      "search: \u001b[0m\u001b[1mA\u001b[22m\u001b[0m\u001b[1mB\u001b[22m\u001b[0m\u001b[1mC\u001b[22m\u001b[0m\u001b[1mS\u001b[22m\u001b[0m\u001b[1mM\u001b[22m\u001b[0m\u001b[1mC\u001b[22m \u001b[0m\u001b[1mA\u001b[22m\u001b[0m\u001b[1mB\u001b[22m\u001b[0m\u001b[1mC\u001b[22m\u001b[0m\u001b[1mS\u001b[22m\u001b[0m\u001b[1mM\u001b[22m\u001b[0m\u001b[1mC\u001b[22mModel Gener\u001b[0m\u001b[1ma\u001b[22mlized\u001b[0m\u001b[1mB\u001b[22mla\u001b[0m\u001b[1mc\u001b[22mk\u001b[0m\u001b[1mS\u001b[22mcholesProble\u001b[0m\u001b[1mm\u001b[22m\n",
      "\n"
     ]
    },
    {
     "data": {
      "text/latex": [
       "\\begin{verbatim}\n",
       "ABCRejection(sim_func::Function, nparams::Int64, ϵT::Float64, prior::Prior; <keyword arguments>)\n",
       "\\end{verbatim}\n",
       "Create an ABCSMC type which will simulate data with sim\\emph{func. nparams is the number of parameters inputted into sim}func, ϵT is the target tolerance and prior sets the priors for the parameters. sim\\_func needs to take in 3 values, the parameters (in an array), constants (array) and target data in that order and needs to return 2 values, the first being the distance between the target data and simulated data and the second can be anything but is useful if for example you want to record some additional information about the simulations. ...\n",
       "\n",
       "\\subsection{Arguments}\n",
       "\\begin{itemize}\n",
       "\\item \\texttt{maxiterations = 10\\^{}5}: Maximum number of samples before the ABC algorithm terminates.\n",
       "\n",
       "\n",
       "\\item \\texttt{constants = []}: Any constants needed to simulate from sim\\_func\n",
       "\n",
       "\n",
       "\\item \\texttt{nparticles = 100}: Number of particles (ie samples) of ABC algorithm\n",
       "\n",
       "\n",
       "\\item \\texttt{α = 0.3}: The αth quantile of population i is chosen as the ϵ for population i + 1\n",
       "\n",
       "\n",
       "\\item \\texttt{ϵ1 = 10\\^{}5}: Starting ϵ for first ABC SMC populations\n",
       "\n",
       "\n",
       "\\item \\texttt{convergence = 0.05}: ABC SMC stops when ϵ in population i + 1 is within 0.05 of populations i\n",
       "\n",
       "\n",
       "\\item \\texttt{kernel = uniformkernel}: Parameter perturbation kernel, default is a uniform distribution. \\texttt{gaussiankernel} is also an option that is already available in ApproxBayes.jl. Alternatively you can code up your own kernel function. See kernels.jl for examples.\n",
       "\n",
       "\\end{itemize}\n",
       "...\n",
       "\n"
      ],
      "text/markdown": [
       "```\n",
       "ABCRejection(sim_func::Function, nparams::Int64, ϵT::Float64, prior::Prior; <keyword arguments>)\n",
       "```\n",
       "\n",
       "Create an ABCSMC type which will simulate data with sim*func. nparams is the number of parameters inputted into sim*func, ϵT is the target tolerance and prior sets the priors for the parameters. sim_func needs to take in 3 values, the parameters (in an array), constants (array) and target data in that order and needs to return 2 values, the first being the distance between the target data and simulated data and the second can be anything but is useful if for example you want to record some additional information about the simulations. ...\n",
       "\n",
       "## Arguments\n",
       "\n",
       "  * `maxiterations = 10^5`: Maximum number of samples before the ABC algorithm terminates.\n",
       "  * `constants = []`: Any constants needed to simulate from sim_func\n",
       "  * `nparticles = 100`: Number of particles (ie samples) of ABC algorithm\n",
       "  * `α = 0.3`: The αth quantile of population i is chosen as the ϵ for population i + 1\n",
       "  * `ϵ1 = 10^5`: Starting ϵ for first ABC SMC populations\n",
       "  * `convergence = 0.05`: ABC SMC stops when ϵ in population i + 1 is within 0.05 of populations i\n",
       "  * `kernel = uniformkernel`: Parameter perturbation kernel, default is a uniform distribution. `gaussiankernel` is also an option that is already available in ApproxBayes.jl. Alternatively you can code up your own kernel function. See kernels.jl for examples.\n",
       "\n",
       "...\n"
      ],
      "text/plain": [
       "\u001b[36m  ABCRejection(sim_func::Function, nparams::Int64, ϵT::Float64, prior::Prior; <keyword arguments>)\u001b[39m\n",
       "\n",
       "  Create an ABCSMC type which will simulate data with sim\u001b[4mfunc. nparams is the\n",
       "  number of parameters inputted into sim\u001b[24mfunc, ϵT is the target tolerance and\n",
       "  prior sets the priors for the parameters. sim_func needs to take in 3\n",
       "  values, the parameters (in an array), constants (array) and target data in\n",
       "  that order and needs to return 2 values, the first being the distance\n",
       "  between the target data and simulated data and the second can be anything\n",
       "  but is useful if for example you want to record some additional information\n",
       "  about the simulations. ...\n",
       "\n",
       "\u001b[1m  Arguments\u001b[22m\n",
       "\u001b[1m  ===========\u001b[22m\n",
       "\n",
       "    •    \u001b[36mmaxiterations = 10^5\u001b[39m: Maximum number of samples before the ABC\n",
       "        algorithm terminates.\n",
       "\n",
       "    •    \u001b[36mconstants = []\u001b[39m: Any constants needed to simulate from sim_func\n",
       "\n",
       "    •    \u001b[36mnparticles = 100\u001b[39m: Number of particles (ie samples) of ABC\n",
       "        algorithm\n",
       "\n",
       "    •    \u001b[36mα = 0.3\u001b[39m: The αth quantile of population i is chosen as the ϵ for\n",
       "        population i + 1\n",
       "\n",
       "    •    \u001b[36mϵ1 = 10^5\u001b[39m: Starting ϵ for first ABC SMC populations\n",
       "\n",
       "    •    \u001b[36mconvergence = 0.05\u001b[39m: ABC SMC stops when ϵ in population i + 1 is\n",
       "        within 0.05 of populations i\n",
       "\n",
       "    •    \u001b[36mkernel = uniformkernel\u001b[39m: Parameter perturbation kernel, default is\n",
       "        a uniform distribution. \u001b[36mgaussiankernel\u001b[39m is also an option that is\n",
       "        already available in ApproxBayes.jl. Alternatively you can code up\n",
       "        your own kernel function. See kernels.jl for examples.\n",
       "\n",
       "  ..."
      ]
     },
     "execution_count": 22,
     "metadata": {},
     "output_type": "execute_result"
    }
   ],
   "source": [
    "?ABCSMC"
   ]
  },
  {
   "cell_type": "code",
   "execution_count": 23,
   "metadata": {},
   "outputs": [
    {
     "name": "stdout",
     "output_type": "stream",
     "text": [
      "search: \u001b[0m\u001b[1mr\u001b[22m\u001b[0m\u001b[1ma\u001b[22m\u001b[0m\u001b[1mn\u001b[22m\u001b[0m\u001b[1mg\u001b[22m\u001b[0m\u001b[1me\u001b[22m Lin\u001b[0m\u001b[1mR\u001b[22m\u001b[0m\u001b[1ma\u001b[22m\u001b[0m\u001b[1mn\u001b[22m\u001b[0m\u001b[1mg\u001b[22m\u001b[0m\u001b[1me\u001b[22m Unit\u001b[0m\u001b[1mR\u001b[22m\u001b[0m\u001b[1ma\u001b[22m\u001b[0m\u001b[1mn\u001b[22m\u001b[0m\u001b[1mg\u001b[22m\u001b[0m\u001b[1me\u001b[22m Step\u001b[0m\u001b[1mR\u001b[22m\u001b[0m\u001b[1ma\u001b[22m\u001b[0m\u001b[1mn\u001b[22m\u001b[0m\u001b[1mg\u001b[22m\u001b[0m\u001b[1me\u001b[22m Step\u001b[0m\u001b[1mR\u001b[22m\u001b[0m\u001b[1ma\u001b[22m\u001b[0m\u001b[1mn\u001b[22m\u001b[0m\u001b[1mg\u001b[22m\u001b[0m\u001b[1me\u001b[22mLen date_\u001b[0m\u001b[1mr\u001b[22m\u001b[0m\u001b[1ma\u001b[22m\u001b[0m\u001b[1mn\u001b[22m\u001b[0m\u001b[1mg\u001b[22m\u001b[0m\u001b[1me\u001b[22m bdate_\u001b[0m\u001b[1mr\u001b[22m\u001b[0m\u001b[1ma\u001b[22m\u001b[0m\u001b[1mn\u001b[22m\u001b[0m\u001b[1mg\u001b[22m\u001b[0m\u001b[1me\u001b[22m\n",
      "\n"
     ]
    },
    {
     "data": {
      "text/latex": [
       "\\begin{verbatim}\n",
       "range(start[, stop]; length, stop, step=1)\n",
       "\\end{verbatim}\n",
       "Given a starting value, construct a range either by length or from \\texttt{start} to \\texttt{stop}, optionally with a given step (defaults to 1, a \\href{@ref}{\\texttt{UnitRange}}). One of \\texttt{length} or \\texttt{stop} is required.  If \\texttt{length}, \\texttt{stop}, and \\texttt{step} are all specified, they must agree.\n",
       "\n",
       "If \\texttt{length} and \\texttt{stop} are provided and \\texttt{step} is not, the step size will be computed automatically such that there are \\texttt{length} linearly spaced elements in the range (a \\href{@ref}{\\texttt{LinRange}}).\n",
       "\n",
       "If \\texttt{step} and \\texttt{stop} are provided and \\texttt{length} is not, the overall range length will be computed automatically such that the elements are \\texttt{step} spaced (a \\href{@ref}{\\texttt{StepRange}}).\n",
       "\n",
       "\\texttt{stop} may be specified as either a positional or keyword argument.\n",
       "\n",
       "\\begin{quote}\n",
       "\\textbf{compat}\n",
       "\n",
       "Julia 1.1\n",
       "\n",
       "\\texttt{stop} as a positional argument requires at least Julia 1.1.\n",
       "\n",
       "\\end{quote}\n",
       "\\section{Examples}\n",
       "\\begin{verbatim}\n",
       "julia> range(1, length=100)\n",
       "1:100\n",
       "\n",
       "julia> range(1, stop=100)\n",
       "1:100\n",
       "\n",
       "julia> range(1, step=5, length=100)\n",
       "1:5:496\n",
       "\n",
       "julia> range(1, step=5, stop=100)\n",
       "1:5:96\n",
       "\n",
       "julia> range(1, 10, length=101)\n",
       "1.0:0.09:10.0\n",
       "\n",
       "julia> range(1, 100, step=5)\n",
       "1:5:96\n",
       "\\end{verbatim}\n",
       "\\rule{\\textwidth}{1pt}\n",
       "\\begin{verbatim}\n",
       "range(start::Color; stop::Color, length=100)\n",
       "\\end{verbatim}\n",
       "Generates \\texttt{n}>2 colors in a linearly interpolated ramp from \\texttt{start} to\\texttt{stop}, inclusive, returning an \\texttt{Array} of colors.\n",
       "\n",
       "\\rule{\\textwidth}{1pt}\n",
       "\\begin{verbatim}\n",
       "range(c::AbstractChains)\n",
       "\\end{verbatim}\n",
       "Returns the range used in a \\texttt{Chains} object.\n",
       "\n"
      ],
      "text/markdown": [
       "```\n",
       "range(start[, stop]; length, stop, step=1)\n",
       "```\n",
       "\n",
       "Given a starting value, construct a range either by length or from `start` to `stop`, optionally with a given step (defaults to 1, a [`UnitRange`](@ref)). One of `length` or `stop` is required.  If `length`, `stop`, and `step` are all specified, they must agree.\n",
       "\n",
       "If `length` and `stop` are provided and `step` is not, the step size will be computed automatically such that there are `length` linearly spaced elements in the range (a [`LinRange`](@ref)).\n",
       "\n",
       "If `step` and `stop` are provided and `length` is not, the overall range length will be computed automatically such that the elements are `step` spaced (a [`StepRange`](@ref)).\n",
       "\n",
       "`stop` may be specified as either a positional or keyword argument.\n",
       "\n",
       "!!! compat \"Julia 1.1\"\n",
       "    `stop` as a positional argument requires at least Julia 1.1.\n",
       "\n",
       "\n",
       "# Examples\n",
       "\n",
       "```jldoctest\n",
       "julia> range(1, length=100)\n",
       "1:100\n",
       "\n",
       "julia> range(1, stop=100)\n",
       "1:100\n",
       "\n",
       "julia> range(1, step=5, length=100)\n",
       "1:5:496\n",
       "\n",
       "julia> range(1, step=5, stop=100)\n",
       "1:5:96\n",
       "\n",
       "julia> range(1, 10, length=101)\n",
       "1.0:0.09:10.0\n",
       "\n",
       "julia> range(1, 100, step=5)\n",
       "1:5:96\n",
       "```\n",
       "\n",
       "---\n",
       "\n",
       "```\n",
       "range(start::Color; stop::Color, length=100)\n",
       "```\n",
       "\n",
       "Generates `n`>2 colors in a linearly interpolated ramp from `start` to`stop`, inclusive, returning an `Array` of colors.\n",
       "\n",
       "---\n",
       "\n",
       "```\n",
       "range(c::AbstractChains)\n",
       "```\n",
       "\n",
       "Returns the range used in a `Chains` object.\n"
      ],
      "text/plain": [
       "\u001b[36m  range(start[, stop]; length, stop, step=1)\u001b[39m\n",
       "\n",
       "  Given a starting value, construct a range either by length or from \u001b[36mstart\u001b[39m to\n",
       "  \u001b[36mstop\u001b[39m, optionally with a given step (defaults to 1, a \u001b[36mUnitRange\u001b[39m). One of\n",
       "  \u001b[36mlength\u001b[39m or \u001b[36mstop\u001b[39m is required. If \u001b[36mlength\u001b[39m, \u001b[36mstop\u001b[39m, and \u001b[36mstep\u001b[39m are all specified,\n",
       "  they must agree.\n",
       "\n",
       "  If \u001b[36mlength\u001b[39m and \u001b[36mstop\u001b[39m are provided and \u001b[36mstep\u001b[39m is not, the step size will be\n",
       "  computed automatically such that there are \u001b[36mlength\u001b[39m linearly spaced elements\n",
       "  in the range (a \u001b[36mLinRange\u001b[39m).\n",
       "\n",
       "  If \u001b[36mstep\u001b[39m and \u001b[36mstop\u001b[39m are provided and \u001b[36mlength\u001b[39m is not, the overall range length\n",
       "  will be computed automatically such that the elements are \u001b[36mstep\u001b[39m spaced (a\n",
       "  \u001b[36mStepRange\u001b[39m).\n",
       "\n",
       "  \u001b[36mstop\u001b[39m may be specified as either a positional or keyword argument.\n",
       "\n",
       "\u001b[39m\u001b[1m  │ \u001b[22m\u001b[39m\u001b[1mJulia 1.1\u001b[22m\n",
       "\u001b[39m\u001b[1m  │\u001b[22m\n",
       "\u001b[39m\u001b[1m  │\u001b[22m  \u001b[36mstop\u001b[39m as a positional argument requires at least Julia 1.1.\n",
       "\n",
       "\u001b[1m  Examples\u001b[22m\n",
       "\u001b[1m  ≡≡≡≡≡≡≡≡≡≡\u001b[22m\n",
       "\n",
       "\u001b[36m  julia> range(1, length=100)\u001b[39m\n",
       "\u001b[36m  1:100\u001b[39m\n",
       "\u001b[36m  \u001b[39m\n",
       "\u001b[36m  julia> range(1, stop=100)\u001b[39m\n",
       "\u001b[36m  1:100\u001b[39m\n",
       "\u001b[36m  \u001b[39m\n",
       "\u001b[36m  julia> range(1, step=5, length=100)\u001b[39m\n",
       "\u001b[36m  1:5:496\u001b[39m\n",
       "\u001b[36m  \u001b[39m\n",
       "\u001b[36m  julia> range(1, step=5, stop=100)\u001b[39m\n",
       "\u001b[36m  1:5:96\u001b[39m\n",
       "\u001b[36m  \u001b[39m\n",
       "\u001b[36m  julia> range(1, 10, length=101)\u001b[39m\n",
       "\u001b[36m  1.0:0.09:10.0\u001b[39m\n",
       "\u001b[36m  \u001b[39m\n",
       "\u001b[36m  julia> range(1, 100, step=5)\u001b[39m\n",
       "\u001b[36m  1:5:96\u001b[39m\n",
       "\n",
       "  ────────────────────────────────────────────────────────────────────────────\n",
       "\n",
       "\u001b[36m  range(start::Color; stop::Color, length=100)\u001b[39m\n",
       "\n",
       "  Generates \u001b[36mn\u001b[39m>2 colors in a linearly interpolated ramp from \u001b[36mstart\u001b[39m to\u001b[36mstop\u001b[39m,\n",
       "  inclusive, returning an \u001b[36mArray\u001b[39m of colors.\n",
       "\n",
       "  ────────────────────────────────────────────────────────────────────────────\n",
       "\n",
       "\u001b[36m  range(c::AbstractChains)\u001b[39m\n",
       "\n",
       "  Returns the range used in a \u001b[36mChains\u001b[39m object."
      ]
     },
     "execution_count": 23,
     "metadata": {},
     "output_type": "execute_result"
    }
   ],
   "source": [
    "?range"
   ]
  },
  {
   "cell_type": "code",
   "execution_count": 24,
   "metadata": {},
   "outputs": [
    {
     "name": "stderr",
     "output_type": "stream",
     "text": [
      "┌ Warning: Symbolic calculations could not initiate. Likely there's a function which is not differentiable by SymEngine.\n",
      "└ @ ParameterizedFunctions C:\\Users\\leann\\.julia\\packages\\ParameterizedFunctions\\WcTrd\\src\\ode_def_opts.jl:244\n"
     ]
    },
    {
     "data": {
      "text/plain": [
       "#387 (generic function with 2 methods)"
      ]
     },
     "execution_count": 24,
     "metadata": {},
     "output_type": "execute_result"
    }
   ],
   "source": [
    "# using ParameterizedFunctions\n",
    "f = @ode_def begin\n",
    "  test_var = 22\n",
    "  dy₁ = -k₁*y₁+k₃*y₂*y₃\n",
    "  dy₂ =  k₁*y₁-k₂*y₂^2-k₃*y₂*y₃\n",
    "  dy₃ =  k₂*y₂^2\n",
    "end k₁ k₂ k₃"
   ]
  },
  {
   "cell_type": "code",
   "execution_count": 4,
   "metadata": {},
   "outputs": [
    {
     "data": {
      "text/plain": [
       "(:((u, p)->begin\n",
       "          #= C:\\Users\\leann\\.julia\\packages\\ModelingToolkit\\PPjhj\\src\\utils.jl:63 =#\n",
       "          #= C:\\Users\\leann\\.julia\\packages\\ModelingToolkit\\PPjhj\\src\\utils.jl:64 =#\n",
       "          if u isa Array\n",
       "              #= C:\\Users\\leann\\.julia\\packages\\ModelingToolkit\\PPjhj\\src\\utils.jl:65 =#\n",
       "              return #= C:\\Users\\leann\\.julia\\packages\\ModelingToolkit\\PPjhj\\src\\utils.jl:57 =# @inbounds(begin\n",
       "                          #= C:\\Users\\leann\\.julia\\packages\\ModelingToolkit\\PPjhj\\src\\utils.jl:57 =#\n",
       "                          let (x, y, z, σ, ρ, β) = (u[1], u[2], u[3], p[1], p[2], p[3])\n",
       "                              [(*)(σ, (-)(y, x)), (-)((*)(x, (-)(ρ, z)), y), (-)((*)(x, y), (*)(β, z))]\n",
       "                          end\n",
       "                      end)\n",
       "          else\n",
       "              #= C:\\Users\\leann\\.julia\\packages\\ModelingToolkit\\PPjhj\\src\\utils.jl:67 =#\n",
       "              X = #= C:\\Users\\leann\\.julia\\packages\\ModelingToolkit\\PPjhj\\src\\utils.jl:56 =# @inbounds(begin\n",
       "                          #= C:\\Users\\leann\\.julia\\packages\\ModelingToolkit\\PPjhj\\src\\utils.jl:56 =#\n",
       "                          let (x, y, z, σ, ρ, β) = (u[1], u[2], u[3], p[1], p[2], p[3])\n",
       "                              ((*)(σ, (-)(y, x)), (-)((*)(x, (-)(ρ, z)), y), (-)((*)(x, y), (*)(β, z)))\n",
       "                          end\n",
       "                      end)\n",
       "          end\n",
       "          #= C:\\Users\\leann\\.julia\\packages\\ModelingToolkit\\PPjhj\\src\\utils.jl:69 =#\n",
       "          T = promote_type(map(typeof, X)...)\n",
       "          #= C:\\Users\\leann\\.julia\\packages\\ModelingToolkit\\PPjhj\\src\\utils.jl:70 =#\n",
       "          map(T, X)\n",
       "          #= C:\\Users\\leann\\.julia\\packages\\ModelingToolkit\\PPjhj\\src\\utils.jl:71 =#\n",
       "          construct = if u isa ModelingToolkit.StaticArrays.StaticArray\n",
       "                  ModelingToolkit.StaticArrays.similar_type(typeof(u), eltype(X))\n",
       "              else\n",
       "                  x->begin\n",
       "                          #= C:\\Users\\leann\\.julia\\packages\\ModelingToolkit\\PPjhj\\src\\utils.jl:71 =#\n",
       "                          convert(typeof(u), x)\n",
       "                      end\n",
       "              end\n",
       "          #= C:\\Users\\leann\\.julia\\packages\\ModelingToolkit\\PPjhj\\src\\utils.jl:72 =#\n",
       "          construct(X)\n",
       "      end), :((##MTIIPVar#389, u, p)->begin\n",
       "          #= C:\\Users\\leann\\.julia\\packages\\ModelingToolkit\\PPjhj\\src\\utils.jl:77 =#\n",
       "          #= C:\\Users\\leann\\.julia\\packages\\ModelingToolkit\\PPjhj\\src\\utils.jl:78 =#\n",
       "          #= C:\\Users\\leann\\.julia\\packages\\ModelingToolkit\\PPjhj\\src\\utils.jl:78 =# @inbounds begin\n",
       "                  #= C:\\Users\\leann\\.julia\\packages\\ModelingToolkit\\PPjhj\\src\\utils.jl:79 =#\n",
       "                  #= C:\\Users\\leann\\.julia\\packages\\ModelingToolkit\\PPjhj\\src\\utils.jl:58 =# @inbounds begin\n",
       "                          #= C:\\Users\\leann\\.julia\\packages\\ModelingToolkit\\PPjhj\\src\\utils.jl:58 =#\n",
       "                          let (x, y, z, σ, ρ, β) = (u[1], u[2], u[3], p[1], p[2], p[3])\n",
       "                              ##MTIIPVar#389[1] = (*)(σ, (-)(y, x))\n",
       "                              ##MTIIPVar#389[2] = (-)((*)(x, (-)(ρ, z)), y)\n",
       "                              ##MTIIPVar#389[3] = (-)((*)(x, y), (*)(β, z))\n",
       "                          end\n",
       "                      end\n",
       "              end\n",
       "          #= C:\\Users\\leann\\.julia\\packages\\ModelingToolkit\\PPjhj\\src\\utils.jl:81 =#\n",
       "          nothing\n",
       "      end))"
      ]
     },
     "execution_count": 4,
     "metadata": {},
     "output_type": "execute_result"
    }
   ],
   "source": [
    "@variables x y z\n",
    "@parameters σ ρ β\n",
    "a = y - x\n",
    "eqs = [0 ~ σ*a,\n",
    "       0 ~ x*(ρ-z)-y,\n",
    "       0 ~ x*y - β*z]\n",
    "ns = NonlinearSystem(eqs, [x,y,z])\n",
    "nlsys_func = generate_function(ns, [x,y,z], [σ,ρ,β])"
   ]
  },
  {
   "cell_type": "code",
   "execution_count": 26,
   "metadata": {},
   "outputs": [
    {
     "ename": "UndefVarError",
     "evalue": "UndefVarError: Tridiagonal not defined",
     "output_type": "error",
     "traceback": [
      "UndefVarError: Tridiagonal not defined",
      "",
      "Stacktrace:",
      " [1] top-level scope at In[26]:3"
     ]
    }
   ],
   "source": [
    "p = (1.0,1.0,1.0,10.0,0.001,100.0) # a,α,ubar,β,D1,D2\n",
    "N = 100\n",
    "Ax = Array(Tridiagonal([1.0 for i in 1:N-1],[-2.0 for i in 1:N],[1.0 for i in 1:N-1]))\n",
    "Ay = copy(Ax)\n",
    "Ax[2,1] = 2.0\n",
    "Ax[end-1,end] = 2.0\n",
    "Ay[1,2] = 2.0\n",
    "Ay[end,end-1] = 2.0\n",
    "\n",
    "a,α,ubar,β,D1,D2 = p\n",
    "uss = (ubar+β)/α\n",
    "vss = (a/β)*uss^2\n",
    "r0 = zeros(100,100,2)\n",
    "r0[:,:,1] .= uss.+0.1.*rand.()\n",
    "r0[:,:,2] .= vss\n",
    "\n",
    "function gm2!(dr,r,p,t)\n",
    "  a,α,ubar,β,D1,D2 = p\n",
    "  u = @view r[:,:,1]\n",
    "  v = @view r[:,:,2]\n",
    "  du = @view dr[:,:,1]\n",
    "  dv = @view dr[:,:,2]\n",
    "  Du = D1*(Ay*u + u*Ax)\n",
    "  Dv = D2*(Ay*v + v*Ax)\n",
    "  @. du = Du + a.*u.*u./v + ubar - α*u\n",
    "  @. dv = Dv + a.*u.*u - β*v\n",
    "end\n",
    "prob = ODEProblem(gm2!,r0,(0.0,0.1),p)"
   ]
  },
  {
   "cell_type": "code",
   "execution_count": 76,
   "metadata": {},
   "outputs": [
    {
     "data": {
      "text/plain": [
       "25-element Array{Equation,1}:\n",
       " Equation(s_out, (((((-et * 726.0) * s_out) / (1000.0 + s_out)) * N - 0.01s_out) + (0NH4) * 50) + 1.0e7)                                                                                                                                                                                                                                                                                                                                                                                                                                                                                                                                                                                                                                                                                                                                                                                                                                                                                                                                                                                                                                                                                                                                                     \n",
       " Equation(rmr, (((1.0r) * mr - 1.0rmr) - ((((1260.0a) * AA) / (((k_ribo_a * k_ribo_a_AA + k_ribo_a_AA * a) + k_ribo_AA_a * AA) + a * AA)) / 7549.0) * rmr) - (((((((rmq + rmr) + rmt) + rmm) + nit_mrna_ribo) + AA_mrna_ribo) * (((1260.0a) * AA) / (((k_ribo_a * k_ribo_a_AA + k_ribo_a_AA * a) + k_ribo_AA_a * AA) + a * AA))) / 1.0e8) * rmr)                                                                                                                                                                                                                                                                                                                                                                                                                                                                                                                                                                                                                                                                                                                                                                                                                                                                                                             \n",
       " Equation(em, ((((1260.0a) * AA) / (((k_ribo_a * k_ribo_a_AA + k_ribo_a_AA * a) + k_ribo_AA_a * AA) + a * AA)) / 300.0) * rmm - (((((((rmq + rmr) + rmt) + rmm) + nit_mrna_ribo) + AA_mrna_ribo) * (((1260.0a) * AA) / (((k_ribo_a * k_ribo_a_AA + k_ribo_a_AA * a) + k_ribo_AA_a * AA) + a * AA))) / 1.0e8) * em)                                                                                                                                                                                                                                                                                                                                                                                                                                                                                                                                                                                                                                                                                                                                                                                                                                                                                                                                           \n",
       " Equation(rmq, (((1.0r) * mq - 1.0rmq) - ((((1260.0a) * AA) / (((k_ribo_a * k_ribo_a_AA + k_ribo_a_AA * a) + k_ribo_AA_a * AA) + a * AA)) / 300.0) * rmq) - (((((((rmq + rmr) + rmt) + rmm) + nit_mrna_ribo) + AA_mrna_ribo) * (((1260.0a) * AA) / (((k_ribo_a * k_ribo_a_AA + k_ribo_a_AA * a) + k_ribo_AA_a * AA) + a * AA))) / 1.0e8) * rmq)                                                                                                                                                                                                                                                                                                                                                                                                                                                                                                                                                                                                                                                                                                                                                                                                                                                                                                              \n",
       " Equation(rmt, (((1.0r) * mt - 1.0rmt) - ((((1260.0a) * AA) / (((k_ribo_a * k_ribo_a_AA + k_ribo_a_AA * a) + k_ribo_AA_a * AA) + a * AA)) / 300.0) * rmt) - (((((((rmq + rmr) + rmt) + rmm) + nit_mrna_ribo) + AA_mrna_ribo) * (((1260.0a) * AA) / (((k_ribo_a * k_ribo_a_AA + k_ribo_a_AA * a) + k_ribo_AA_a * AA) + a * AA))) / 1.0e8) * rmt)                                                                                                                                                                                                                                                                                                                                                                                                                                                                                                                                                                                                                                                                                                                                                                                                                                                                                                              \n",
       " Equation(et, ((((1260.0a) * AA) / (((k_ribo_a * k_ribo_a_AA + k_ribo_a_AA * a) + k_ribo_AA_a * AA) + a * AA)) / 300.0) * rmt - (((((((rmq + rmr) + rmt) + rmm) + nit_mrna_ribo) + AA_mrna_ribo) * (((1260.0a) * AA) / (((k_ribo_a * k_ribo_a_AA + k_ribo_a_AA * a) + k_ribo_AA_a * AA) + a * AA))) / 1.0e8) * et)                                                                                                                                                                                                                                                                                                                                                                                                                                                                                                                                                                                                                                                                                                                                                                                                                                                                                                                                           \n",
       " Equation(rmm, (((1.0r) * mm - 1.0rmm) - ((((1260.0a) * AA) / (((k_ribo_a * k_ribo_a_AA + k_ribo_a_AA * a) + k_ribo_AA_a * AA) + a * AA)) / 300.0) * rmm) - (((((((rmq + rmr) + rmt) + rmm) + nit_mrna_ribo) + AA_mrna_ribo) * (((1260.0a) * AA) / (((k_ribo_a * k_ribo_a_AA + k_ribo_a_AA * a) + k_ribo_AA_a * AA) + a * AA))) / 1.0e8) * rmm)                                                                                                                                                                                                                                                                                                                                                                                                                                                                                                                                                                                                                                                                                                                                                                                                                                                                                                              \n",
       " Equation(mt, (((((4.139172187824451a) / (4.379733394834643 + a) + 1.0rmt) + ((((1260.0a) * AA) / (((k_ribo_a * k_ribo_a_AA + k_ribo_a_AA * a) + k_ribo_AA_a * AA) + a * AA)) / 300.0) * rmt) - (1.0r) * mt) - 0.1mt) - (((((((rmq + rmr) + rmt) + rmm) + nit_mrna_ribo) + AA_mrna_ribo) * (((1260.0a) * AA) / (((k_ribo_a * k_ribo_a_AA + k_ribo_a_AA * a) + k_ribo_AA_a * AA) + a * AA))) / 1.0e8) * mt)                                                                                                                                                                                                                                                                                                                                                                                                                                                                                                                                                                                                                                                                                                                                                                                                                                                   \n",
       " Equation(mm, (((((4.139172187824451a) / (4.379733394834643 + a) + 1.0rmm) + ((((1260.0a) * AA) / (((k_ribo_a * k_ribo_a_AA + k_ribo_a_AA * a) + k_ribo_AA_a * AA) + a * AA)) / 300.0) * rmm) - (1.0r) * mm) - 0.1mm) - (((((((rmq + rmr) + rmt) + rmm) + nit_mrna_ribo) + AA_mrna_ribo) * (((1260.0a) * AA) / (((k_ribo_a * k_ribo_a_AA + k_ribo_a_AA * a) + k_ribo_AA_a * AA) + a * AA))) / 1.0e8) * mm)                                                                                                                                                                                                                                                                                                                                                                                                                                                                                                                                                                                                                                                                                                                                                                                                                                                   \n",
       " Equation(q, ((((1260.0a) * AA) / (((k_ribo_a * k_ribo_a_AA + k_ribo_a_AA * a) + k_ribo_AA_a * AA) + a * AA)) / 300.0) * rmq - (((((((rmq + rmr) + rmt) + rmm) + nit_mrna_ribo) + AA_mrna_ribo) * (((1260.0a) * AA) / (((k_ribo_a * k_ribo_a_AA + k_ribo_a_AA * a) + k_ribo_AA_a * AA) + a * AA))) / 1.0e8) * q)                                                                                                                                                                                                                                                                                                                                                                                                                                                                                                                                                                                                                                                                                                                                                                                                                                                                                                                                             \n",
       " Equation(si, (((et * 726.0) * s_out) / (1000.0 + s_out) - ((em * 5800.0) * si) / (1000.0 + si)) - (((((((rmq + rmr) + rmt) + rmm) + nit_mrna_ribo) + AA_mrna_ribo) * (((1260.0a) * AA) / (((k_ribo_a * k_ribo_a_AA + k_ribo_a_AA * a) + k_ribo_AA_a * AA) + a * AA))) / 1.0e8) * si)                                                                                                                                                                                                                                                                                                                                                                                                                                                                                                                                                                                                                                                                                                                                                                                                                                                                                                                                                                        \n",
       " Equation(mq, ((((((948.9349882947897a) / (4.379733394834643 + a)) / (1 + (q / 152219.040373749) ^ 4) + 1.0rmq) + ((((1260.0a) * AA) / (((k_ribo_a * k_ribo_a_AA + k_ribo_a_AA * a) + k_ribo_AA_a * AA) + a * AA)) / 300.0) * rmq) - (1.0r) * mq) - 0.1mq) - (((((((rmq + rmr) + rmt) + rmm) + nit_mrna_ribo) + AA_mrna_ribo) * (((1260.0a) * AA) / (((k_ribo_a * k_ribo_a_AA + k_ribo_a_AA * a) + k_ribo_AA_a * AA) + a * AA))) / 1.0e8) * mq)                                                                                                                                                                                                                                                                                                                                                                                                                                                                                                                                                                                                                                                                                                                                                                                                              \n",
       " Equation(mr, (((((929.9678874564831a) / (426.8693338968694 + a) + 1.0rmr) + ((((1260.0a) * AA) / (((k_ribo_a * k_ribo_a_AA + k_ribo_a_AA * a) + k_ribo_AA_a * AA) + a * AA)) / 7549.0) * rmr) - (1.0r) * mr) - 0.1mr) - (((((((rmq + rmr) + rmt) + rmm) + nit_mrna_ribo) + AA_mrna_ribo) * (((1260.0a) * AA) / (((k_ribo_a * k_ribo_a_AA + k_ribo_a_AA * a) + k_ribo_AA_a * AA) + a * AA))) / 1.0e8) * mr)                                                                                                                                                                                                                                                                                                                                                                                                                                                                                                                                                                                                                                                                                                                                                                                                                                                  \n",
       " Equation(r, ((((((((((((((((((1.0rmr + 1.0rmt) + 1.0rmm) + 1.0rmq) + ((((1260.0a) * AA) / (((k_ribo_a * k_ribo_a_AA + k_ribo_a_AA * a) + k_ribo_AA_a * AA) + a * AA)) / 7549.0) * rmr) + ((((1260.0a) * AA) / (((k_ribo_a * k_ribo_a_AA + k_ribo_a_AA * a) + k_ribo_AA_a * AA) + a * AA)) / 7549.0) * rmr) + ((((1260.0a) * AA) / (((k_ribo_a * k_ribo_a_AA + k_ribo_a_AA * a) + k_ribo_AA_a * AA) + a * AA)) / 300.0) * rmt) + ((((1260.0a) * AA) / (((k_ribo_a * k_ribo_a_AA + k_ribo_a_AA * a) + k_ribo_AA_a * AA) + a * AA)) / 300.0) * rmm) + ((((1260.0a) * AA) / (((k_ribo_a * k_ribo_a_AA + k_ribo_a_AA * a) + k_ribo_AA_a * AA) + a * AA)) / 300.0) * rmq) - (1.0r) * mr) - (1.0r) * mt) - (1.0r) * mm) - (1.0r) * mq) + 1.0nit_mrna_ribo) + ((((1260.0a) * AA) / (((k_ribo_a * k_ribo_a_AA + k_ribo_a_AA * a) + k_ribo_AA_a * AA) + a * AA)) / 300.0) * nit_mrna_ribo) - (1.0r) * nit_mrna) + 1.0AA_mrna_ribo) + ((((1260.0a) * AA) / (((k_ribo_a * k_ribo_a_AA + k_ribo_a_AA * a) + k_ribo_AA_a * AA) + a * AA)) / 300.0) * AA_mrna_ribo) - (1.0r) * AA_mrna) - (((((((rmq + rmr) + rmt) + rmm) + nit_mrna_ribo) + AA_mrna_ribo) * (((1260.0a) * AA) / (((k_ribo_a * k_ribo_a_AA + k_ribo_a_AA * a) + k_ribo_AA_a * AA) + a * AA))) / 1.0e8) * r)\n",
       " Equation(NH4, (((0nit - 0NH4) - (((((((rmq + rmr) + rmt) + rmm) + nit_mrna_ribo) + AA_mrna_ribo) * (((1260.0a) * AA) / (((k_ribo_a * k_ribo_a_AA + k_ribo_a_AA * a) + k_ribo_AA_a * AA) + a * AA))) / 1.0e8) * NH4) - ((((((k_cat_AA * 2) * a) * NH4) / (k_a_NH4 * k_a)) / ((((1 + (1 + AA / k_a_AA)) + NH4 / k_a_NH4) + (1 + AA / k_NH4_AA)) + NH4 / k_NH4)) * AA_prot) * 2) + 2.3e6)                                                                                                                                                                                                                                                                                                                                                                                                                                                                                                                                                                                                                                                                                                                                                                                                                                                                      \n",
       " Equation(nit_mrna, ModelingToolkit.Constant(0))                                                                                                                                                                                                                                                                                                                                                                                                                                                                                                                                                                                                                                                                                                                                                                                                                                                                                                                                                                                                                                                                                                                                                                                                             \n",
       " Equation(nit_mrna_ribo, ModelingToolkit.Constant(0))                                                                                                                                                                                                                                                                                                                                                                                                                                                                                                                                                                                                                                                                                                                                                                                                                                                                                                                                                                                                                                                                                                                                                                                                        \n",
       " Equation(nit, ModelingToolkit.Constant(0))                                                                                                                                                                                                                                                                                                                                                                                                                                                                                                                                                                                                                                                                                                                                                                                                                                                                                                                                                                                                                                                                                                                                                                                                                  \n",
       " Equation(NH4_ex, ModelingToolkit.Constant(0))                                                                                                                                                                                                                                                                                                                                                                                                                                                                                                                                                                                                                                                                                                                                                                                                                                                                                                                                                                                                                                                                                                                                                                                                               \n",
       " Equation(N, (((((((rmq + rmr) + rmt) + rmm) + nit_mrna_ribo) + AA_mrna_ribo) * (((1260.0a) * AA) / (((k_ribo_a * k_ribo_a_AA + k_ribo_a_AA * a) + k_ribo_AA_a * AA) + a * AA))) / 1.0e8) * N - 0N)                                                                                                                                                                                                                                                                                                                                                                                                                                                                                                                                                                                                                                                                                                                                                                                                                                                                                                                                                                                                                                                          \n",
       " Equation(a, (((100.0 * (((em * 5800.0) * si) / (1000.0 + si)) - (((((rmq + rmr) + rmt) + rmm) + nit_mrna_ribo) + AA_mrna_ribo) * (((1260.0a) * AA) / (((k_ribo_a * k_ribo_a_AA + k_ribo_a_AA * a) + k_ribo_AA_a * AA) + a * AA))) - 0nit) - ((((((k_cat_AA * 2) * a) * NH4) / (k_a_NH4 * k_a)) / ((((1 + (1 + AA / k_a_AA)) + NH4 / k_a_NH4) + (1 + AA / k_NH4_AA)) + NH4 / k_NH4)) * AA_prot) * 2) - (((((((rmq + rmr) + rmt) + rmm) + nit_mrna_ribo) + AA_mrna_ribo) * (((1260.0a) * AA) / (((k_ribo_a * k_ribo_a_AA + k_ribo_a_AA * a) + k_ribo_AA_a * AA) + a * AA))) / 1.0e8) * a)                                                                                                                                                                                                                                                                                                                                                                                                                                                                                                                                                                                                                                                                     \n",
       " Equation(AA, ((((((k_cat_AA * 2) * a) * NH4) / (k_a_NH4 * k_a)) / ((((1 + (1 + AA / k_a_AA)) + NH4 / k_a_NH4) + (1 + AA / k_NH4_AA)) + NH4 / k_NH4)) * AA_prot - (((((rmq + rmr) + rmt) + rmm) + nit_mrna_ribo) + AA_mrna_ribo) * (((1260.0a) * AA) / (((k_ribo_a * k_ribo_a_AA + k_ribo_a_AA * a) + k_ribo_AA_a * AA) + a * AA))) - (((((((rmq + rmr) + rmt) + rmm) + nit_mrna_ribo) + AA_mrna_ribo) * (((1260.0a) * AA) / (((k_ribo_a * k_ribo_a_AA + k_ribo_a_AA * a) + k_ribo_AA_a * AA) + a * AA))) / 1.0e8) * AA)                                                                                                                                                                                                                                                                                                                                                                                                                                                                                                                                                                                                                                                                                                                                     \n",
       " Equation(AA_prot, ((((1260.0a) * AA) / (((k_ribo_a * k_ribo_a_AA + k_ribo_a_AA * a) + k_ribo_AA_a * AA) + a * AA)) / 300.0) * AA_mrna_ribo - (((((((rmq + rmr) + rmt) + rmm) + nit_mrna_ribo) + AA_mrna_ribo) * (((1260.0a) * AA) / (((k_ribo_a * k_ribo_a_AA + k_ribo_a_AA * a) + k_ribo_AA_a * AA) + a * AA))) / 1.0e8) * AA_prot)                                                                                                                                                                                                                                                                                                                                                                                                                                                                                                                                                                                                                                                                                                                                                                                                                                                                                                                        \n",
       " Equation(AA_mrna, (((((900.0a) / (4.379733394834643 + a) + 1.0AA_mrna_ribo) + ((((1260.0a) * AA) / (((k_ribo_a * k_ribo_a_AA + k_ribo_a_AA * a) + k_ribo_AA_a * AA) + a * AA)) / 300.0) * AA_mrna_ribo) - (1.0r) * AA_mrna) - 0.1AA_mrna) - (((((((rmq + rmr) + rmt) + rmm) + nit_mrna_ribo) + AA_mrna_ribo) * (((1260.0a) * AA) / (((k_ribo_a * k_ribo_a_AA + k_ribo_a_AA * a) + k_ribo_AA_a * AA) + a * AA))) / 1.0e8) * AA_mrna)                                                                                                                                                                                                                                                                                                                                                                                                                                                                                                                                                                                                                                                                                                                                                                                                                         \n",
       " Equation(AA_mrna_ribo, (((1.0r) * AA_mrna - 1.0AA_mrna_ribo) - ((((1260.0a) * AA) / (((k_ribo_a * k_ribo_a_AA + k_ribo_a_AA * a) + k_ribo_AA_a * AA) + a * AA)) / 300.0) * AA_mrna_ribo) - (((((((rmq + rmr) + rmt) + rmm) + nit_mrna_ribo) + AA_mrna_ribo) * (((1260.0a) * AA) / (((k_ribo_a * k_ribo_a_AA + k_ribo_a_AA * a) + k_ribo_AA_a * AA) + a * AA))) / 1.0e8) * AA_mrna_ribo)                                                                                                                                                                                                                                                                                                                                                                                                                                                                                                                                                                                                                                                                                                                                                                                                                                                                     "
      ]
     },
     "execution_count": 76,
     "metadata": {},
     "output_type": "execute_result"
    }
   ],
   "source": [
    "include(\"setup_ABC.jl\")\n",
    "# println(\"parameters setup complete\")\n",
    "\n",
    "# s_out(t) rmr(t) em(t) rmq(t) rmt(t) et(t) rmm(t) mt(t) mm(t) q(t) si(t) mq(t) mr(t) r(t) NH4(t) nit_mrna(t) nit_mrna_ribo(t) nit(t) NH4_ex(t) N(t) a(t) AA(t) AA_prot(t) AA_mrna(t) AA_mrna_ribo(t)\n",
    "@variables s_out rmr em rmq rmt et rmm mt mm q si mq mr r NH4 nit_mrna nit_mrna_ribo nit NH4_ex N a AA AA_prot AA_mrna AA_mrna_ribo\n",
    "\n",
    "@parameters k_ribo_a_AA k_ribo_AA_a k_a k_cat_AA k_a_NH4 k_NH4 k_a_AA k_NH4_AA k_ribo_a\n",
    "\n",
    "gam= (gmax*a*AA)/(k_ribo_a*k_ribo_a_AA+k_ribo_a_AA*a+k_ribo_AA_a*AA+a*AA) #updated gamma equation that uses both ATP and AA\n",
    "ttrate= (rmq + rmr + rmt + rmm + nit_mrna_ribo+AA_mrna_ribo)*gam #total translation rate (sum of the mRNA/ribosome complexes times translation rate)\n",
    "lam= ttrate/M\n",
    "nucat= em*vm*si/(Km + si) \n",
    "AA_vo = ((k_cat_AA*2*a*NH4)/(k_a_NH4*k_a))/(1+(1+(AA/k_a_AA))+(NH4/k_a_NH4)+(1+(AA/k_NH4_AA))+(NH4/k_NH4))\n",
    "new_AA = AA_vo*AA_prot\n",
    "AA_a_use = new_AA*2 #each AA produced uses x number of ATP molecules\n",
    "AA_NH4_use = new_AA*2 #each AA produced uses 2 NH4 molecules\n",
    "export_rate = 0 #export rate of NH4\n",
    "fixation = 0\n",
    "death_rate = 0\n",
    "   \n",
    "eqs = [\n",
    "    s_out~ ((-et*vt*s_out/(Kt+s_out))*N)-ds*s_out+(export_rate*NH4*50)+1e7\n",
    "    rmr~ kb*r*mr-ku*rmr-(gam/nr)*rmr-lam*rmr\n",
    "    em~ (gam/nx)*rmm-lam*em\n",
    "    rmq~ kb*r*mq-ku*rmq-(gam/nx)*rmq-lam*rmq\n",
    "    rmt~ kb*r*mt-ku*rmt-gam/nx*rmt-lam*rmt\n",
    "    et~ (gam/nx)*rmt-lam*et\n",
    "    rmm~ kb*r*mm-ku*rmm-gam/nx*rmm-lam*rmm\n",
    "    mt~ (we*a/(thetax+a))+ku*rmt+(gam/nx)*rmt-kb*r*mt-dm*mt-lam*mt\n",
    "    mm~ (we*a/(thetax+a))+ku*rmm+(gam/nx)*rmm-kb*r*mm-dm*mm-lam*mm\n",
    "    q~ (gam/nx)*rmq-lam*q\n",
    "    si~ (et*vt*s_out/(Kt+s_out))-nucat-lam*si\n",
    "    mq~ (wq*a/(thetax+a)/(1+(q/Kq)^nq))+ku*rmq+(gam/nx)*rmq-kb*r*mq-dm*mq-lam*mq\n",
    "    mr~ (wr*a/(thetar+a))+ku*rmr+(gam/nr)*rmr-kb*r*mr-dm*mr-lam*mr\n",
    "    r~ ku*rmr+ku*rmt+ku*rmm+ku*rmq+(gam/nr)*rmr+(gam/nr)*rmr+(gam/nx)*rmt+(gam/nx)*rmm+(gam/nx)*rmq-kb*r*mr-kb*r*mt-kb*r*mm-kb*r*mq+ku*nit_mrna_ribo+(gam/nx)*nit_mrna_ribo-kb*r*nit_mrna+ku*AA_mrna_ribo+(gam/nx)*AA_mrna_ribo-kb*r*AA_mrna-lam*r\n",
    "    NH4~ fixation*nit-export_rate*NH4-lam*NH4-AA_NH4_use+2.3e6\n",
    "    nit_mrna~ 0 #(v_nit*a/(thetax + a))+(ku*nit_mrna_ribo)+(gam/nx*nit_mrna_ribo)-(kb*r*nit_mrna)-(dm*nit_mrna)-(lam*nit_mrna) #num of free nitrogenase coding mRNA\n",
    "    nit_mrna_ribo~ 0 #(kb*r*nit_mrna)-(ku*nit_mrna_ribo)-(gam/nx*nit_mrna_ribo)-(lam*nit_mrna_ribo) #num of nit mRNA-ribosome complexes\n",
    "    nit~ 0 #(gam/nx)*nit_mrna_ribo-lam*nit #num of nitrogenase proteins\n",
    "    NH4_ex~ 0 #(export_rate*NH4)#total num of NH4 molecules exported this timestep\n",
    "    N~ lam*N-death_rate*N #the change in num of bacterial cells instead of just loss to dilution\n",
    "    a~ ns*nucat-ttrate-fixation*nit-AA_a_use-lam*a\n",
    "    AA~ new_AA-ttrate-lam*AA\n",
    "    AA_prot~ (gam/nx)*AA_mrna_ribo-lam*AA_prot\n",
    "    AA_mrna~ ((w_AA*a/(thetax + a)))+(ku*AA_mrna_ribo)+(gam/nx*AA_mrna_ribo)-(kb*r*AA_mrna)-(dm*AA_mrna)-(lam*AA_mrna)\n",
    "    AA_mrna_ribo~ (kb*r*AA_mrna)-(ku*AA_mrna_ribo)-(gam/nx*AA_mrna_ribo)-(lam*AA_mrna_ribo)\n",
    "]\n",
    "\n",
    "#     end k_cat_AA k_a_NH4 k_NH4 k_a_AA k_NH4_AA k_ribo_a\n",
    "\n"
   ]
  },
  {
   "cell_type": "code",
   "execution_count": 90,
   "metadata": {},
   "outputs": [
    {
     "ename": "ArgumentError",
     "evalue": "ArgumentError: intermediate equation received",
     "output_type": "error",
     "traceback": [
      "ArgumentError: intermediate equation received",
      "",
      "Stacktrace:",
      " [1] to_diffeq(::Equation) at C:\\Users\\leann\\.julia\\packages\\ModelingToolkit\\PPjhj\\src\\systems\\diffeqs\\diffeqsystem.jl:24",
      " [2] _broadcast_getindex_evalf at .\\broadcast.jl:625 [inlined]",
      " [3] _broadcast_getindex at .\\broadcast.jl:598 [inlined]",
      " [4] getindex at .\\broadcast.jl:558 [inlined]",
      " [5] copy at .\\broadcast.jl:832 [inlined]",
      " [6] materialize at .\\broadcast.jl:798 [inlined]",
      " [7] ODESystem(::Array{Equation,1}) at C:\\Users\\leann\\.julia\\packages\\ModelingToolkit\\PPjhj\\src\\systems\\diffeqs\\diffeqsystem.jl:85",
      " [8] top-level scope at In[90]:1"
     ]
    }
   ],
   "source": [
    "# problm3 = ODEProblem(eqs,init2,(time1,time2),params)\n",
    "\n",
    "de = ODESystem(eqs, [s_out, rmr, em, rmq, rmt, et, rmm, mt, mm, q, si, mq, mr, r, NH4, nit_mrna, nit_mrna_ribo, nit, NH4_ex, N, a, AA, AA_prot, AA_mrna, AA_mrna_ribo],[])"
   ]
  },
  {
   "cell_type": "code",
   "execution_count": 89,
   "metadata": {},
   "outputs": [
    {
     "data": {
      "text/plain": [
       "params (generic function with 77 methods)"
      ]
     },
     "execution_count": 89,
     "metadata": {},
     "output_type": "execute_result"
    }
   ],
   "source": [
    "params"
   ]
  },
  {
   "cell_type": "code",
   "execution_count": 83,
   "metadata": {},
   "outputs": [
    {
     "data": {
      "text/plain": [
       "\u001b[36mODEProblem\u001b[0m with uType \u001b[36mArray{Float64,1}\u001b[0m and tType \u001b[36mFloat64\u001b[0m. In-place: \u001b[36mtrue\u001b[0m\n",
       "timespan: (10000.0, 20000.0)\n",
       "u0: [1.0e11, 4407.834024297837, 321.53513436957564, 1615.411204884411, 7.370060728234487, 321.5351343695751, 7.370060728234496, 20.086443609166075, 20.086443609166114, 70475.8723133415  …  0.0, 0.0, 0.0, 0.0, 1.0, 46152.56607108405, 413176.0417655678, 69912.92166676397, 4367.491476055563, 1602.507543639397]"
      ]
     },
     "execution_count": 83,
     "metadata": {},
     "output_type": "execute_result"
    }
   ],
   "source": [
    "t = collect(linspace(1,10000))\n",
    "data = [1,2,3]\n",
    "abc_inference(eqs, Tsit5(),t,data,[Uniform()]"
   ]
  },
  {
   "cell_type": "code",
   "execution_count": 18,
   "metadata": {},
   "outputs": [
    {
     "name": "stdout",
     "output_type": "stream",
     "text": [
      "search: \u001b[0m\u001b[1mO\u001b[22m\u001b[0m\u001b[1mD\u001b[22m\u001b[0m\u001b[1mE\u001b[22m\u001b[0m\u001b[1mP\u001b[22m\u001b[0m\u001b[1mr\u001b[22m\u001b[0m\u001b[1mo\u001b[22m\u001b[0m\u001b[1mb\u001b[22m\u001b[0m\u001b[1ml\u001b[22m\u001b[0m\u001b[1me\u001b[22m\u001b[0m\u001b[1mm\u001b[22m R\u001b[0m\u001b[1mO\u001b[22m\u001b[0m\u001b[1mD\u001b[22m\u001b[0m\u001b[1mE\u001b[22m\u001b[0m\u001b[1mP\u001b[22m\u001b[0m\u001b[1mr\u001b[22m\u001b[0m\u001b[1mo\u001b[22m\u001b[0m\u001b[1mb\u001b[22m\u001b[0m\u001b[1ml\u001b[22m\u001b[0m\u001b[1me\u001b[22m\u001b[0m\u001b[1mm\u001b[22m Split\u001b[0m\u001b[1mO\u001b[22m\u001b[0m\u001b[1mD\u001b[22m\u001b[0m\u001b[1mE\u001b[22m\u001b[0m\u001b[1mP\u001b[22m\u001b[0m\u001b[1mr\u001b[22m\u001b[0m\u001b[1mo\u001b[22m\u001b[0m\u001b[1mb\u001b[22m\u001b[0m\u001b[1ml\u001b[22m\u001b[0m\u001b[1me\u001b[22m\u001b[0m\u001b[1mm\u001b[22m Dynamical\u001b[0m\u001b[1mO\u001b[22m\u001b[0m\u001b[1mD\u001b[22m\u001b[0m\u001b[1mE\u001b[22m\u001b[0m\u001b[1mP\u001b[22m\u001b[0m\u001b[1mr\u001b[22m\u001b[0m\u001b[1mo\u001b[22m\u001b[0m\u001b[1mb\u001b[22m\u001b[0m\u001b[1ml\u001b[22m\u001b[0m\u001b[1me\u001b[22m\u001b[0m\u001b[1mm\u001b[22m\n",
      "\n"
     ]
    },
    {
     "data": {
      "text/latex": [
       "\\begin{verbatim}\n",
       "struct ODEProblem{uType, tType, isinplace, P, F, K, PT} <: DiffEqBase.AbstractODEProblem{uType,tType,isinplace}\n",
       "\\end{verbatim}\n",
       "Defines an ODE problem.\n",
       "\n",
       "\\section{Fields}\n",
       "\\begin{itemize}\n",
       "\\item \\texttt{f}\n",
       "\n",
       "The ODE is \\texttt{du/dt = f(u,p,t)}.\n",
       "\n",
       "\n",
       "\\item \\texttt{u0}\n",
       "\n",
       "The initial condition is \\texttt{u(tspan[1]) = u0}.\n",
       "\n",
       "\n",
       "\\item \\texttt{tspan}\n",
       "\n",
       "The solution \\texttt{u(t)} will be computed for \\texttt{tspan[1] ≤ t ≤ tspan[2]}.\n",
       "\n",
       "\n",
       "\\item \\texttt{p}\n",
       "\n",
       "Constant parameters to be supplied as the second argument of \\texttt{f}.\n",
       "\n",
       "\n",
       "\\item \\texttt{kwargs}\n",
       "\n",
       "A callback to be applied to every solver which uses the problem.\n",
       "\n",
       "\n",
       "\\item \\texttt{problem\\_type}\n",
       "\n",
       "\\end{itemize}\n",
       "\\rule{\\textwidth}{1pt}\n",
       "\\begin{verbatim}\n",
       "ODEProblem(f::ODEFunction,u0,tspan,p=NullParameters(),callback=CallbackSet())\n",
       "\\end{verbatim}\n",
       "Define an ODE problem from an \\href{@ref}{\\texttt{ODEFunction}}.\n",
       "\n"
      ],
      "text/markdown": [
       "```julia\n",
       "struct ODEProblem{uType, tType, isinplace, P, F, K, PT} <: DiffEqBase.AbstractODEProblem{uType,tType,isinplace}\n",
       "```\n",
       "\n",
       "Defines an ODE problem.\n",
       "\n",
       "# Fields\n",
       "\n",
       "  * `f`\n",
       "\n",
       "    The ODE is `du/dt = f(u,p,t)`.\n",
       "  * `u0`\n",
       "\n",
       "    The initial condition is `u(tspan[1]) = u0`.\n",
       "  * `tspan`\n",
       "\n",
       "    The solution `u(t)` will be computed for `tspan[1] ≤ t ≤ tspan[2]`.\n",
       "  * `p`\n",
       "\n",
       "    Constant parameters to be supplied as the second argument of `f`.\n",
       "  * `kwargs`\n",
       "\n",
       "    A callback to be applied to every solver which uses the problem.\n",
       "  * `problem_type`\n",
       "\n",
       "---\n",
       "\n",
       "```\n",
       "ODEProblem(f::ODEFunction,u0,tspan,p=NullParameters(),callback=CallbackSet())\n",
       "```\n",
       "\n",
       "Define an ODE problem from an [`ODEFunction`](@ref).\n"
      ],
      "text/plain": [
       "\u001b[36m  struct ODEProblem{uType, tType, isinplace, P, F, K, PT} <: DiffEqBase.AbstractODEProblem{uType,tType,isinplace}\u001b[39m\n",
       "\n",
       "  Defines an ODE problem.\n",
       "\n",
       "\u001b[1m  Fields\u001b[22m\n",
       "\u001b[1m  ≡≡≡≡≡≡≡≡\u001b[22m\n",
       "\n",
       "    •    \u001b[36mf\u001b[39m\n",
       "      \n",
       "        The ODE is \u001b[36mdu/dt = f(u,p,t)\u001b[39m.\n",
       "\n",
       "    •    \u001b[36mu0\u001b[39m\n",
       "      \n",
       "        The initial condition is \u001b[36mu(tspan[1]) = u0\u001b[39m.\n",
       "\n",
       "    •    \u001b[36mtspan\u001b[39m\n",
       "      \n",
       "        The solution \u001b[36mu(t)\u001b[39m will be computed for \u001b[36mtspan[1] ≤ t ≤ tspan[2]\u001b[39m.\n",
       "\n",
       "    •    \u001b[36mp\u001b[39m\n",
       "      \n",
       "        Constant parameters to be supplied as the second argument of \u001b[36mf\u001b[39m.\n",
       "\n",
       "    •    \u001b[36mkwargs\u001b[39m\n",
       "      \n",
       "        A callback to be applied to every solver which uses the problem.\n",
       "\n",
       "    •    \u001b[36mproblem_type\u001b[39m\n",
       "\n",
       "  ────────────────────────────────────────────────────────────────────────────\n",
       "\n",
       "\u001b[36m  ODEProblem(f::ODEFunction,u0,tspan,p=NullParameters(),callback=CallbackSet())\u001b[39m\n",
       "\n",
       "  Define an ODE problem from an \u001b[36mODEFunction\u001b[39m."
      ]
     },
     "execution_count": 18,
     "metadata": {},
     "output_type": "execute_result"
    }
   ],
   "source": [
    "?DEProblem"
   ]
  },
  {
   "cell_type": "code",
   "execution_count": 19,
   "metadata": {},
   "outputs": [
    {
     "name": "stdout",
     "output_type": "stream",
     "text": [
      "search: \u001b[0m\u001b[1mO\u001b[22m\u001b[0m\u001b[1mD\u001b[22m\u001b[0m\u001b[1mE\u001b[22m\u001b[0m\u001b[1mF\u001b[22m\u001b[0m\u001b[1mu\u001b[22m\u001b[0m\u001b[1mn\u001b[22m\u001b[0m\u001b[1mc\u001b[22m\u001b[0m\u001b[1mt\u001b[22m\u001b[0m\u001b[1mi\u001b[22m\u001b[0m\u001b[1mo\u001b[22m\u001b[0m\u001b[1mn\u001b[22m R\u001b[0m\u001b[1mO\u001b[22m\u001b[0m\u001b[1mD\u001b[22m\u001b[0m\u001b[1mE\u001b[22m\u001b[0m\u001b[1mF\u001b[22m\u001b[0m\u001b[1mu\u001b[22m\u001b[0m\u001b[1mn\u001b[22m\u001b[0m\u001b[1mc\u001b[22m\u001b[0m\u001b[1mt\u001b[22m\u001b[0m\u001b[1mi\u001b[22m\u001b[0m\u001b[1mo\u001b[22m\u001b[0m\u001b[1mn\u001b[22m Dynamical\u001b[0m\u001b[1mO\u001b[22m\u001b[0m\u001b[1mD\u001b[22m\u001b[0m\u001b[1mE\u001b[22m\u001b[0m\u001b[1mF\u001b[22m\u001b[0m\u001b[1mu\u001b[22m\u001b[0m\u001b[1mn\u001b[22m\u001b[0m\u001b[1mc\u001b[22m\u001b[0m\u001b[1mt\u001b[22m\u001b[0m\u001b[1mi\u001b[22m\u001b[0m\u001b[1mo\u001b[22m\u001b[0m\u001b[1mn\u001b[22m\n",
      "\n"
     ]
    },
    {
     "data": {
      "text/latex": [
       "\\begin{verbatim}\n",
       "struct ODEFunction{iip, F, TMM, Ta, Tt, TJ, JVP, VJP, JP, TW, TWt, TPJ, S, TCV} <: DiffEqBase.AbstractODEFunction{iip}\n",
       "\\end{verbatim}\n",
       "\\rule{\\textwidth}{1pt}\n",
       "Create an \\texttt{ODEFunction} from the \\href{@ref}{\\texttt{ODESystem}}. The arguments \\texttt{dvs} and \\texttt{ps} are used to set the order of the dependent variable and parameter vectors, respectively.\n",
       "\n"
      ],
      "text/markdown": [
       "```julia\n",
       "struct ODEFunction{iip, F, TMM, Ta, Tt, TJ, JVP, VJP, JP, TW, TWt, TPJ, S, TCV} <: DiffEqBase.AbstractODEFunction{iip}\n",
       "```\n",
       "\n",
       "---\n",
       "\n",
       "Create an `ODEFunction` from the [`ODESystem`](@ref). The arguments `dvs` and `ps` are used to set the order of the dependent variable and parameter vectors, respectively.\n"
      ],
      "text/plain": [
       "\u001b[36m  struct ODEFunction{iip, F, TMM, Ta, Tt, TJ, JVP, VJP, JP, TW, TWt, TPJ, S, TCV} <: DiffEqBase.AbstractODEFunction{iip}\u001b[39m\n",
       "\n",
       "  ────────────────────────────────────────────────────────────────────────────\n",
       "\n",
       "  Create an \u001b[36mODEFunction\u001b[39m from the \u001b[36mODESystem\u001b[39m. The arguments \u001b[36mdvs\u001b[39m and \u001b[36mps\u001b[39m are used\n",
       "  to set the order of the dependent variable and parameter vectors,\n",
       "  respectively."
      ]
     },
     "execution_count": 19,
     "metadata": {},
     "output_type": "execute_result"
    }
   ],
   "source": [
    "?ODEFunction"
   ]
  },
  {
   "cell_type": "code",
   "execution_count": 20,
   "metadata": {},
   "outputs": [
    {
     "name": "stdout",
     "output_type": "stream",
     "text": [
      "search: \u001b[0m\u001b[1mO\u001b[22m\u001b[0m\u001b[1mD\u001b[22m\u001b[0m\u001b[1mE\u001b[22m\u001b[0m\u001b[1mS\u001b[22m\u001b[0m\u001b[1my\u001b[22m\u001b[0m\u001b[1ms\u001b[22m\u001b[0m\u001b[1mt\u001b[22m\u001b[0m\u001b[1me\u001b[22m\u001b[0m\u001b[1mm\u001b[22m\n",
      "\n"
     ]
    },
    {
     "data": {
      "text/latex": [
       "\\begin{verbatim}\n",
       "struct ODESystem <: ModelingToolkit.AbstractSystem\n",
       "\\end{verbatim}\n",
       "A system of ordinary differential equations.\n",
       "\n",
       "\\section{Fields}\n",
       "\\begin{itemize}\n",
       "\\item \\texttt{eqs} - The ODEs defining the system.\n",
       "\n",
       "\\end{itemize}\n",
       "\\section{Examples}\n",
       "\\begin{verbatim}\n",
       "using ModelingToolkit\n",
       "\n",
       "@parameters t σ ρ β\n",
       "@variables x(t) y(t) z(t)\n",
       "@derivatives D'~t\n",
       "\n",
       "eqs = [D(x) ~ σ*(y-x),\n",
       "       D(y) ~ x*(ρ-z)-y,\n",
       "       D(z) ~ x*y - β*z]\n",
       "\n",
       "de = ODESystem(eqs)\n",
       "\\end{verbatim}\n"
      ],
      "text/markdown": [
       "```julia\n",
       "struct ODESystem <: ModelingToolkit.AbstractSystem\n",
       "```\n",
       "\n",
       "A system of ordinary differential equations.\n",
       "\n",
       "# Fields\n",
       "\n",
       "  * `eqs` - The ODEs defining the system.\n",
       "\n",
       "# Examples\n",
       "\n",
       "```\n",
       "using ModelingToolkit\n",
       "\n",
       "@parameters t σ ρ β\n",
       "@variables x(t) y(t) z(t)\n",
       "@derivatives D'~t\n",
       "\n",
       "eqs = [D(x) ~ σ*(y-x),\n",
       "       D(y) ~ x*(ρ-z)-y,\n",
       "       D(z) ~ x*y - β*z]\n",
       "\n",
       "de = ODESystem(eqs)\n",
       "```\n"
      ],
      "text/plain": [
       "\u001b[36m  struct ODESystem <: ModelingToolkit.AbstractSystem\u001b[39m\n",
       "\n",
       "  A system of ordinary differential equations.\n",
       "\n",
       "\u001b[1m  Fields\u001b[22m\n",
       "\u001b[1m  ≡≡≡≡≡≡≡≡\u001b[22m\n",
       "\n",
       "    •    \u001b[36meqs\u001b[39m - The ODEs defining the system.\n",
       "\n",
       "\u001b[1m  Examples\u001b[22m\n",
       "\u001b[1m  ≡≡≡≡≡≡≡≡≡≡\u001b[22m\n",
       "\n",
       "\u001b[36m  using ModelingToolkit\u001b[39m\n",
       "\u001b[36m  \u001b[39m\n",
       "\u001b[36m  @parameters t σ ρ β\u001b[39m\n",
       "\u001b[36m  @variables x(t) y(t) z(t)\u001b[39m\n",
       "\u001b[36m  @derivatives D'~t\u001b[39m\n",
       "\u001b[36m  \u001b[39m\n",
       "\u001b[36m  eqs = [D(x) ~ σ*(y-x),\u001b[39m\n",
       "\u001b[36m         D(y) ~ x*(ρ-z)-y,\u001b[39m\n",
       "\u001b[36m         D(z) ~ x*y - β*z]\u001b[39m\n",
       "\u001b[36m  \u001b[39m\n",
       "\u001b[36m  de = ODESystem(eqs)\u001b[39m"
      ]
     },
     "execution_count": 20,
     "metadata": {},
     "output_type": "execute_result"
    }
   ],
   "source": [
    "?ODESystem"
   ]
  },
  {
   "cell_type": "code",
   "execution_count": 16,
   "metadata": {},
   "outputs": [
    {
     "ename": "LoadError",
     "evalue": "UndefVarError: @ode_def not defined",
     "output_type": "error",
     "traceback": [
      "UndefVarError: @ode_def not defined",
      ""
     ]
    }
   ],
   "source": [
    "ABC_func = @ode_def begin\n",
    "    gam= (gmax*a*AA)/(k_ribo_a*k_ribo_a_AA+k_ribo_a_AA*a+k_ribo_AA_a*AA+a*AA) #updated gamma equation that uses both ATP and AA\n",
    "    ttrate= (rmq + rmr + rmt + rmm + nit_mrna_ribo+AA_mrna_ribo)*gam #total translation rate (sum of the mRNA/ribosome complexes times translation rate)\n",
    "    lam= ttrate/M\n",
    "    nucat= em*vm*si/(Km + si) #nucat is the num of internal substrate molecules used by catabolism. em is the num of molecules of metabolic enzyme, vm is the rate of the metabolic enzyme and si is the internal substrate level\n",
    "    AA_vo = ((k_cat_AA*2*a*NH4)/(k_a_NH4*k_a))/(1+(1+(AA/k_a_AA))+(NH4/k_a_NH4)+(1+(AA/k_NH4_AA))+(NH4/k_NH4))\n",
    "    new_AA = AA_vo*AA_prot\n",
    "    AA_a_use = new_AA*2 #each AA produced uses x number of ATP molecules\n",
    "    AA_NH4_use = new_AA*2 #each AA produced uses 2 NH4 molecules\n",
    "    export_rate = 0 #export rate of NH4\n",
    "    \n",
    "    ds_out= ((-et*vt*s_out/(Kt + s_out))*N)-ds*s_out +(export_rate*NH4*50) +1e7 #change in amount of substrate, a proxy for amount of host plant\n",
    "    drmr= kb*r*mr-ku*rmr-(gam/nr)*rmr-lam*rmr#-dp*r\n",
    "    dem= (gam/nx)*rmm-lam*em#-dp*em\n",
    "    drmq= kb*r*mq-ku*rmq-(gam/nx)*rmq-lam*rmq\n",
    "    drmt= kb*r*mt-ku*rmt-gam/nx*rmt-lam*rmt\n",
    "    det= (gam/nx)*rmt-lam*et#-dp*et\n",
    "    drmm= kb*r*mm-ku*rmm-gam/nx*rmm-lam*rmm\n",
    "    dmt= (we*a/(thetax + a))+ku*rmt+(gam/nx)*rmt-kb*r*mt-dm*mt-lam*mt\n",
    "    dmm= (we*a/(thetax + a))+ku*rmm+(gam/nx)*rmm-kb*r*mm-dm*mm-lam*mm\n",
    "    dq= (gam/nx)*rmq-lam*q#-dp*q\n",
    "    dsi= (et*vt*s_out/(Kt + s_out))-nucat-lam*si#-degredation*si\n",
    "    dmq= (wq*a/(thetax + a)/(1 + (q/Kq)^nq))+ku*rmq+(gam/nx)*rmq-kb*r*mq-dm*mq-lam*mq\n",
    "    dmr= (wr*a/(thetar + a))+ku*rmr+(gam/nr)*rmr-kb*r*mr-dm*mr-lam*mr\n",
    "    dr= ku*rmr +ku*rmt+ ku*rmm+ ku*rmq +(gam/nr)*rmr+(gam/nr)*rmr +(gam/nx)*rmt +(gam/nx)*rmm +(gam/nx)*rmq -kb*r*mr- kb*r*mt- kb*r*mm -kb*r*mq +ku*nit_mrna_ribo +(gam/nx)*nit_mrna_ribo-kb*r*nit_mrna +ku*AA_mrna_ribo +(gam/nx)*AA_mrna_ribo-kb*r*AA_mrna -lam*r\n",
    "    \n",
    "    dNH4= fixation*nit-export_rate*NH4 -lam*NH4 -AA_NH4_use + 2.3e6\n",
    "    dnit_mrna= 0 #(v_nit*a/(thetax + a))+(ku*nit_mrna_ribo)+(gam/nx*nit_mrna_ribo)-(kb*r*nit_mrna)-(dm*nit_mrna)-(lam*nit_mrna) #num of free nitrogenase coding mRNA\n",
    "    dnit_mrna_ribo= 0 #(kb*r*nit_mrna)-(ku*nit_mrna_ribo)-(gam/nx*nit_mrna_ribo)-(lam*nit_mrna_ribo) #num of nit mRNA-ribosome complexes\n",
    "    dnit= 0 #(gam/nx)*nit_mrna_ribo-lam*nit #num of nitrogenase proteins\n",
    "    dNH4_ex= 0 #(export_rate*NH4)#total num of NH4 molecules exported this timestep\n",
    "    dN=lam*N-death_rate*N #the change in num of bacterial cells, instead of just loss to dilution\n",
    "    da= ns*nucat-ttrate-fixation*nit-AA_a_use-lam*a\n",
    "    \n",
    "    dAA= new_AA -ttrate-lam*AA #num of AA\n",
    "    dAA_prot=(gam/nx)*AA_mrna_ribo-lam*AA_prot #num of AA making proteins\n",
    "    dAA_mrna=((w_AA*a/(thetax + a)))+(ku*AA_mrna_ribo)+(gam/nx*AA_mrna_ribo)-(kb*r*AA_mrna)-(dm*AA_mrna)-(lam*AA_mrna)#num of free AA mRNAs\n",
    "    dAA_mrna_ribo=(kb*r*AA_mrna)-(ku*AA_mrna_ribo)-(gam/nx*AA_mrna_ribo)-(lam*AA_mrna_ribo)#num of AA mRNAs bound to ribosomes\n",
    "    \n",
    "    end k_cat_AA k_a_NH4 k_NH4 k_a_AA k_NH4_AA k_ribo_a"
   ]
  },
  {
   "cell_type": "code",
   "execution_count": null,
   "metadata": {},
   "outputs": [],
   "source": []
  },
  {
   "cell_type": "code",
   "execution_count": null,
   "metadata": {},
   "outputs": [],
   "source": []
  },
  {
   "cell_type": "code",
   "execution_count": null,
   "metadata": {},
   "outputs": [],
   "source": []
  }
 ],
 "metadata": {
  "kernelspec": {
   "display_name": "Julia 1.2.0",
   "language": "julia",
   "name": "julia-1.2"
  },
  "language_info": {
   "file_extension": ".jl",
   "mimetype": "application/julia",
   "name": "julia",
   "version": "1.2.0"
  }
 },
 "nbformat": 4,
 "nbformat_minor": 4
}
